{
 "cells": [
  {
   "cell_type": "markdown",
   "id": "efd77c91",
   "metadata": {},
   "source": [
    "# Flashpoint Analytics\n",
    "\n",
    "[Flashpoint](https://bluemaxima.org/flashpoint/) is a web-game preservation project, made in 2018 in an effort to save as many games as possible from the then upcoming Flash End-Of-Life, while also making them playable for everyone. Today, it hosts more than 170 000 games and thousands of active users all around the world.\n",
    "\n",
    "This notebook contains a descriptive statistical analysis about the games available in Flashpoint, with an emphasis on categorical data, such as the technology that was used to make them or the publisher who used to host them in the past.\n",
    "\n",
    "The Flashpoint database, which keeps all the data that will be used in the analysis, can be found [here](http://infinity.unstable.life/Flashpoint/Data/flashpoint.sqlite)."
   ]
  },
  {
   "cell_type": "markdown",
   "id": "b17ba56c",
   "metadata": {},
   "source": [
    "## Import modules"
   ]
  },
  {
   "cell_type": "code",
   "execution_count": 1,
   "id": "fadfc7b6",
   "metadata": {},
   "outputs": [],
   "source": [
    "options(warn = -1)\n",
    "library(RSQLite)\n",
    "library(dplyr, warn.conflicts=FALSE)\n",
    "library(ggplot2)\n",
    "library(lubridate, warn.conflicts=FALSE)\n",
    "library(tidyr)"
   ]
  },
  {
   "cell_type": "markdown",
   "id": "5d0cde3d",
   "metadata": {},
   "source": [
    "These are the modules that we are going to use for our analysis. Notably:\n",
    "* *RSQLite* allows us to communicate with a SQLite database;\n",
    "* *dplyr*, *ggplot2*, *lubridate* and *tidyr* are part of the *tidyverse*, a set of very useful packages for data science."
   ]
  },
  {
   "cell_type": "markdown",
   "id": "60340bd0",
   "metadata": {},
   "source": [
    "## Retrieve data"
   ]
  },
  {
   "cell_type": "code",
   "execution_count": 2,
   "id": "85606847",
   "metadata": {},
   "outputs": [],
   "source": [
    "dir.create(\"data\")\n",
    "url <- \"http://infinity.unstable.life/Flashpoint/Data/flashpoint.sqlite\"\n",
    "destfile <- \"data/flashpoint.sqlite\"\n",
    "\n",
    "# by default, there is a 60 seconds timeout limit when downloading a file\n",
    "# this can be a problem when downloading large files, so we increase that limit\n",
    "options(timeout = 300)\n",
    "\n",
    "download.file(url, destfile)\n",
    "  \n",
    "con <- dbConnect(SQLite(), \"data/flashpoint.sqlite\")\n",
    "games <- dbReadTable(con, \"game\")\n",
    "dbDisconnect(con)"
   ]
  },
  {
   "cell_type": "markdown",
   "id": "82484550",
   "metadata": {},
   "source": [
    "## Explore data "
   ]
  },
  {
   "cell_type": "markdown",
   "id": "95f78036",
   "metadata": {},
   "source": [
    "Let's have a first look at our data."
   ]
  },
  {
   "cell_type": "code",
   "execution_count": 3,
   "id": "be57b776",
   "metadata": {},
   "outputs": [
    {
     "name": "stdout",
     "output_type": "stream",
     "text": [
      "'data.frame':\t177469 obs. of  27 variables:\n",
      " $ id                 : chr  \"6db72888-6aa5-34c9-0ff3-ffe4cfe0fc61\" \"3bba3af6-8e76-b2c8-b423-2d2d8bdfdd50\" \"fb479276-2325-4dbb-bafd-64fcc8aeb684\" \"7cdff5f4-11cb-b1de-51bc-bca13ef78adb\" ...\n",
      " $ parentGameId       : chr  \"6db72888-6aa5-34c9-0ff3-ffe4cfe0fc61\" \"3bba3af6-8e76-b2c8-b423-2d2d8bdfdd50\" \"fb479276-2325-4dbb-bafd-64fcc8aeb684\" \"7cdff5f4-11cb-b1de-51bc-bca13ef78adb\" ...\n",
      " $ title              : chr  \"All Grown Up: Krazy Karts\" \"Showdown: The Gunfighting Game\" \"Hamsterball Bowling\" \"Dunk Tank\" ...\n",
      " $ alternateTitles    : chr  \"\" \"\" \"\" \"\" ...\n",
      " $ series             : chr  \"\" \"\" \"\" \"\" ...\n",
      " $ developer          : chr  \"Ezone\" \"3D Groove\" \"Ezone\" \"Ezone\" ...\n",
      " $ publisher          : chr  \"Nickelodeon\" \"3D Groove\" \"atv.Disney.go.com\" \"atv.Disney.go.com\" ...\n",
      " $ dateAdded          : chr  \"2019-06-23 04:12:17.521\" \"2019-06-16 23:56:03.150\" \"2019-06-16 23:56:02.253\" \"2019-06-16 23:56:01.645\" ...\n",
      " $ dateModified       : chr  \"2021-03-07 02:06:08\" \"2021-03-07 02:06:08\" \"2022-07-24 14:10:21\" \"2022-07-24 14:10:21\" ...\n",
      " $ platform           : chr  \"3D Groove GX\" \"3D Groove GX\" \"3D Groove GX\" \"3D Groove GX\" ...\n",
      " $ broken             : int  0 0 0 0 0 0 0 0 0 0 ...\n",
      " $ extreme            : int  0 0 0 0 0 0 0 0 0 0 ...\n",
      " $ playMode           : chr  \"Single Player\" \"Single Player\" \"Single Player\" \"Single Player\" ...\n",
      " $ status             : chr  \"Playable\" \"Playable\" \"Playable\" \"Playable\" ...\n",
      " $ notes              : chr  \"\" \"\" \"\" \"\" ...\n",
      " $ source             : chr  \"static.nickjr.com\" \"www.3dgroove.com\" \"Tomysshadow\" \"Tomysshadow\" ...\n",
      " $ applicationPath    : chr  \"FPSoftware\\\\startGroove.bat\" \"FPSoftware\\\\startGroove.bat\" \"FPSoftware\\\\startGroove.bat\" \"FPSoftware\\\\startGroove.bat\" ...\n",
      " $ launchCommand      : chr  \"\\\"http://www.nick.com/games/data/rrgrownup/rrgp_krazykarts/code.grv\\\" agukart\" \"\\\"http://www.3dgroove.com/website/gunfight.grv\\\" Showdown\" \"\\\"http://atv.disney.go.com/disneychannel/disneychannelgames/games/hamsterballbowling/CODE.GRV\\\" hamsterballbowling\" \"\\\"http://atv.disney.go.com/disneychannel/media/disneychannelgames/dunktank/CODE.GRV\\\" dunktank\" ...\n",
      " $ releaseDate        : chr  \"\" \"\" \"\" \"\" ...\n",
      " $ version            : chr  \"\" \"\" \"\" \"\" ...\n",
      " $ originalDescription: chr  \"\" \"\" \"\" \"\" ...\n",
      " $ language           : chr  \"\" \"\" \"\" \"\" ...\n",
      " $ library            : chr  \"arcade\" \"arcade\" \"arcade\" \"arcade\" ...\n",
      " $ orderTitle         : chr  \"all grown up: krazy karts\" \"showdown: the gunfighting game\" \"hamsterball bowling\" \"dunk tank\" ...\n",
      " $ activeDataId       : int  NA NA NA NA NA NA NA NA NA NA ...\n",
      " $ activeDataOnDisk   : int  0 0 0 0 0 0 0 0 0 0 ...\n",
      " $ tagsStr            : chr  \"Racing\" \"Shooter\" \"Arcade\" \"Arcade\" ...\n"
     ]
    }
   ],
   "source": [
    "str(games)"
   ]
  },
  {
   "cell_type": "markdown",
   "id": "56d61d91",
   "metadata": {},
   "source": [
    "There is a total of 27 variables and almost all of them belong to the *object* data type. We are going to need only some of them, so let's keep only the relevant ones."
   ]
  },
  {
   "cell_type": "code",
   "execution_count": 4,
   "id": "fce51272",
   "metadata": {},
   "outputs": [
    {
     "name": "stdout",
     "output_type": "stream",
     "text": [
      "'data.frame':\t177469 obs. of  9 variables:\n",
      " $ id         : chr  \"6db72888-6aa5-34c9-0ff3-ffe4cfe0fc61\" \"3bba3af6-8e76-b2c8-b423-2d2d8bdfdd50\" \"fb479276-2325-4dbb-bafd-64fcc8aeb684\" \"7cdff5f4-11cb-b1de-51bc-bca13ef78adb\" ...\n",
      " $ title      : chr  \"All Grown Up: Krazy Karts\" \"Showdown: The Gunfighting Game\" \"Hamsterball Bowling\" \"Dunk Tank\" ...\n",
      " $ developer  : chr  \"Ezone\" \"3D Groove\" \"Ezone\" \"Ezone\" ...\n",
      " $ publisher  : chr  \"Nickelodeon\" \"3D Groove\" \"atv.Disney.go.com\" \"atv.Disney.go.com\" ...\n",
      " $ platform   : chr  \"3D Groove GX\" \"3D Groove GX\" \"3D Groove GX\" \"3D Groove GX\" ...\n",
      " $ releaseDate: chr  \"\" \"\" \"\" \"\" ...\n",
      " $ language   : chr  \"\" \"\" \"\" \"\" ...\n",
      " $ library    : chr  \"arcade\" \"arcade\" \"arcade\" \"arcade\" ...\n",
      " $ tagsStr    : chr  \"Racing\" \"Shooter\" \"Arcade\" \"Arcade\" ...\n"
     ]
    }
   ],
   "source": [
    "games <- games %>% select(id, title, developer, publisher, platform,\n",
    "                          releaseDate, language, library, tagsStr)\n",
    "\n",
    "str(games)"
   ]
  },
  {
   "cell_type": "markdown",
   "id": "558c2136",
   "metadata": {},
   "source": [
    "To complete our preliminary analysis, let's print the first rows of our dataframe."
   ]
  },
  {
   "cell_type": "code",
   "execution_count": 5,
   "id": "0e82f557",
   "metadata": {},
   "outputs": [
    {
     "data": {
      "text/html": [
       "<table class=\"dataframe\">\n",
       "<caption>A data.frame: 6 × 9</caption>\n",
       "<thead>\n",
       "\t<tr><th></th><th scope=col>id</th><th scope=col>title</th><th scope=col>developer</th><th scope=col>publisher</th><th scope=col>platform</th><th scope=col>releaseDate</th><th scope=col>language</th><th scope=col>library</th><th scope=col>tagsStr</th></tr>\n",
       "\t<tr><th></th><th scope=col>&lt;chr&gt;</th><th scope=col>&lt;chr&gt;</th><th scope=col>&lt;chr&gt;</th><th scope=col>&lt;chr&gt;</th><th scope=col>&lt;chr&gt;</th><th scope=col>&lt;chr&gt;</th><th scope=col>&lt;chr&gt;</th><th scope=col>&lt;chr&gt;</th><th scope=col>&lt;chr&gt;</th></tr>\n",
       "</thead>\n",
       "<tbody>\n",
       "\t<tr><th scope=row>1</th><td>6db72888-6aa5-34c9-0ff3-ffe4cfe0fc61</td><td>All Grown Up: Krazy Karts                     </td><td>Ezone    </td><td>Nickelodeon          </td><td>3D Groove GX</td><td></td><td>  </td><td>arcade</td><td>Racing                  </td></tr>\n",
       "\t<tr><th scope=row>2</th><td>3bba3af6-8e76-b2c8-b423-2d2d8bdfdd50</td><td>Showdown: The Gunfighting Game                </td><td>3D Groove</td><td>3D Groove            </td><td>3D Groove GX</td><td></td><td>  </td><td>arcade</td><td>Shooter                 </td></tr>\n",
       "\t<tr><th scope=row>3</th><td>fb479276-2325-4dbb-bafd-64fcc8aeb684</td><td>Hamsterball Bowling                           </td><td>Ezone    </td><td>atv.Disney.go.com    </td><td>3D Groove GX</td><td></td><td>  </td><td>arcade</td><td>Arcade                  </td></tr>\n",
       "\t<tr><th scope=row>4</th><td>7cdff5f4-11cb-b1de-51bc-bca13ef78adb</td><td>Dunk Tank                                     </td><td>Ezone    </td><td>atv.Disney.go.com    </td><td>3D Groove GX</td><td></td><td>  </td><td>arcade</td><td>Arcade                  </td></tr>\n",
       "\t<tr><th scope=row>5</th><td>1d9ff021-2404-9785-bb7d-0fceda67a55d</td><td>Baby Knight                                   </td><td>Pepworks </td><td>Pepworks             </td><td>3D Groove GX</td><td></td><td>  </td><td>arcade</td><td>Platformer              </td></tr>\n",
       "\t<tr><th scope=row>6</th><td>65caa1b2-6702-4aad-8108-790be1ef86e2</td><td>Yin Yang Yo: The Dangerous Comic Book of Dread</td><td>Ezone    </td><td>a.media.global.go.com</td><td>3D Groove GX</td><td></td><td>en</td><td>arcade</td><td>Platformer; Yin Yang Yo!</td></tr>\n",
       "</tbody>\n",
       "</table>\n"
      ],
      "text/latex": [
       "A data.frame: 6 × 9\n",
       "\\begin{tabular}{r|lllllllll}\n",
       "  & id & title & developer & publisher & platform & releaseDate & language & library & tagsStr\\\\\n",
       "  & <chr> & <chr> & <chr> & <chr> & <chr> & <chr> & <chr> & <chr> & <chr>\\\\\n",
       "\\hline\n",
       "\t1 & 6db72888-6aa5-34c9-0ff3-ffe4cfe0fc61 & All Grown Up: Krazy Karts                      & Ezone     & Nickelodeon           & 3D Groove GX &  &    & arcade & Racing                  \\\\\n",
       "\t2 & 3bba3af6-8e76-b2c8-b423-2d2d8bdfdd50 & Showdown: The Gunfighting Game                 & 3D Groove & 3D Groove             & 3D Groove GX &  &    & arcade & Shooter                 \\\\\n",
       "\t3 & fb479276-2325-4dbb-bafd-64fcc8aeb684 & Hamsterball Bowling                            & Ezone     & atv.Disney.go.com     & 3D Groove GX &  &    & arcade & Arcade                  \\\\\n",
       "\t4 & 7cdff5f4-11cb-b1de-51bc-bca13ef78adb & Dunk Tank                                      & Ezone     & atv.Disney.go.com     & 3D Groove GX &  &    & arcade & Arcade                  \\\\\n",
       "\t5 & 1d9ff021-2404-9785-bb7d-0fceda67a55d & Baby Knight                                    & Pepworks  & Pepworks              & 3D Groove GX &  &    & arcade & Platformer              \\\\\n",
       "\t6 & 65caa1b2-6702-4aad-8108-790be1ef86e2 & Yin Yang Yo: The Dangerous Comic Book of Dread & Ezone     & a.media.global.go.com & 3D Groove GX &  & en & arcade & Platformer; Yin Yang Yo!\\\\\n",
       "\\end{tabular}\n"
      ],
      "text/markdown": [
       "\n",
       "A data.frame: 6 × 9\n",
       "\n",
       "| <!--/--> | id &lt;chr&gt; | title &lt;chr&gt; | developer &lt;chr&gt; | publisher &lt;chr&gt; | platform &lt;chr&gt; | releaseDate &lt;chr&gt; | language &lt;chr&gt; | library &lt;chr&gt; | tagsStr &lt;chr&gt; |\n",
       "|---|---|---|---|---|---|---|---|---|---|\n",
       "| 1 | 6db72888-6aa5-34c9-0ff3-ffe4cfe0fc61 | All Grown Up: Krazy Karts                      | Ezone     | Nickelodeon           | 3D Groove GX | <!----> | <!----> | arcade | Racing                   |\n",
       "| 2 | 3bba3af6-8e76-b2c8-b423-2d2d8bdfdd50 | Showdown: The Gunfighting Game                 | 3D Groove | 3D Groove             | 3D Groove GX | <!----> | <!----> | arcade | Shooter                  |\n",
       "| 3 | fb479276-2325-4dbb-bafd-64fcc8aeb684 | Hamsterball Bowling                            | Ezone     | atv.Disney.go.com     | 3D Groove GX | <!----> | <!----> | arcade | Arcade                   |\n",
       "| 4 | 7cdff5f4-11cb-b1de-51bc-bca13ef78adb | Dunk Tank                                      | Ezone     | atv.Disney.go.com     | 3D Groove GX | <!----> | <!----> | arcade | Arcade                   |\n",
       "| 5 | 1d9ff021-2404-9785-bb7d-0fceda67a55d | Baby Knight                                    | Pepworks  | Pepworks              | 3D Groove GX | <!----> | <!----> | arcade | Platformer               |\n",
       "| 6 | 65caa1b2-6702-4aad-8108-790be1ef86e2 | Yin Yang Yo: The Dangerous Comic Book of Dread | Ezone     | a.media.global.go.com | 3D Groove GX | <!----> | en | arcade | Platformer; Yin Yang Yo! |\n",
       "\n"
      ],
      "text/plain": [
       "  id                                  \n",
       "1 6db72888-6aa5-34c9-0ff3-ffe4cfe0fc61\n",
       "2 3bba3af6-8e76-b2c8-b423-2d2d8bdfdd50\n",
       "3 fb479276-2325-4dbb-bafd-64fcc8aeb684\n",
       "4 7cdff5f4-11cb-b1de-51bc-bca13ef78adb\n",
       "5 1d9ff021-2404-9785-bb7d-0fceda67a55d\n",
       "6 65caa1b2-6702-4aad-8108-790be1ef86e2\n",
       "  title                                          developer\n",
       "1 All Grown Up: Krazy Karts                      Ezone    \n",
       "2 Showdown: The Gunfighting Game                 3D Groove\n",
       "3 Hamsterball Bowling                            Ezone    \n",
       "4 Dunk Tank                                      Ezone    \n",
       "5 Baby Knight                                    Pepworks \n",
       "6 Yin Yang Yo: The Dangerous Comic Book of Dread Ezone    \n",
       "  publisher             platform     releaseDate language library\n",
       "1 Nickelodeon           3D Groove GX                      arcade \n",
       "2 3D Groove             3D Groove GX                      arcade \n",
       "3 atv.Disney.go.com     3D Groove GX                      arcade \n",
       "4 atv.Disney.go.com     3D Groove GX                      arcade \n",
       "5 Pepworks              3D Groove GX                      arcade \n",
       "6 a.media.global.go.com 3D Groove GX             en       arcade \n",
       "  tagsStr                 \n",
       "1 Racing                  \n",
       "2 Shooter                 \n",
       "3 Arcade                  \n",
       "4 Arcade                  \n",
       "5 Platformer              \n",
       "6 Platformer; Yin Yang Yo!"
      ]
     },
     "metadata": {},
     "output_type": "display_data"
    }
   ],
   "source": [
    "head(games)"
   ]
  },
  {
   "cell_type": "markdown",
   "id": "f1ed3d57",
   "metadata": {},
   "source": [
    "## Analyze data "
   ]
  },
  {
   "cell_type": "markdown",
   "id": "f57c0355",
   "metadata": {},
   "source": [
    "### Developers and Publishers"
   ]
  },
  {
   "cell_type": "markdown",
   "id": "0ba01f5c",
   "metadata": {},
   "source": [
    "It would be interesting to know which are the most prolific developers and publishers. Let's find out by creating a frequency table for each variable and looking at the first ten entries."
   ]
  },
  {
   "cell_type": "code",
   "execution_count": 6,
   "id": "bda7f56d",
   "metadata": {},
   "outputs": [
    {
     "data": {
      "text/html": [
       "<table class=\"dataframe\">\n",
       "<caption>A data.frame: 10 × 2</caption>\n",
       "<thead>\n",
       "\t<tr><th></th><th scope=col>developer</th><th scope=col>n</th></tr>\n",
       "\t<tr><th></th><th scope=col>&lt;chr&gt;</th><th scope=col>&lt;int&gt;</th></tr>\n",
       "</thead>\n",
       "<tbody>\n",
       "\t<tr><th scope=row>1</th><td>               </td><td>46151</td></tr>\n",
       "\t<tr><th scope=row>2</th><td>123Bee         </td><td> 2730</td></tr>\n",
       "\t<tr><th scope=row>3</th><td>Games2Rule     </td><td> 2441</td></tr>\n",
       "\t<tr><th scope=row>4</th><td>Games2Jolly.com</td><td> 1915</td></tr>\n",
       "\t<tr><th scope=row>5</th><td>Selfdefiant    </td><td> 1603</td></tr>\n",
       "\t<tr><th scope=row>6</th><td>WowEscape.com  </td><td> 1436</td></tr>\n",
       "\t<tr><th scope=row>7</th><td>Top10NewGames  </td><td> 1144</td></tr>\n",
       "\t<tr><th scope=row>8</th><td>PalmarianFire  </td><td> 1059</td></tr>\n",
       "\t<tr><th scope=row>9</th><td>Ena Game Studio</td><td> 1031</td></tr>\n",
       "\t<tr><th scope=row>10</th><td>Neopets        </td><td>  957</td></tr>\n",
       "</tbody>\n",
       "</table>\n"
      ],
      "text/latex": [
       "A data.frame: 10 × 2\n",
       "\\begin{tabular}{r|ll}\n",
       "  & developer & n\\\\\n",
       "  & <chr> & <int>\\\\\n",
       "\\hline\n",
       "\t1 &                 & 46151\\\\\n",
       "\t2 & 123Bee          &  2730\\\\\n",
       "\t3 & Games2Rule      &  2441\\\\\n",
       "\t4 & Games2Jolly.com &  1915\\\\\n",
       "\t5 & Selfdefiant     &  1603\\\\\n",
       "\t6 & WowEscape.com   &  1436\\\\\n",
       "\t7 & Top10NewGames   &  1144\\\\\n",
       "\t8 & PalmarianFire   &  1059\\\\\n",
       "\t9 & Ena Game Studio &  1031\\\\\n",
       "\t10 & Neopets         &   957\\\\\n",
       "\\end{tabular}\n"
      ],
      "text/markdown": [
       "\n",
       "A data.frame: 10 × 2\n",
       "\n",
       "| <!--/--> | developer &lt;chr&gt; | n &lt;int&gt; |\n",
       "|---|---|---|\n",
       "| 1 | <!----> | 46151 |\n",
       "| 2 | 123Bee          |  2730 |\n",
       "| 3 | Games2Rule      |  2441 |\n",
       "| 4 | Games2Jolly.com |  1915 |\n",
       "| 5 | Selfdefiant     |  1603 |\n",
       "| 6 | WowEscape.com   |  1436 |\n",
       "| 7 | Top10NewGames   |  1144 |\n",
       "| 8 | PalmarianFire   |  1059 |\n",
       "| 9 | Ena Game Studio |  1031 |\n",
       "| 10 | Neopets         |   957 |\n",
       "\n"
      ],
      "text/plain": [
       "   developer       n    \n",
       "1                  46151\n",
       "2  123Bee           2730\n",
       "3  Games2Rule       2441\n",
       "4  Games2Jolly.com  1915\n",
       "5  Selfdefiant      1603\n",
       "6  WowEscape.com    1436\n",
       "7  Top10NewGames    1144\n",
       "8  PalmarianFire    1059\n",
       "9  Ena Game Studio  1031\n",
       "10 Neopets           957"
      ]
     },
     "metadata": {},
     "output_type": "display_data"
    }
   ],
   "source": [
    "top_developers <- games %>% count(developer) %>% arrange(desc(n)) %>% head(10)\n",
    "top_developers"
   ]
  },
  {
   "cell_type": "markdown",
   "id": "9d4cdd49",
   "metadata": {},
   "source": [
    "The first row is blank because some games (actually, most of them) do not have a developer value associated in the database. Let's filter out those entries."
   ]
  },
  {
   "cell_type": "code",
   "execution_count": 7,
   "id": "0f1aaf6c",
   "metadata": {},
   "outputs": [
    {
     "data": {
      "text/html": [
       "<table class=\"dataframe\">\n",
       "<caption>A data.frame: 10 × 2</caption>\n",
       "<thead>\n",
       "\t<tr><th></th><th scope=col>developer</th><th scope=col>n</th></tr>\n",
       "\t<tr><th></th><th scope=col>&lt;chr&gt;</th><th scope=col>&lt;int&gt;</th></tr>\n",
       "</thead>\n",
       "<tbody>\n",
       "\t<tr><th scope=row>1</th><td>123Bee         </td><td>2730</td></tr>\n",
       "\t<tr><th scope=row>2</th><td>Games2Rule     </td><td>2441</td></tr>\n",
       "\t<tr><th scope=row>3</th><td>Games2Jolly.com</td><td>1915</td></tr>\n",
       "\t<tr><th scope=row>4</th><td>Selfdefiant    </td><td>1603</td></tr>\n",
       "\t<tr><th scope=row>5</th><td>WowEscape.com  </td><td>1436</td></tr>\n",
       "\t<tr><th scope=row>6</th><td>Top10NewGames  </td><td>1144</td></tr>\n",
       "\t<tr><th scope=row>7</th><td>PalmarianFire  </td><td>1059</td></tr>\n",
       "\t<tr><th scope=row>8</th><td>Ena Game Studio</td><td>1031</td></tr>\n",
       "\t<tr><th scope=row>9</th><td>Neopets        </td><td> 957</td></tr>\n",
       "\t<tr><th scope=row>10</th><td>Mirchi Games   </td><td> 812</td></tr>\n",
       "</tbody>\n",
       "</table>\n"
      ],
      "text/latex": [
       "A data.frame: 10 × 2\n",
       "\\begin{tabular}{r|ll}\n",
       "  & developer & n\\\\\n",
       "  & <chr> & <int>\\\\\n",
       "\\hline\n",
       "\t1 & 123Bee          & 2730\\\\\n",
       "\t2 & Games2Rule      & 2441\\\\\n",
       "\t3 & Games2Jolly.com & 1915\\\\\n",
       "\t4 & Selfdefiant     & 1603\\\\\n",
       "\t5 & WowEscape.com   & 1436\\\\\n",
       "\t6 & Top10NewGames   & 1144\\\\\n",
       "\t7 & PalmarianFire   & 1059\\\\\n",
       "\t8 & Ena Game Studio & 1031\\\\\n",
       "\t9 & Neopets         &  957\\\\\n",
       "\t10 & Mirchi Games    &  812\\\\\n",
       "\\end{tabular}\n"
      ],
      "text/markdown": [
       "\n",
       "A data.frame: 10 × 2\n",
       "\n",
       "| <!--/--> | developer &lt;chr&gt; | n &lt;int&gt; |\n",
       "|---|---|---|\n",
       "| 1 | 123Bee          | 2730 |\n",
       "| 2 | Games2Rule      | 2441 |\n",
       "| 3 | Games2Jolly.com | 1915 |\n",
       "| 4 | Selfdefiant     | 1603 |\n",
       "| 5 | WowEscape.com   | 1436 |\n",
       "| 6 | Top10NewGames   | 1144 |\n",
       "| 7 | PalmarianFire   | 1059 |\n",
       "| 8 | Ena Game Studio | 1031 |\n",
       "| 9 | Neopets         |  957 |\n",
       "| 10 | Mirchi Games    |  812 |\n",
       "\n"
      ],
      "text/plain": [
       "   developer       n   \n",
       "1  123Bee          2730\n",
       "2  Games2Rule      2441\n",
       "3  Games2Jolly.com 1915\n",
       "4  Selfdefiant     1603\n",
       "5  WowEscape.com   1436\n",
       "6  Top10NewGames   1144\n",
       "7  PalmarianFire   1059\n",
       "8  Ena Game Studio 1031\n",
       "9  Neopets          957\n",
       "10 Mirchi Games     812"
      ]
     },
     "metadata": {},
     "output_type": "display_data"
    }
   ],
   "source": [
    "top_developers <- games %>% filter(developer != \"\") %>% count(developer) %>%\n",
    "  arrange(desc(n)) %>% head(10)\n",
    "top_developers"
   ]
  },
  {
   "cell_type": "markdown",
   "id": "5dba6d26",
   "metadata": {},
   "source": [
    "These are the most represented developers in the database. It is impressive to notice that almost all of them are known to be specialised in escape games, which we can suppose to be a very popular genre; we will dig into this later. Lastly, a special mention for Neopets, which managed to build a passionate community still active after over 20 years."
   ]
  },
  {
   "cell_type": "code",
   "execution_count": 8,
   "id": "7801a48a",
   "metadata": {},
   "outputs": [
    {
     "data": {
      "text/html": [
       "<table class=\"dataframe\">\n",
       "<caption>A data.frame: 10 × 2</caption>\n",
       "<thead>\n",
       "\t<tr><th></th><th scope=col>publisher</th><th scope=col>n</th></tr>\n",
       "\t<tr><th></th><th scope=col>&lt;chr&gt;</th><th scope=col>&lt;int&gt;</th></tr>\n",
       "</thead>\n",
       "<tbody>\n",
       "\t<tr><th scope=row>1</th><td>DeviantArt     </td><td>7655</td></tr>\n",
       "\t<tr><th scope=row>2</th><td>Newgrounds     </td><td>6550</td></tr>\n",
       "\t<tr><th scope=row>3</th><td>Disney         </td><td>2428</td></tr>\n",
       "\t<tr><th scope=row>4</th><td>Nickelodeon    </td><td>1659</td></tr>\n",
       "\t<tr><th scope=row>5</th><td>Armor Games    </td><td>1437</td></tr>\n",
       "\t<tr><th scope=row>6</th><td>GameMonetize   </td><td>1374</td></tr>\n",
       "\t<tr><th scope=row>7</th><td>Eka's Portal   </td><td>1261</td></tr>\n",
       "\t<tr><th scope=row>8</th><td>Cartoon Network</td><td>1243</td></tr>\n",
       "\t<tr><th scope=row>9</th><td>Kongregate     </td><td>1219</td></tr>\n",
       "\t<tr><th scope=row>10</th><td>Melting-Mindz  </td><td>1214</td></tr>\n",
       "</tbody>\n",
       "</table>\n"
      ],
      "text/latex": [
       "A data.frame: 10 × 2\n",
       "\\begin{tabular}{r|ll}\n",
       "  & publisher & n\\\\\n",
       "  & <chr> & <int>\\\\\n",
       "\\hline\n",
       "\t1 & DeviantArt      & 7655\\\\\n",
       "\t2 & Newgrounds      & 6550\\\\\n",
       "\t3 & Disney          & 2428\\\\\n",
       "\t4 & Nickelodeon     & 1659\\\\\n",
       "\t5 & Armor Games     & 1437\\\\\n",
       "\t6 & GameMonetize    & 1374\\\\\n",
       "\t7 & Eka's Portal    & 1261\\\\\n",
       "\t8 & Cartoon Network & 1243\\\\\n",
       "\t9 & Kongregate      & 1219\\\\\n",
       "\t10 & Melting-Mindz   & 1214\\\\\n",
       "\\end{tabular}\n"
      ],
      "text/markdown": [
       "\n",
       "A data.frame: 10 × 2\n",
       "\n",
       "| <!--/--> | publisher &lt;chr&gt; | n &lt;int&gt; |\n",
       "|---|---|---|\n",
       "| 1 | DeviantArt      | 7655 |\n",
       "| 2 | Newgrounds      | 6550 |\n",
       "| 3 | Disney          | 2428 |\n",
       "| 4 | Nickelodeon     | 1659 |\n",
       "| 5 | Armor Games     | 1437 |\n",
       "| 6 | GameMonetize    | 1374 |\n",
       "| 7 | Eka's Portal    | 1261 |\n",
       "| 8 | Cartoon Network | 1243 |\n",
       "| 9 | Kongregate      | 1219 |\n",
       "| 10 | Melting-Mindz   | 1214 |\n",
       "\n"
      ],
      "text/plain": [
       "   publisher       n   \n",
       "1  DeviantArt      7655\n",
       "2  Newgrounds      6550\n",
       "3  Disney          2428\n",
       "4  Nickelodeon     1659\n",
       "5  Armor Games     1437\n",
       "6  GameMonetize    1374\n",
       "7  Eka's Portal    1261\n",
       "8  Cartoon Network 1243\n",
       "9  Kongregate      1219\n",
       "10 Melting-Mindz   1214"
      ]
     },
     "metadata": {},
     "output_type": "display_data"
    }
   ],
   "source": [
    "top_publishers <- games %>% filter(publisher != \"\") %>% count(publisher) %>%\n",
    "  arrange(desc(n)) %>% head(10)\n",
    "top_publishers"
   ]
  },
  {
   "cell_type": "markdown",
   "id": "afff4c5c",
   "metadata": {},
   "source": [
    "Among the publishers, we can see some very renowned names, at least in the gaming community, like *Newgrounds*, *Armor Games* and *Kongregate*. There is also a considerable amount of games published by TV broadcasters, such as *Disney*, *Nickelodeon* and *Cartoon Network*, supposedly to promote their shows."
   ]
  },
  {
   "cell_type": "markdown",
   "id": "cb024184",
   "metadata": {},
   "source": [
    "Now let's look at a visualization of the same data, by making use of bar plots and pie charts."
   ]
  },
  {
   "cell_type": "code",
   "execution_count": 9,
   "id": "f35e6e31",
   "metadata": {},
   "outputs": [
    {
     "data": {
      "image/png": "[encoded data removed]",
      "text/plain": [
       "plot without title"
      ]
     },
     "metadata": {
      "image/png": {
       "height": 420,
       "width": 420
      }
     },
     "output_type": "display_data"
    }
   ],
   "source": [
    "top_developers %>% as.data.frame() %>%\n",
    "  ggplot(aes(x = reorder(developer, n), y = n, fill = developer)) +\n",
    "  geom_bar(stat = \"identity\") + coord_flip() +\n",
    "  scale_y_continuous(breaks = seq(0, 2500, by = 500)) +\n",
    "  ggtitle(\"Top ten developers distribution\") +\n",
    "  theme(legend.position = \"none\", axis.title.x = element_blank(),\n",
    "        axis.title.y = element_blank(),\n",
    "        axis.text.y = element_text(face = \"bold\"))"
   ]
  },
  {
   "cell_type": "code",
   "execution_count": 10,
   "id": "59d86f52",
   "metadata": {},
   "outputs": [
    {
     "data": {
      "image/png": "[encoded data removed]",
      "text/plain": [
       "plot without title"
      ]
     },
     "metadata": {
      "image/png": {
       "height": 420,
       "width": 420
      }
     },
     "output_type": "display_data"
    }
   ],
   "source": [
    "sizes <- round(top_developers$n / sum(top_developers$n) * 100, 1)\n",
    "labels <- vector()\n",
    "\n",
    "for(i in 1:(length(sizes))){\n",
    "  labels[i] <- paste(top_developers$developer[i], \"-\", toString(sizes[i]), \"%\")\n",
    "}\n",
    "  \n",
    "top_developers %>% as.data.frame() %>%\n",
    "  ggplot(aes(x = \"\", y = sizes, fill = reorder(developer, -n))) +\n",
    "  geom_bar(stat = \"identity\", width = 1, color = \"black\") +\n",
    "  coord_polar(theta = \"y\", start = 0) +\n",
    "  theme(axis.text = element_blank(), axis.title.x = element_blank(),\n",
    "        axis.title.y = element_blank(),\n",
    "        legend.title = element_blank()) +\n",
    "  scale_fill_discrete(labels = labels) +\n",
    "  ggtitle(\"Top ten developers distribution\")"
   ]
  },
  {
   "cell_type": "code",
   "execution_count": 11,
   "id": "0e2781fa",
   "metadata": {
    "scrolled": false
   },
   "outputs": [
    {
     "data": {
      "image/png": "[encoded data removed]",
      "text/plain": [
       "plot without title"
      ]
     },
     "metadata": {
      "image/png": {
       "height": 420,
       "width": 420
      }
     },
     "output_type": "display_data"
    }
   ],
   "source": [
    "top_publishers %>% as.data.frame() %>%\n",
    "  ggplot(aes(x = reorder(publisher, n), y = n, fill = publisher)) +\n",
    "  geom_bar(stat = \"identity\") + coord_flip() +\n",
    "  scale_y_continuous(breaks = seq(0, 8000, by = 1000)) +\n",
    "  ggtitle(\"Top ten publishers distribution\") +\n",
    "  theme(legend.position = \"none\", axis.title.x = element_blank(),\n",
    "        axis.title.y = element_blank(),\n",
    "        axis.text.y = element_text(face = \"bold\"))"
   ]
  },
  {
   "cell_type": "code",
   "execution_count": 12,
   "id": "2439d4e9",
   "metadata": {},
   "outputs": [
    {
     "data": {
      "image/png": "[encoded data removed]",
      "text/plain": [
       "plot without title"
      ]
     },
     "metadata": {
      "image/png": {
       "height": 420,
       "width": 420
      }
     },
     "output_type": "display_data"
    }
   ],
   "source": [
    "sizes <- round(top_publishers$n / sum(top_publishers$n) * 100, 1)\n",
    "labels <- vector()\n",
    "\n",
    "for(i in 1:(length(sizes))){\n",
    "  labels[i] <- paste(top_publishers$publisher[i], \"-\", toString(sizes[i]), \"%\")\n",
    "}\n",
    "\n",
    "top_publishers %>% as.data.frame() %>%\n",
    "  ggplot(aes(x = \"\", y = sizes, fill = reorder(publisher, -n))) +\n",
    "  geom_bar(stat = \"identity\", width = 1, color = \"black\") +\n",
    "  coord_polar(theta = \"y\", start = 0) +\n",
    "  theme(axis.text = element_blank(), axis.title.x = element_blank(),\n",
    "        axis.title.y = element_blank(),\n",
    "        legend.title = element_blank()) +\n",
    "  scale_fill_discrete(labels = labels) +\n",
    "  ggtitle(\"Top ten publishers distribution\")"
   ]
  },
  {
   "cell_type": "markdown",
   "id": "5ba98663",
   "metadata": {},
   "source": [
    "### Release Dates and Platforms"
   ]
  },
  {
   "cell_type": "markdown",
   "id": "a34e90a3",
   "metadata": {},
   "source": [
    "Flash games started to appear towards the end of the twentieth century and became popular in the next decade. Let's observe the release dates we have got here, being aware that they are not specified for all games."
   ]
  },
  {
   "cell_type": "code",
   "execution_count": 13,
   "id": "6e6c87c9",
   "metadata": {
    "scrolled": true
   },
   "outputs": [
    {
     "data": {
      "text/html": [
       "<table class=\"dataframe\">\n",
       "<caption>A data.frame: 6 × 4</caption>\n",
       "<thead>\n",
       "\t<tr><th></th><th scope=col>title</th><th scope=col>releaseDate</th><th scope=col>platform</th><th scope=col>library</th></tr>\n",
       "\t<tr><th></th><th scope=col>&lt;chr&gt;</th><th scope=col>&lt;chr&gt;</th><th scope=col>&lt;chr&gt;</th><th scope=col>&lt;chr&gt;</th></tr>\n",
       "</thead>\n",
       "<tbody>\n",
       "\t<tr><th scope=row>1</th><td>TankTrouble          </td><td>16-12-2007</td><td>Flash    </td><td>arcade </td></tr>\n",
       "\t<tr><th scope=row>2</th><td>Blastar              </td><td>1984      </td><td>HTML5    </td><td>arcade </td></tr>\n",
       "\t<tr><th scope=row>3</th><td>Idle Johnny          </td><td>1993      </td><td>Shockwave</td><td>theatre</td></tr>\n",
       "\t<tr><th scope=row>4</th><td>QP-Shot 1000         </td><td>1994      </td><td>Shockwave</td><td>arcade </td></tr>\n",
       "\t<tr><th scope=row>5</th><td>The Health Checkup   </td><td>1994      </td><td>Shockwave</td><td>theatre</td></tr>\n",
       "\t<tr><th scope=row>6</th><td>ZZZ...I want to sleep</td><td>1994      </td><td>Shockwave</td><td>theatre</td></tr>\n",
       "</tbody>\n",
       "</table>\n"
      ],
      "text/latex": [
       "A data.frame: 6 × 4\n",
       "\\begin{tabular}{r|llll}\n",
       "  & title & releaseDate & platform & library\\\\\n",
       "  & <chr> & <chr> & <chr> & <chr>\\\\\n",
       "\\hline\n",
       "\t1 & TankTrouble           & 16-12-2007 & Flash     & arcade \\\\\n",
       "\t2 & Blastar               & 1984       & HTML5     & arcade \\\\\n",
       "\t3 & Idle Johnny           & 1993       & Shockwave & theatre\\\\\n",
       "\t4 & QP-Shot 1000          & 1994       & Shockwave & arcade \\\\\n",
       "\t5 & The Health Checkup    & 1994       & Shockwave & theatre\\\\\n",
       "\t6 & ZZZ...I want to sleep & 1994       & Shockwave & theatre\\\\\n",
       "\\end{tabular}\n"
      ],
      "text/markdown": [
       "\n",
       "A data.frame: 6 × 4\n",
       "\n",
       "| <!--/--> | title &lt;chr&gt; | releaseDate &lt;chr&gt; | platform &lt;chr&gt; | library &lt;chr&gt; |\n",
       "|---|---|---|---|---|\n",
       "| 1 | TankTrouble           | 16-12-2007 | Flash     | arcade  |\n",
       "| 2 | Blastar               | 1984       | HTML5     | arcade  |\n",
       "| 3 | Idle Johnny           | 1993       | Shockwave | theatre |\n",
       "| 4 | QP-Shot 1000          | 1994       | Shockwave | arcade  |\n",
       "| 5 | The Health Checkup    | 1994       | Shockwave | theatre |\n",
       "| 6 | ZZZ...I want to sleep | 1994       | Shockwave | theatre |\n",
       "\n"
      ],
      "text/plain": [
       "  title                 releaseDate platform  library\n",
       "1 TankTrouble           16-12-2007  Flash     arcade \n",
       "2 Blastar               1984        HTML5     arcade \n",
       "3 Idle Johnny           1993        Shockwave theatre\n",
       "4 QP-Shot 1000          1994        Shockwave arcade \n",
       "5 The Health Checkup    1994        Shockwave theatre\n",
       "6 ZZZ...I want to sleep 1994        Shockwave theatre"
      ]
     },
     "metadata": {},
     "output_type": "display_data"
    },
    {
     "data": {
      "text/html": [
       "<table class=\"dataframe\">\n",
       "<caption>A data.frame: 6 × 4</caption>\n",
       "<thead>\n",
       "\t<tr><th></th><th scope=col>title</th><th scope=col>releaseDate</th><th scope=col>platform</th><th scope=col>library</th></tr>\n",
       "\t<tr><th></th><th scope=col>&lt;chr&gt;</th><th scope=col>&lt;chr&gt;</th><th scope=col>&lt;chr&gt;</th><th scope=col>&lt;chr&gt;</th></tr>\n",
       "</thead>\n",
       "<tbody>\n",
       "\t<tr><th scope=row>75992</th><td>T-Mobile Tuesdays: Win $2,300 for 2023!</td><td>2022-12-27</td><td>HTML5    </td><td>arcade </td></tr>\n",
       "\t<tr><th scope=row>75993</th><td>GWL Hayley Footjob (Commission)        </td><td>2080-10-05</td><td>Flash    </td><td>arcade </td></tr>\n",
       "\t<tr><th scope=row>75994</th><td>Havok Xtra Marble Demo                 </td><td>21/08/2001</td><td>Shockwave</td><td>arcade </td></tr>\n",
       "\t<tr><th scope=row>75995</th><td>Ray Cast Car                           </td><td>27/06/2001</td><td>Shockwave</td><td>arcade </td></tr>\n",
       "\t<tr><th scope=row>75996</th><td>(Gift) Luna's Christmas gift           </td><td>2917-12-26</td><td>Flash    </td><td>theatre</td></tr>\n",
       "\t<tr><th scope=row>75997</th><td>Havok Xtra RC Car Demo                 </td><td>7/1/2002  </td><td>Shockwave</td><td>arcade </td></tr>\n",
       "</tbody>\n",
       "</table>\n"
      ],
      "text/latex": [
       "A data.frame: 6 × 4\n",
       "\\begin{tabular}{r|llll}\n",
       "  & title & releaseDate & platform & library\\\\\n",
       "  & <chr> & <chr> & <chr> & <chr>\\\\\n",
       "\\hline\n",
       "\t75992 & T-Mobile Tuesdays: Win \\$2,300 for 2023! & 2022-12-27 & HTML5     & arcade \\\\\n",
       "\t75993 & GWL Hayley Footjob (Commission)         & 2080-10-05 & Flash     & arcade \\\\\n",
       "\t75994 & Havok Xtra Marble Demo                  & 21/08/2001 & Shockwave & arcade \\\\\n",
       "\t75995 & Ray Cast Car                            & 27/06/2001 & Shockwave & arcade \\\\\n",
       "\t75996 & (Gift) Luna's Christmas gift            & 2917-12-26 & Flash     & theatre\\\\\n",
       "\t75997 & Havok Xtra RC Car Demo                  & 7/1/2002   & Shockwave & arcade \\\\\n",
       "\\end{tabular}\n"
      ],
      "text/markdown": [
       "\n",
       "A data.frame: 6 × 4\n",
       "\n",
       "| <!--/--> | title &lt;chr&gt; | releaseDate &lt;chr&gt; | platform &lt;chr&gt; | library &lt;chr&gt; |\n",
       "|---|---|---|---|---|\n",
       "| 75992 | T-Mobile Tuesdays: Win $2,300 for 2023! | 2022-12-27 | HTML5     | arcade  |\n",
       "| 75993 | GWL Hayley Footjob (Commission)         | 2080-10-05 | Flash     | arcade  |\n",
       "| 75994 | Havok Xtra Marble Demo                  | 21/08/2001 | Shockwave | arcade  |\n",
       "| 75995 | Ray Cast Car                            | 27/06/2001 | Shockwave | arcade  |\n",
       "| 75996 | (Gift) Luna's Christmas gift            | 2917-12-26 | Flash     | theatre |\n",
       "| 75997 | Havok Xtra RC Car Demo                  | 7/1/2002   | Shockwave | arcade  |\n",
       "\n"
      ],
      "text/plain": [
       "      title                                   releaseDate platform  library\n",
       "75992 T-Mobile Tuesdays: Win $2,300 for 2023! 2022-12-27  HTML5     arcade \n",
       "75993 GWL Hayley Footjob (Commission)         2080-10-05  Flash     arcade \n",
       "75994 Havok Xtra Marble Demo                  21/08/2001  Shockwave arcade \n",
       "75995 Ray Cast Car                            27/06/2001  Shockwave arcade \n",
       "75996 (Gift) Luna's Christmas gift            2917-12-26  Flash     theatre\n",
       "75997 Havok Xtra RC Car Demo                  7/1/2002    Shockwave arcade "
      ]
     },
     "metadata": {},
     "output_type": "display_data"
    }
   ],
   "source": [
    "dates <- games %>% filter(releaseDate != \"\") %>%\n",
    "  select(title, releaseDate, platform, library) %>%\n",
    "  arrange(releaseDate)\n",
    "head(dates)\n",
    "tail(dates)"
   ]
  },
  {
   "cell_type": "markdown",
   "id": "88edf8e1",
   "metadata": {},
   "source": [
    "There seems to be a problem with the data. Entries should follow the \"YY-MM-DD\" date format as per Flashpoint guidelines, but some games come in a different one. In addition, if the exact day or month of release is unknown, it is allowed to specify the year only. Let's clean up our data for consistency."
   ]
  },
  {
   "cell_type": "code",
   "execution_count": 14,
   "id": "a9a2b05b",
   "metadata": {},
   "outputs": [
    {
     "data": {
      "text/html": [
       "<table class=\"dataframe\">\n",
       "<caption>A data.frame: 6 × 4</caption>\n",
       "<thead>\n",
       "\t<tr><th></th><th scope=col>title</th><th scope=col>releaseDate</th><th scope=col>platform</th><th scope=col>library</th></tr>\n",
       "\t<tr><th></th><th scope=col>&lt;chr&gt;</th><th scope=col>&lt;date&gt;</th><th scope=col>&lt;chr&gt;</th><th scope=col>&lt;chr&gt;</th></tr>\n",
       "</thead>\n",
       "<tbody>\n",
       "\t<tr><th scope=row>1</th><td>Blastar              </td><td>1984-01-01</td><td>HTML5    </td><td>arcade </td></tr>\n",
       "\t<tr><th scope=row>2</th><td>Idle Johnny          </td><td>1993-01-01</td><td>Shockwave</td><td>theatre</td></tr>\n",
       "\t<tr><th scope=row>3</th><td>QP-Shot 1000         </td><td>1994-01-01</td><td>Shockwave</td><td>arcade </td></tr>\n",
       "\t<tr><th scope=row>4</th><td>The Health Checkup   </td><td>1994-01-01</td><td>Shockwave</td><td>theatre</td></tr>\n",
       "\t<tr><th scope=row>5</th><td>ZZZ...I want to sleep</td><td>1994-01-01</td><td>Shockwave</td><td>theatre</td></tr>\n",
       "\t<tr><th scope=row>6</th><td>Dangerous Two        </td><td>1994-01-01</td><td>Shockwave</td><td>theatre</td></tr>\n",
       "</tbody>\n",
       "</table>\n"
      ],
      "text/latex": [
       "A data.frame: 6 × 4\n",
       "\\begin{tabular}{r|llll}\n",
       "  & title & releaseDate & platform & library\\\\\n",
       "  & <chr> & <date> & <chr> & <chr>\\\\\n",
       "\\hline\n",
       "\t1 & Blastar               & 1984-01-01 & HTML5     & arcade \\\\\n",
       "\t2 & Idle Johnny           & 1993-01-01 & Shockwave & theatre\\\\\n",
       "\t3 & QP-Shot 1000          & 1994-01-01 & Shockwave & arcade \\\\\n",
       "\t4 & The Health Checkup    & 1994-01-01 & Shockwave & theatre\\\\\n",
       "\t5 & ZZZ...I want to sleep & 1994-01-01 & Shockwave & theatre\\\\\n",
       "\t6 & Dangerous Two         & 1994-01-01 & Shockwave & theatre\\\\\n",
       "\\end{tabular}\n"
      ],
      "text/markdown": [
       "\n",
       "A data.frame: 6 × 4\n",
       "\n",
       "| <!--/--> | title &lt;chr&gt; | releaseDate &lt;date&gt; | platform &lt;chr&gt; | library &lt;chr&gt; |\n",
       "|---|---|---|---|---|\n",
       "| 1 | Blastar               | 1984-01-01 | HTML5     | arcade  |\n",
       "| 2 | Idle Johnny           | 1993-01-01 | Shockwave | theatre |\n",
       "| 3 | QP-Shot 1000          | 1994-01-01 | Shockwave | arcade  |\n",
       "| 4 | The Health Checkup    | 1994-01-01 | Shockwave | theatre |\n",
       "| 5 | ZZZ...I want to sleep | 1994-01-01 | Shockwave | theatre |\n",
       "| 6 | Dangerous Two         | 1994-01-01 | Shockwave | theatre |\n",
       "\n"
      ],
      "text/plain": [
       "  title                 releaseDate platform  library\n",
       "1 Blastar               1984-01-01  HTML5     arcade \n",
       "2 Idle Johnny           1993-01-01  Shockwave theatre\n",
       "3 QP-Shot 1000          1994-01-01  Shockwave arcade \n",
       "4 The Health Checkup    1994-01-01  Shockwave theatre\n",
       "5 ZZZ...I want to sleep 1994-01-01  Shockwave theatre\n",
       "6 Dangerous Two         1994-01-01  Shockwave theatre"
      ]
     },
     "metadata": {},
     "output_type": "display_data"
    },
    {
     "data": {
      "text/html": [
       "<table class=\"dataframe\">\n",
       "<caption>A data.frame: 6 × 4</caption>\n",
       "<thead>\n",
       "\t<tr><th></th><th scope=col>title</th><th scope=col>releaseDate</th><th scope=col>platform</th><th scope=col>library</th></tr>\n",
       "\t<tr><th></th><th scope=col>&lt;chr&gt;</th><th scope=col>&lt;date&gt;</th><th scope=col>&lt;chr&gt;</th><th scope=col>&lt;chr&gt;</th></tr>\n",
       "</thead>\n",
       "<tbody>\n",
       "\t<tr><th scope=row>75982</th><td>Awesome Game                           </td><td>2022-12-23</td><td>HTML5</td><td>arcade </td></tr>\n",
       "\t<tr><th scope=row>75983</th><td>Christmas in Vienna                    </td><td>2022-12-23</td><td>HTML5</td><td>arcade </td></tr>\n",
       "\t<tr><th scope=row>75984</th><td>Chrysler Building                      </td><td>2022-12-23</td><td>HTML5</td><td>arcade </td></tr>\n",
       "\t<tr><th scope=row>75985</th><td>T-Mobile Tuesdays: Win $2,300 for 2023!</td><td>2022-12-27</td><td>HTML5</td><td>arcade </td></tr>\n",
       "\t<tr><th scope=row>75986</th><td>GWL Hayley Footjob (Commission)        </td><td>2080-10-05</td><td>Flash</td><td>arcade </td></tr>\n",
       "\t<tr><th scope=row>75987</th><td>(Gift) Luna's Christmas gift           </td><td>2917-12-26</td><td>Flash</td><td>theatre</td></tr>\n",
       "</tbody>\n",
       "</table>\n"
      ],
      "text/latex": [
       "A data.frame: 6 × 4\n",
       "\\begin{tabular}{r|llll}\n",
       "  & title & releaseDate & platform & library\\\\\n",
       "  & <chr> & <date> & <chr> & <chr>\\\\\n",
       "\\hline\n",
       "\t75982 & Awesome Game                            & 2022-12-23 & HTML5 & arcade \\\\\n",
       "\t75983 & Christmas in Vienna                     & 2022-12-23 & HTML5 & arcade \\\\\n",
       "\t75984 & Chrysler Building                       & 2022-12-23 & HTML5 & arcade \\\\\n",
       "\t75985 & T-Mobile Tuesdays: Win \\$2,300 for 2023! & 2022-12-27 & HTML5 & arcade \\\\\n",
       "\t75986 & GWL Hayley Footjob (Commission)         & 2080-10-05 & Flash & arcade \\\\\n",
       "\t75987 & (Gift) Luna's Christmas gift            & 2917-12-26 & Flash & theatre\\\\\n",
       "\\end{tabular}\n"
      ],
      "text/markdown": [
       "\n",
       "A data.frame: 6 × 4\n",
       "\n",
       "| <!--/--> | title &lt;chr&gt; | releaseDate &lt;date&gt; | platform &lt;chr&gt; | library &lt;chr&gt; |\n",
       "|---|---|---|---|---|\n",
       "| 75982 | Awesome Game                            | 2022-12-23 | HTML5 | arcade  |\n",
       "| 75983 | Christmas in Vienna                     | 2022-12-23 | HTML5 | arcade  |\n",
       "| 75984 | Chrysler Building                       | 2022-12-23 | HTML5 | arcade  |\n",
       "| 75985 | T-Mobile Tuesdays: Win $2,300 for 2023! | 2022-12-27 | HTML5 | arcade  |\n",
       "| 75986 | GWL Hayley Footjob (Commission)         | 2080-10-05 | Flash | arcade  |\n",
       "| 75987 | (Gift) Luna's Christmas gift            | 2917-12-26 | Flash | theatre |\n",
       "\n"
      ],
      "text/plain": [
       "      title                                   releaseDate platform library\n",
       "75982 Awesome Game                            2022-12-23  HTML5    arcade \n",
       "75983 Christmas in Vienna                     2022-12-23  HTML5    arcade \n",
       "75984 Chrysler Building                       2022-12-23  HTML5    arcade \n",
       "75985 T-Mobile Tuesdays: Win $2,300 for 2023! 2022-12-27  HTML5    arcade \n",
       "75986 GWL Hayley Footjob (Commission)         2080-10-05  Flash    arcade \n",
       "75987 (Gift) Luna's Christmas gift            2917-12-26  Flash    theatre"
      ]
     },
     "metadata": {},
     "output_type": "display_data"
    }
   ],
   "source": [
    "dates$releaseDate <- dates$releaseDate %>% ymd(truncated = 2)\n",
    "dates <- dates %>% na.omit() %>% arrange(releaseDate)\n",
    "head(dates)\n",
    "tail(dates)"
   ]
  },
  {
   "cell_type": "markdown",
   "id": "aa701704",
   "metadata": {},
   "source": [
    "*ymd* automatically assigned January 1 as month and day for those games whose only date information was the year.\n",
    "There are still a couple of odd observations, the last two, which are most likely typos."
   ]
  },
  {
   "cell_type": "code",
   "execution_count": 15,
   "id": "e649146b",
   "metadata": {
    "scrolled": true
   },
   "outputs": [
    {
     "data": {
      "text/html": [
       "<table class=\"dataframe\">\n",
       "<caption>A data.frame: 20 × 4</caption>\n",
       "<thead>\n",
       "\t<tr><th></th><th scope=col>title</th><th scope=col>releaseDate</th><th scope=col>platform</th><th scope=col>library</th></tr>\n",
       "\t<tr><th></th><th scope=col>&lt;chr&gt;</th><th scope=col>&lt;date&gt;</th><th scope=col>&lt;chr&gt;</th><th scope=col>&lt;chr&gt;</th></tr>\n",
       "</thead>\n",
       "<tbody>\n",
       "\t<tr><th scope=row>1</th><td>Blastar                       </td><td>1984-01-01</td><td>HTML5    </td><td>arcade </td></tr>\n",
       "\t<tr><th scope=row>2</th><td>Idle Johnny                   </td><td>1993-01-01</td><td>Shockwave</td><td>theatre</td></tr>\n",
       "\t<tr><th scope=row>3</th><td>QP-Shot 1000                  </td><td>1994-01-01</td><td>Shockwave</td><td>arcade </td></tr>\n",
       "\t<tr><th scope=row>4</th><td>The Health Checkup            </td><td>1994-01-01</td><td>Shockwave</td><td>theatre</td></tr>\n",
       "\t<tr><th scope=row>5</th><td>ZZZ...I want to sleep         </td><td>1994-01-01</td><td>Shockwave</td><td>theatre</td></tr>\n",
       "\t<tr><th scope=row>6</th><td>Dangerous Two                 </td><td>1994-01-01</td><td>Shockwave</td><td>theatre</td></tr>\n",
       "\t<tr><th scope=row>7</th><td>Virtual Banana Original       </td><td>1994-02-01</td><td>VRML     </td><td>arcade </td></tr>\n",
       "\t<tr><th scope=row>8</th><td>Virtual University of Auckland</td><td>1994-02-01</td><td>Hyper-G  </td><td>arcade </td></tr>\n",
       "\t<tr><th scope=row>9</th><td>Clock                         </td><td>1994-11-17</td><td>Hyper-G  </td><td>arcade </td></tr>\n",
       "\t<tr><th scope=row>10</th><td>Office                        </td><td>1994-11-17</td><td>Hyper-G  </td><td>arcade </td></tr>\n",
       "\t<tr><th scope=row>11</th><td>Model of the IICM institute   </td><td>1994-11-17</td><td>VRML     </td><td>arcade </td></tr>\n",
       "\t<tr><th scope=row>12</th><td>Office                        </td><td>1994-11-17</td><td>VRML     </td><td>arcade </td></tr>\n",
       "\t<tr><th scope=row>13</th><td>Clock Tower                   </td><td>1994-11-17</td><td>VRML     </td><td>arcade </td></tr>\n",
       "\t<tr><th scope=row>14</th><td>Corvette                      </td><td>1994-11-17</td><td>VRML     </td><td>arcade </td></tr>\n",
       "\t<tr><th scope=row>15</th><td>Cubes                         </td><td>1994-11-17</td><td>VRML     </td><td>arcade </td></tr>\n",
       "\t<tr><th scope=row>16</th><td>Engine                        </td><td>1994-11-17</td><td>VRML     </td><td>arcade </td></tr>\n",
       "\t<tr><th scope=row>17</th><td>Graz 3D Model                 </td><td>1994-11-17</td><td>VRML     </td><td>arcade </td></tr>\n",
       "\t<tr><th scope=row>18</th><td>Fancy Cubes                   </td><td>1994-11-17</td><td>Hyper-G  </td><td>arcade </td></tr>\n",
       "\t<tr><th scope=row>19</th><td>The Austrian National Library </td><td>1994-11-17</td><td>VRML     </td><td>arcade </td></tr>\n",
       "\t<tr><th scope=row>20</th><td>LED Sign                      </td><td>1995-01-01</td><td>Java     </td><td>arcade </td></tr>\n",
       "</tbody>\n",
       "</table>\n"
      ],
      "text/latex": [
       "A data.frame: 20 × 4\n",
       "\\begin{tabular}{r|llll}\n",
       "  & title & releaseDate & platform & library\\\\\n",
       "  & <chr> & <date> & <chr> & <chr>\\\\\n",
       "\\hline\n",
       "\t1 & Blastar                        & 1984-01-01 & HTML5     & arcade \\\\\n",
       "\t2 & Idle Johnny                    & 1993-01-01 & Shockwave & theatre\\\\\n",
       "\t3 & QP-Shot 1000                   & 1994-01-01 & Shockwave & arcade \\\\\n",
       "\t4 & The Health Checkup             & 1994-01-01 & Shockwave & theatre\\\\\n",
       "\t5 & ZZZ...I want to sleep          & 1994-01-01 & Shockwave & theatre\\\\\n",
       "\t6 & Dangerous Two                  & 1994-01-01 & Shockwave & theatre\\\\\n",
       "\t7 & Virtual Banana Original        & 1994-02-01 & VRML      & arcade \\\\\n",
       "\t8 & Virtual University of Auckland & 1994-02-01 & Hyper-G   & arcade \\\\\n",
       "\t9 & Clock                          & 1994-11-17 & Hyper-G   & arcade \\\\\n",
       "\t10 & Office                         & 1994-11-17 & Hyper-G   & arcade \\\\\n",
       "\t11 & Model of the IICM institute    & 1994-11-17 & VRML      & arcade \\\\\n",
       "\t12 & Office                         & 1994-11-17 & VRML      & arcade \\\\\n",
       "\t13 & Clock Tower                    & 1994-11-17 & VRML      & arcade \\\\\n",
       "\t14 & Corvette                       & 1994-11-17 & VRML      & arcade \\\\\n",
       "\t15 & Cubes                          & 1994-11-17 & VRML      & arcade \\\\\n",
       "\t16 & Engine                         & 1994-11-17 & VRML      & arcade \\\\\n",
       "\t17 & Graz 3D Model                  & 1994-11-17 & VRML      & arcade \\\\\n",
       "\t18 & Fancy Cubes                    & 1994-11-17 & Hyper-G   & arcade \\\\\n",
       "\t19 & The Austrian National Library  & 1994-11-17 & VRML      & arcade \\\\\n",
       "\t20 & LED Sign                       & 1995-01-01 & Java      & arcade \\\\\n",
       "\\end{tabular}\n"
      ],
      "text/markdown": [
       "\n",
       "A data.frame: 20 × 4\n",
       "\n",
       "| <!--/--> | title &lt;chr&gt; | releaseDate &lt;date&gt; | platform &lt;chr&gt; | library &lt;chr&gt; |\n",
       "|---|---|---|---|---|\n",
       "| 1 | Blastar                        | 1984-01-01 | HTML5     | arcade  |\n",
       "| 2 | Idle Johnny                    | 1993-01-01 | Shockwave | theatre |\n",
       "| 3 | QP-Shot 1000                   | 1994-01-01 | Shockwave | arcade  |\n",
       "| 4 | The Health Checkup             | 1994-01-01 | Shockwave | theatre |\n",
       "| 5 | ZZZ...I want to sleep          | 1994-01-01 | Shockwave | theatre |\n",
       "| 6 | Dangerous Two                  | 1994-01-01 | Shockwave | theatre |\n",
       "| 7 | Virtual Banana Original        | 1994-02-01 | VRML      | arcade  |\n",
       "| 8 | Virtual University of Auckland | 1994-02-01 | Hyper-G   | arcade  |\n",
       "| 9 | Clock                          | 1994-11-17 | Hyper-G   | arcade  |\n",
       "| 10 | Office                         | 1994-11-17 | Hyper-G   | arcade  |\n",
       "| 11 | Model of the IICM institute    | 1994-11-17 | VRML      | arcade  |\n",
       "| 12 | Office                         | 1994-11-17 | VRML      | arcade  |\n",
       "| 13 | Clock Tower                    | 1994-11-17 | VRML      | arcade  |\n",
       "| 14 | Corvette                       | 1994-11-17 | VRML      | arcade  |\n",
       "| 15 | Cubes                          | 1994-11-17 | VRML      | arcade  |\n",
       "| 16 | Engine                         | 1994-11-17 | VRML      | arcade  |\n",
       "| 17 | Graz 3D Model                  | 1994-11-17 | VRML      | arcade  |\n",
       "| 18 | Fancy Cubes                    | 1994-11-17 | Hyper-G   | arcade  |\n",
       "| 19 | The Austrian National Library  | 1994-11-17 | VRML      | arcade  |\n",
       "| 20 | LED Sign                       | 1995-01-01 | Java      | arcade  |\n",
       "\n"
      ],
      "text/plain": [
       "   title                          releaseDate platform  library\n",
       "1  Blastar                        1984-01-01  HTML5     arcade \n",
       "2  Idle Johnny                    1993-01-01  Shockwave theatre\n",
       "3  QP-Shot 1000                   1994-01-01  Shockwave arcade \n",
       "4  The Health Checkup             1994-01-01  Shockwave theatre\n",
       "5  ZZZ...I want to sleep          1994-01-01  Shockwave theatre\n",
       "6  Dangerous Two                  1994-01-01  Shockwave theatre\n",
       "7  Virtual Banana Original        1994-02-01  VRML      arcade \n",
       "8  Virtual University of Auckland 1994-02-01  Hyper-G   arcade \n",
       "9  Clock                          1994-11-17  Hyper-G   arcade \n",
       "10 Office                         1994-11-17  Hyper-G   arcade \n",
       "11 Model of the IICM institute    1994-11-17  VRML      arcade \n",
       "12 Office                         1994-11-17  VRML      arcade \n",
       "13 Clock Tower                    1994-11-17  VRML      arcade \n",
       "14 Corvette                       1994-11-17  VRML      arcade \n",
       "15 Cubes                          1994-11-17  VRML      arcade \n",
       "16 Engine                         1994-11-17  VRML      arcade \n",
       "17 Graz 3D Model                  1994-11-17  VRML      arcade \n",
       "18 Fancy Cubes                    1994-11-17  Hyper-G   arcade \n",
       "19 The Austrian National Library  1994-11-17  VRML      arcade \n",
       "20 LED Sign                       1995-01-01  Java      arcade "
      ]
     },
     "metadata": {},
     "output_type": "display_data"
    }
   ],
   "source": [
    "dates <- dates %>% slice(1:(nrow(dates)-2))\n",
    "head(dates, 20)"
   ]
  },
  {
   "cell_type": "markdown",
   "id": "7069b84f",
   "metadata": {},
   "source": [
    "Finally, we have got our correct release dates. We see that the oldest game in the list is *Blastar*, which was released in 1984. Actually, the game present in Flashpoint is a HTML5 version, which was developed and released much more recently. Moving on, starting from 1993 we recognize some old technologies, such as *Shochwave*, *VRML* and *Hyper-G*.\n",
    "\n",
    "We can actually distinguish between proper games and animations by looking at the *library* column: the former are labeled with *arcade*, the latter with *theatre* values. Thus, the oldest animation featured is *Idle Johnny* from 1993, while the first \"true\" game (not counting *Blastar*) could be either *QP-Shot 1000* (which came out at some time in 1994), or *Virtual Banana Original* and *Virtual University of Auckland*, both from February 1st, 1994."
   ]
  },
  {
   "cell_type": "code",
   "execution_count": 16,
   "id": "cb181740",
   "metadata": {},
   "outputs": [
    {
     "data": {
      "text/html": [
       "<table class=\"dataframe\">\n",
       "<caption>A data.frame: 20 × 4</caption>\n",
       "<thead>\n",
       "\t<tr><th></th><th scope=col>title</th><th scope=col>releaseDate</th><th scope=col>platform</th><th scope=col>library</th></tr>\n",
       "\t<tr><th></th><th scope=col>&lt;chr&gt;</th><th scope=col>&lt;date&gt;</th><th scope=col>&lt;chr&gt;</th><th scope=col>&lt;chr&gt;</th></tr>\n",
       "</thead>\n",
       "<tbody>\n",
       "\t<tr><th scope=row>75965</th><td>Um Conto da Cloe                        </td><td>2022-12-08</td><td>HTML5           </td><td>arcade </td></tr>\n",
       "\t<tr><th scope=row>75966</th><td>Pad of Time                             </td><td>2022-12-08</td><td>HTML5           </td><td>arcade </td></tr>\n",
       "\t<tr><th scope=row>75967</th><td>/f/ 101                                 </td><td>2022-12-09</td><td>Flash           </td><td>arcade </td></tr>\n",
       "\t<tr><th scope=row>75968</th><td>Vault of the Pineapples                 </td><td>2022-12-09</td><td>HTML5           </td><td>arcade </td></tr>\n",
       "\t<tr><th scope=row>75969</th><td>Snowsgiving Choose Your Own Adventure   </td><td>2022-12-10</td><td>HTML5           </td><td>arcade </td></tr>\n",
       "\t<tr><th scope=row>75970</th><td>look_into_my_eyes_its_open_wide.swf     </td><td>2022-12-10</td><td>Flash           </td><td>theatre</td></tr>\n",
       "\t<tr><th scope=row>75971</th><td>The Smurfs Cooking                      </td><td>2022-12-13</td><td>HTML5           </td><td>arcade </td></tr>\n",
       "\t<tr><th scope=row>75972</th><td>Mcdonalds Final                         </td><td>2022-12-13</td><td>HTML5           </td><td>arcade </td></tr>\n",
       "\t<tr><th scope=row>75973</th><td>In the Name of Freedom: Black Apocalypse</td><td>2022-12-13</td><td>HTML5           </td><td>arcade </td></tr>\n",
       "\t<tr><th scope=row>75974</th><td>Cartoon Network Winter Games            </td><td>2022-12-14</td><td>HTML5           </td><td>arcade </td></tr>\n",
       "\t<tr><th scope=row>75975</th><td>Monkey Mart                             </td><td>2022-12-14</td><td>HTML5           </td><td>arcade </td></tr>\n",
       "\t<tr><th scope=row>75976</th><td>Maptroid: Worlds                        </td><td>2022-12-16</td><td>HTML5           </td><td>arcade </td></tr>\n",
       "\t<tr><th scope=row>75977</th><td>Why is This a Curation?                 </td><td>2022-12-17</td><td>Lightning Strike</td><td>arcade </td></tr>\n",
       "\t<tr><th scope=row>75978</th><td>Monster Bar Simulator                   </td><td>2022-12-18</td><td>HTML5           </td><td>arcade </td></tr>\n",
       "\t<tr><th scope=row>75979</th><td>Wubbzy explains facts about Mars.       </td><td>2022-12-19</td><td>HTML5           </td><td>theatre</td></tr>\n",
       "\t<tr><th scope=row>75980</th><td>Defender of Ukraine                     </td><td>2022-12-20</td><td>HTML5           </td><td>arcade </td></tr>\n",
       "\t<tr><th scope=row>75981</th><td>Awesome Game                            </td><td>2022-12-23</td><td>HTML5           </td><td>arcade </td></tr>\n",
       "\t<tr><th scope=row>75982</th><td>Christmas in Vienna                     </td><td>2022-12-23</td><td>HTML5           </td><td>arcade </td></tr>\n",
       "\t<tr><th scope=row>75983</th><td>Chrysler Building                       </td><td>2022-12-23</td><td>HTML5           </td><td>arcade </td></tr>\n",
       "\t<tr><th scope=row>75984</th><td>T-Mobile Tuesdays: Win $2,300 for 2023! </td><td>2022-12-27</td><td>HTML5           </td><td>arcade </td></tr>\n",
       "</tbody>\n",
       "</table>\n"
      ],
      "text/latex": [
       "A data.frame: 20 × 4\n",
       "\\begin{tabular}{r|llll}\n",
       "  & title & releaseDate & platform & library\\\\\n",
       "  & <chr> & <date> & <chr> & <chr>\\\\\n",
       "\\hline\n",
       "\t75965 & Um Conto da Cloe                         & 2022-12-08 & HTML5            & arcade \\\\\n",
       "\t75966 & Pad of Time                              & 2022-12-08 & HTML5            & arcade \\\\\n",
       "\t75967 & /f/ 101                                  & 2022-12-09 & Flash            & arcade \\\\\n",
       "\t75968 & Vault of the Pineapples                  & 2022-12-09 & HTML5            & arcade \\\\\n",
       "\t75969 & Snowsgiving Choose Your Own Adventure    & 2022-12-10 & HTML5            & arcade \\\\\n",
       "\t75970 & look\\_into\\_my\\_eyes\\_its\\_open\\_wide.swf      & 2022-12-10 & Flash            & theatre\\\\\n",
       "\t75971 & The Smurfs Cooking                       & 2022-12-13 & HTML5            & arcade \\\\\n",
       "\t75972 & Mcdonalds Final                          & 2022-12-13 & HTML5            & arcade \\\\\n",
       "\t75973 & In the Name of Freedom: Black Apocalypse & 2022-12-13 & HTML5            & arcade \\\\\n",
       "\t75974 & Cartoon Network Winter Games             & 2022-12-14 & HTML5            & arcade \\\\\n",
       "\t75975 & Monkey Mart                              & 2022-12-14 & HTML5            & arcade \\\\\n",
       "\t75976 & Maptroid: Worlds                         & 2022-12-16 & HTML5            & arcade \\\\\n",
       "\t75977 & Why is This a Curation?                  & 2022-12-17 & Lightning Strike & arcade \\\\\n",
       "\t75978 & Monster Bar Simulator                    & 2022-12-18 & HTML5            & arcade \\\\\n",
       "\t75979 & Wubbzy explains facts about Mars.        & 2022-12-19 & HTML5            & theatre\\\\\n",
       "\t75980 & Defender of Ukraine                      & 2022-12-20 & HTML5            & arcade \\\\\n",
       "\t75981 & Awesome Game                             & 2022-12-23 & HTML5            & arcade \\\\\n",
       "\t75982 & Christmas in Vienna                      & 2022-12-23 & HTML5            & arcade \\\\\n",
       "\t75983 & Chrysler Building                        & 2022-12-23 & HTML5            & arcade \\\\\n",
       "\t75984 & T-Mobile Tuesdays: Win \\$2,300 for 2023!  & 2022-12-27 & HTML5            & arcade \\\\\n",
       "\\end{tabular}\n"
      ],
      "text/markdown": [
       "\n",
       "A data.frame: 20 × 4\n",
       "\n",
       "| <!--/--> | title &lt;chr&gt; | releaseDate &lt;date&gt; | platform &lt;chr&gt; | library &lt;chr&gt; |\n",
       "|---|---|---|---|---|\n",
       "| 75965 | Um Conto da Cloe                         | 2022-12-08 | HTML5            | arcade  |\n",
       "| 75966 | Pad of Time                              | 2022-12-08 | HTML5            | arcade  |\n",
       "| 75967 | /f/ 101                                  | 2022-12-09 | Flash            | arcade  |\n",
       "| 75968 | Vault of the Pineapples                  | 2022-12-09 | HTML5            | arcade  |\n",
       "| 75969 | Snowsgiving Choose Your Own Adventure    | 2022-12-10 | HTML5            | arcade  |\n",
       "| 75970 | look_into_my_eyes_its_open_wide.swf      | 2022-12-10 | Flash            | theatre |\n",
       "| 75971 | The Smurfs Cooking                       | 2022-12-13 | HTML5            | arcade  |\n",
       "| 75972 | Mcdonalds Final                          | 2022-12-13 | HTML5            | arcade  |\n",
       "| 75973 | In the Name of Freedom: Black Apocalypse | 2022-12-13 | HTML5            | arcade  |\n",
       "| 75974 | Cartoon Network Winter Games             | 2022-12-14 | HTML5            | arcade  |\n",
       "| 75975 | Monkey Mart                              | 2022-12-14 | HTML5            | arcade  |\n",
       "| 75976 | Maptroid: Worlds                         | 2022-12-16 | HTML5            | arcade  |\n",
       "| 75977 | Why is This a Curation?                  | 2022-12-17 | Lightning Strike | arcade  |\n",
       "| 75978 | Monster Bar Simulator                    | 2022-12-18 | HTML5            | arcade  |\n",
       "| 75979 | Wubbzy explains facts about Mars.        | 2022-12-19 | HTML5            | theatre |\n",
       "| 75980 | Defender of Ukraine                      | 2022-12-20 | HTML5            | arcade  |\n",
       "| 75981 | Awesome Game                             | 2022-12-23 | HTML5            | arcade  |\n",
       "| 75982 | Christmas in Vienna                      | 2022-12-23 | HTML5            | arcade  |\n",
       "| 75983 | Chrysler Building                        | 2022-12-23 | HTML5            | arcade  |\n",
       "| 75984 | T-Mobile Tuesdays: Win $2,300 for 2023!  | 2022-12-27 | HTML5            | arcade  |\n",
       "\n"
      ],
      "text/plain": [
       "      title                                    releaseDate platform        \n",
       "75965 Um Conto da Cloe                         2022-12-08  HTML5           \n",
       "75966 Pad of Time                              2022-12-08  HTML5           \n",
       "75967 /f/ 101                                  2022-12-09  Flash           \n",
       "75968 Vault of the Pineapples                  2022-12-09  HTML5           \n",
       "75969 Snowsgiving Choose Your Own Adventure    2022-12-10  HTML5           \n",
       "75970 look_into_my_eyes_its_open_wide.swf      2022-12-10  Flash           \n",
       "75971 The Smurfs Cooking                       2022-12-13  HTML5           \n",
       "75972 Mcdonalds Final                          2022-12-13  HTML5           \n",
       "75973 In the Name of Freedom: Black Apocalypse 2022-12-13  HTML5           \n",
       "75974 Cartoon Network Winter Games             2022-12-14  HTML5           \n",
       "75975 Monkey Mart                              2022-12-14  HTML5           \n",
       "75976 Maptroid: Worlds                         2022-12-16  HTML5           \n",
       "75977 Why is This a Curation?                  2022-12-17  Lightning Strike\n",
       "75978 Monster Bar Simulator                    2022-12-18  HTML5           \n",
       "75979 Wubbzy explains facts about Mars.        2022-12-19  HTML5           \n",
       "75980 Defender of Ukraine                      2022-12-20  HTML5           \n",
       "75981 Awesome Game                             2022-12-23  HTML5           \n",
       "75982 Christmas in Vienna                      2022-12-23  HTML5           \n",
       "75983 Chrysler Building                        2022-12-23  HTML5           \n",
       "75984 T-Mobile Tuesdays: Win $2,300 for 2023!  2022-12-27  HTML5           \n",
       "      library\n",
       "75965 arcade \n",
       "75966 arcade \n",
       "75967 arcade \n",
       "75968 arcade \n",
       "75969 arcade \n",
       "75970 theatre\n",
       "75971 arcade \n",
       "75972 arcade \n",
       "75973 arcade \n",
       "75974 arcade \n",
       "75975 arcade \n",
       "75976 arcade \n",
       "75977 arcade \n",
       "75978 arcade \n",
       "75979 theatre\n",
       "75980 arcade \n",
       "75981 arcade \n",
       "75982 arcade \n",
       "75983 arcade \n",
       "75984 arcade "
      ]
     },
     "metadata": {},
     "output_type": "display_data"
    }
   ],
   "source": [
    "dates <- dates %>% slice(2:nrow(dates))\n",
    "tail(dates, 20)"
   ]
  },
  {
   "cell_type": "markdown",
   "id": "2b9bc87e",
   "metadata": {},
   "source": [
    "On the other side, here are the 20 most recent games. As expected, we find out that nowadays *HTML5* is the standard technology to make flash games, though some exceptions arise and there is even a *Flash* entry!"
   ]
  },
  {
   "cell_type": "markdown",
   "id": "b9746b06",
   "metadata": {},
   "source": [
    "For the sake of completeness, let's restrict our search to *Flash*-only games."
   ]
  },
  {
   "cell_type": "code",
   "execution_count": 17,
   "id": "cf2cb6e8",
   "metadata": {},
   "outputs": [
    {
     "data": {
      "text/html": [
       "<table class=\"dataframe\">\n",
       "<caption>A data.frame: 20 × 4</caption>\n",
       "<thead>\n",
       "\t<tr><th></th><th scope=col>title</th><th scope=col>releaseDate</th><th scope=col>platform</th><th scope=col>library</th></tr>\n",
       "\t<tr><th></th><th scope=col>&lt;chr&gt;</th><th scope=col>&lt;date&gt;</th><th scope=col>&lt;chr&gt;</th><th scope=col>&lt;chr&gt;</th></tr>\n",
       "</thead>\n",
       "<tbody>\n",
       "\t<tr><th scope=row>1</th><td>Claus.com                               </td><td>1995-01-01</td><td>Flash</td><td>arcade </td></tr>\n",
       "\t<tr><th scope=row>2</th><td>2 Design's Navigational Demo            </td><td>1996-01-01</td><td>Flash</td><td>arcade </td></tr>\n",
       "\t<tr><th scope=row>3</th><td>CHAOS Website                           </td><td>1996-01-01</td><td>Flash</td><td>arcade </td></tr>\n",
       "\t<tr><th scope=row>4</th><td>FutureWave Software, Inc. Website       </td><td>1996-01-01</td><td>Flash</td><td>arcade </td></tr>\n",
       "\t<tr><th scope=row>5</th><td>Good Music Company Website              </td><td>1996-01-01</td><td>Flash</td><td>arcade </td></tr>\n",
       "\t<tr><th scope=row>6</th><td>The Silicon Slip                        </td><td>1996-01-01</td><td>Flash</td><td>arcade </td></tr>\n",
       "\t<tr><th scope=row>7</th><td>Zygomedia Website                       </td><td>1996-01-01</td><td>Flash</td><td>arcade </td></tr>\n",
       "\t<tr><th scope=row>8</th><td>First MouseOver Button                  </td><td>1996-01-01</td><td>Flash</td><td>arcade </td></tr>\n",
       "\t<tr><th scope=row>9</th><td>Simple, Tasty Buttons                   </td><td>1996-01-01</td><td>Flash</td><td>arcade </td></tr>\n",
       "\t<tr><th scope=row>10</th><td>Discrete Keyboard                       </td><td>1996-01-01</td><td>Flash</td><td>arcade </td></tr>\n",
       "\t<tr><th scope=row>11</th><td>Animated Screen Beans                   </td><td>1996-01-01</td><td>Flash</td><td>theatre</td></tr>\n",
       "\t<tr><th scope=row>12</th><td>HK Media Association website banner     </td><td>1996-01-01</td><td>Flash</td><td>theatre</td></tr>\n",
       "\t<tr><th scope=row>13</th><td>The Hole in the Wall website intro      </td><td>1996-01-01</td><td>Flash</td><td>theatre</td></tr>\n",
       "\t<tr><th scope=row>14</th><td>Volleynerd home page                    </td><td>1996-01-01</td><td>Flash</td><td>theatre</td></tr>\n",
       "\t<tr><th scope=row>15</th><td>Past*Present*Future                     </td><td>1996-01-01</td><td>Flash</td><td>theatre</td></tr>\n",
       "\t<tr><th scope=row>16</th><td>The Simpsons 1996 website               </td><td>1996-01-01</td><td>Flash</td><td>theatre</td></tr>\n",
       "\t<tr><th scope=row>17</th><td>The Simpsons 1996 website normal version</td><td>1996-01-01</td><td>Flash</td><td>arcade </td></tr>\n",
       "\t<tr><th scope=row>18</th><td>Artcore                                 </td><td>1996-01-01</td><td>Flash</td><td>arcade </td></tr>\n",
       "\t<tr><th scope=row>19</th><td>Advent Calendar                         </td><td>1997-01-01</td><td>Flash</td><td>arcade </td></tr>\n",
       "\t<tr><th scope=row>20</th><td>Ray of Light Button                     </td><td>1997-01-01</td><td>Flash</td><td>arcade </td></tr>\n",
       "</tbody>\n",
       "</table>\n"
      ],
      "text/latex": [
       "A data.frame: 20 × 4\n",
       "\\begin{tabular}{r|llll}\n",
       "  & title & releaseDate & platform & library\\\\\n",
       "  & <chr> & <date> & <chr> & <chr>\\\\\n",
       "\\hline\n",
       "\t1 & Claus.com                                & 1995-01-01 & Flash & arcade \\\\\n",
       "\t2 & 2 Design's Navigational Demo             & 1996-01-01 & Flash & arcade \\\\\n",
       "\t3 & CHAOS Website                            & 1996-01-01 & Flash & arcade \\\\\n",
       "\t4 & FutureWave Software, Inc. Website        & 1996-01-01 & Flash & arcade \\\\\n",
       "\t5 & Good Music Company Website               & 1996-01-01 & Flash & arcade \\\\\n",
       "\t6 & The Silicon Slip                         & 1996-01-01 & Flash & arcade \\\\\n",
       "\t7 & Zygomedia Website                        & 1996-01-01 & Flash & arcade \\\\\n",
       "\t8 & First MouseOver Button                   & 1996-01-01 & Flash & arcade \\\\\n",
       "\t9 & Simple, Tasty Buttons                    & 1996-01-01 & Flash & arcade \\\\\n",
       "\t10 & Discrete Keyboard                        & 1996-01-01 & Flash & arcade \\\\\n",
       "\t11 & Animated Screen Beans                    & 1996-01-01 & Flash & theatre\\\\\n",
       "\t12 & HK Media Association website banner      & 1996-01-01 & Flash & theatre\\\\\n",
       "\t13 & The Hole in the Wall website intro       & 1996-01-01 & Flash & theatre\\\\\n",
       "\t14 & Volleynerd home page                     & 1996-01-01 & Flash & theatre\\\\\n",
       "\t15 & Past*Present*Future                      & 1996-01-01 & Flash & theatre\\\\\n",
       "\t16 & The Simpsons 1996 website                & 1996-01-01 & Flash & theatre\\\\\n",
       "\t17 & The Simpsons 1996 website normal version & 1996-01-01 & Flash & arcade \\\\\n",
       "\t18 & Artcore                                  & 1996-01-01 & Flash & arcade \\\\\n",
       "\t19 & Advent Calendar                          & 1997-01-01 & Flash & arcade \\\\\n",
       "\t20 & Ray of Light Button                      & 1997-01-01 & Flash & arcade \\\\\n",
       "\\end{tabular}\n"
      ],
      "text/markdown": [
       "\n",
       "A data.frame: 20 × 4\n",
       "\n",
       "| <!--/--> | title &lt;chr&gt; | releaseDate &lt;date&gt; | platform &lt;chr&gt; | library &lt;chr&gt; |\n",
       "|---|---|---|---|---|\n",
       "| 1 | Claus.com                                | 1995-01-01 | Flash | arcade  |\n",
       "| 2 | 2 Design's Navigational Demo             | 1996-01-01 | Flash | arcade  |\n",
       "| 3 | CHAOS Website                            | 1996-01-01 | Flash | arcade  |\n",
       "| 4 | FutureWave Software, Inc. Website        | 1996-01-01 | Flash | arcade  |\n",
       "| 5 | Good Music Company Website               | 1996-01-01 | Flash | arcade  |\n",
       "| 6 | The Silicon Slip                         | 1996-01-01 | Flash | arcade  |\n",
       "| 7 | Zygomedia Website                        | 1996-01-01 | Flash | arcade  |\n",
       "| 8 | First MouseOver Button                   | 1996-01-01 | Flash | arcade  |\n",
       "| 9 | Simple, Tasty Buttons                    | 1996-01-01 | Flash | arcade  |\n",
       "| 10 | Discrete Keyboard                        | 1996-01-01 | Flash | arcade  |\n",
       "| 11 | Animated Screen Beans                    | 1996-01-01 | Flash | theatre |\n",
       "| 12 | HK Media Association website banner      | 1996-01-01 | Flash | theatre |\n",
       "| 13 | The Hole in the Wall website intro       | 1996-01-01 | Flash | theatre |\n",
       "| 14 | Volleynerd home page                     | 1996-01-01 | Flash | theatre |\n",
       "| 15 | Past*Present*Future                      | 1996-01-01 | Flash | theatre |\n",
       "| 16 | The Simpsons 1996 website                | 1996-01-01 | Flash | theatre |\n",
       "| 17 | The Simpsons 1996 website normal version | 1996-01-01 | Flash | arcade  |\n",
       "| 18 | Artcore                                  | 1996-01-01 | Flash | arcade  |\n",
       "| 19 | Advent Calendar                          | 1997-01-01 | Flash | arcade  |\n",
       "| 20 | Ray of Light Button                      | 1997-01-01 | Flash | arcade  |\n",
       "\n"
      ],
      "text/plain": [
       "   title                                    releaseDate platform library\n",
       "1  Claus.com                                1995-01-01  Flash    arcade \n",
       "2  2 Design's Navigational Demo             1996-01-01  Flash    arcade \n",
       "3  CHAOS Website                            1996-01-01  Flash    arcade \n",
       "4  FutureWave Software, Inc. Website        1996-01-01  Flash    arcade \n",
       "5  Good Music Company Website               1996-01-01  Flash    arcade \n",
       "6  The Silicon Slip                         1996-01-01  Flash    arcade \n",
       "7  Zygomedia Website                        1996-01-01  Flash    arcade \n",
       "8  First MouseOver Button                   1996-01-01  Flash    arcade \n",
       "9  Simple, Tasty Buttons                    1996-01-01  Flash    arcade \n",
       "10 Discrete Keyboard                        1996-01-01  Flash    arcade \n",
       "11 Animated Screen Beans                    1996-01-01  Flash    theatre\n",
       "12 HK Media Association website banner      1996-01-01  Flash    theatre\n",
       "13 The Hole in the Wall website intro       1996-01-01  Flash    theatre\n",
       "14 Volleynerd home page                     1996-01-01  Flash    theatre\n",
       "15 Past*Present*Future                      1996-01-01  Flash    theatre\n",
       "16 The Simpsons 1996 website                1996-01-01  Flash    theatre\n",
       "17 The Simpsons 1996 website normal version 1996-01-01  Flash    arcade \n",
       "18 Artcore                                  1996-01-01  Flash    arcade \n",
       "19 Advent Calendar                          1997-01-01  Flash    arcade \n",
       "20 Ray of Light Button                      1997-01-01  Flash    arcade "
      ]
     },
     "metadata": {},
     "output_type": "display_data"
    }
   ],
   "source": [
    "dates %>% filter(platform == \"Flash\") %>% head(20)"
   ]
  },
  {
   "cell_type": "markdown",
   "id": "d30cb52e",
   "metadata": {},
   "source": [
    "The first *Flash* game is *Claus.com* from 1995. We notice that most of these are actually websites built in *Flash* and not exactly games or animations."
   ]
  },
  {
   "cell_type": "markdown",
   "id": "54fba3a0",
   "metadata": {},
   "source": [
    "To take an overall view, let's compare the various platforms by games count, considering the top five."
   ]
  },
  {
   "cell_type": "code",
   "execution_count": 18,
   "id": "a591d704",
   "metadata": {},
   "outputs": [
    {
     "data": {
      "text/html": [
       "<table class=\"dataframe\">\n",
       "<caption>A data.frame: 5 × 2</caption>\n",
       "<thead>\n",
       "\t<tr><th></th><th scope=col>platform</th><th scope=col>n</th></tr>\n",
       "\t<tr><th></th><th scope=col>&lt;chr&gt;</th><th scope=col>&lt;int&gt;</th></tr>\n",
       "</thead>\n",
       "<tbody>\n",
       "\t<tr><th scope=row>1</th><td>Flash    </td><td>59047</td></tr>\n",
       "\t<tr><th scope=row>2</th><td>HTML5    </td><td>10904</td></tr>\n",
       "\t<tr><th scope=row>3</th><td>Shockwave</td><td> 1996</td></tr>\n",
       "\t<tr><th scope=row>4</th><td>Unity    </td><td>  875</td></tr>\n",
       "\t<tr><th scope=row>5</th><td>Java     </td><td>  751</td></tr>\n",
       "</tbody>\n",
       "</table>\n"
      ],
      "text/latex": [
       "A data.frame: 5 × 2\n",
       "\\begin{tabular}{r|ll}\n",
       "  & platform & n\\\\\n",
       "  & <chr> & <int>\\\\\n",
       "\\hline\n",
       "\t1 & Flash     & 59047\\\\\n",
       "\t2 & HTML5     & 10904\\\\\n",
       "\t3 & Shockwave &  1996\\\\\n",
       "\t4 & Unity     &   875\\\\\n",
       "\t5 & Java      &   751\\\\\n",
       "\\end{tabular}\n"
      ],
      "text/markdown": [
       "\n",
       "A data.frame: 5 × 2\n",
       "\n",
       "| <!--/--> | platform &lt;chr&gt; | n &lt;int&gt; |\n",
       "|---|---|---|\n",
       "| 1 | Flash     | 59047 |\n",
       "| 2 | HTML5     | 10904 |\n",
       "| 3 | Shockwave |  1996 |\n",
       "| 4 | Unity     |   875 |\n",
       "| 5 | Java      |   751 |\n",
       "\n"
      ],
      "text/plain": [
       "  platform  n    \n",
       "1 Flash     59047\n",
       "2 HTML5     10904\n",
       "3 Shockwave  1996\n",
       "4 Unity       875\n",
       "5 Java        751"
      ]
     },
     "metadata": {},
     "output_type": "display_data"
    }
   ],
   "source": [
    "top_platforms <- dates %>% count(platform) %>% arrange(desc(n)) %>% head(5)\n",
    "top_platforms"
   ]
  },
  {
   "cell_type": "code",
   "execution_count": 19,
   "id": "29edee71",
   "metadata": {},
   "outputs": [
    {
     "data": {
      "image/png": "[encoded data removed]",
      "text/plain": [
       "plot without title"
      ]
     },
     "metadata": {
      "image/png": {
       "height": 420,
       "width": 420
      }
     },
     "output_type": "display_data"
    }
   ],
   "source": [
    "colors <- c(\"red\", \"orange\", \"blue\", \"green\", \"black\")\n",
    "\n",
    "top_platforms %>% as.data.frame() %>% arrange(platform) %>%\n",
    "  ggplot(aes(x = reorder(platform, n), y = n, fill = platform)) +\n",
    "  geom_bar(stat = \"identity\") + coord_flip() +\n",
    "  scale_y_continuous(breaks = seq(0, 60000, by = 10000)) +\n",
    "  ggtitle(\"Top five platforms distribution\") +\n",
    "  theme(legend.position = \"none\", axis.title.x = element_blank(),\n",
    "        axis.title.y = element_blank(), axis.text.y = element_text(face = \"bold\")) +\n",
    "  scale_fill_manual(values = colors)"
   ]
  },
  {
   "cell_type": "code",
   "execution_count": 20,
   "id": "17079019",
   "metadata": {},
   "outputs": [
    {
     "data": {
      "image/png": "[encoded data removed]",
      "text/plain": [
       "plot without title"
      ]
     },
     "metadata": {
      "image/png": {
       "height": 420,
       "width": 420
      }
     },
     "output_type": "display_data"
    }
   ],
   "source": [
    "sizes <- round(top_platforms$n / sum(top_platforms$n) * 100, 1)\n",
    "labels <- vector()\n",
    "\n",
    "for(i in 1:(length(sizes))){\n",
    "  labels[i] <- paste(top_platforms$platform[i], \"-\", toString(sizes[i]), \"%\")\n",
    "}\n",
    "\n",
    "colors <- c(\"red\", \"orange\", \"green\", \"black\", \"blue\")\n",
    "\n",
    "top_platforms %>% as.data.frame() %>%\n",
    "  ggplot(aes(x = \"\", y = sizes, fill = reorder(platform, -n))) +\n",
    "  geom_bar(stat = \"identity\", width = 1, color = \"black\") +\n",
    "  coord_polar(theta = \"y\", start = 0) +\n",
    "  theme(axis.text = element_blank(), axis.title.x = element_blank(),\n",
    "        axis.title.y = element_blank(), legend.title = element_blank()) +\n",
    "  scale_fill_manual(labels = labels, values = colors) +\n",
    "  ggtitle(\"Top five platforms distribution\")"
   ]
  },
  {
   "cell_type": "markdown",
   "id": "2ed945c3",
   "metadata": {},
   "source": [
    "*Flash* is clearly the winner, followed by a rising *HTML5* and its old companion *Shockwave*, with *Unity* and *Java* as outsiders."
   ]
  },
  {
   "cell_type": "markdown",
   "id": "1c2163e9",
   "metadata": {},
   "source": [
    "Web games were at their peak in the 2000s and many gamers are nostalgic about that decade, which could be considered a golden age. Thus, we expect to see that most of the games in our database have been released between 2000 and 2009. Let's check it out, while also comparing technologies against years."
   ]
  },
  {
   "cell_type": "code",
   "execution_count": 21,
   "id": "e771d5cd",
   "metadata": {},
   "outputs": [
    {
     "data": {
      "image/png": "[encoded data removed]",
      "text/plain": [
       "plot without title"
      ]
     },
     "metadata": {
      "image/png": {
       "height": 420,
       "width": 420
      }
     },
     "output_type": "display_data"
    }
   ],
   "source": [
    "year_platform <- dates %>% filter(platform %in% top_platforms$platform)\n",
    "years <- year_platform$releaseDate %>% sapply(substr, start = 1, stop = 4)\n",
    "year_platform$releaseDate <- years\n",
    "\n",
    "colors <- c(\"red\", \"orange\", \"blue\", \"green\", \"black\")\n",
    "\n",
    "year_platform %>% count(releaseDate, platform) %>%\n",
    "  ggplot(aes(x = releaseDate, y = n, fill = platform, width = 0.5)) +\n",
    "  geom_bar(position = position_stack(reverse = TRUE), stat = \"identity\") +\n",
    "  scale_y_continuous(breaks = seq(0, 6000, by = 1000)) +\n",
    "  theme(axis.title.x = element_blank(),\n",
    "        axis.text.x = element_text(angle = 90, vjust = 0.5, hjust = 1),\n",
    "        axis.title.y = element_blank()) +\n",
    "  scale_fill_manual(values = colors)"
   ]
  },
  {
   "cell_type": "markdown",
   "id": "39469b47",
   "metadata": {},
   "source": [
    "*Et voila*! As we were expecting, web games have steadily risen in popularity in the first decade of the third millennium, reached a peak in 2011 and today their number is slowly decreasing, apart from some fluctuations. This does not mean that fewer games are being made: it could simply be that there is less incentive to curate and preserve a recent game written in a technology which will probably stay on for a long time compared to an old game with a nostalgic value that runs the risk to disappear at any time.\n",
    "\n",
    "*Flash* dominated the scene between 2000 and 2017 (it's impressive to see that it lasted so long), while *HTML5* started to be relevant around 2013. *Shockwave* was most popular between 1996 and 2000, but continued to be used until 2007. *Unity* had six years of relative notoriety (2010-2016) and lastly, Java, despite being one of the first technologies eligible for making web games, has never known much use and moved off the radar around 2010."
   ]
  },
  {
   "cell_type": "markdown",
   "id": "4657791a",
   "metadata": {},
   "source": [
    "## Most common languages"
   ]
  },
  {
   "cell_type": "markdown",
   "id": "5f92a0cd",
   "metadata": {},
   "source": [
    "Let's move on to another topic: *Flashpoint* allows non-English content as well, and it can be interesting to know which countries have contributed the most to the world of web games aside from the anglophone ones."
   ]
  },
  {
   "cell_type": "code",
   "execution_count": 22,
   "id": "ede1f196",
   "metadata": {},
   "outputs": [
    {
     "data": {
      "text/html": [
       "<table class=\"dataframe\">\n",
       "<caption>A tibble: 10 × 2</caption>\n",
       "<thead>\n",
       "\t<tr><th scope=col>language</th><th scope=col>n</th></tr>\n",
       "\t<tr><th scope=col>&lt;chr&gt;</th><th scope=col>&lt;int&gt;</th></tr>\n",
       "</thead>\n",
       "<tbody>\n",
       "\t<tr><td>ja</td><td>7709</td></tr>\n",
       "\t<tr><td>pt</td><td>3350</td></tr>\n",
       "\t<tr><td>es</td><td>3095</td></tr>\n",
       "\t<tr><td>ko</td><td>2525</td></tr>\n",
       "\t<tr><td>fr</td><td>2519</td></tr>\n",
       "\t<tr><td>de</td><td>2298</td></tr>\n",
       "\t<tr><td>pl</td><td>2183</td></tr>\n",
       "\t<tr><td>ru</td><td>2015</td></tr>\n",
       "\t<tr><td>zh</td><td>2011</td></tr>\n",
       "\t<tr><td>it</td><td>1612</td></tr>\n",
       "</tbody>\n",
       "</table>\n"
      ],
      "text/latex": [
       "A tibble: 10 × 2\n",
       "\\begin{tabular}{ll}\n",
       " language & n\\\\\n",
       " <chr> & <int>\\\\\n",
       "\\hline\n",
       "\t ja & 7709\\\\\n",
       "\t pt & 3350\\\\\n",
       "\t es & 3095\\\\\n",
       "\t ko & 2525\\\\\n",
       "\t fr & 2519\\\\\n",
       "\t de & 2298\\\\\n",
       "\t pl & 2183\\\\\n",
       "\t ru & 2015\\\\\n",
       "\t zh & 2011\\\\\n",
       "\t it & 1612\\\\\n",
       "\\end{tabular}\n"
      ],
      "text/markdown": [
       "\n",
       "A tibble: 10 × 2\n",
       "\n",
       "| language &lt;chr&gt; | n &lt;int&gt; |\n",
       "|---|---|\n",
       "| ja | 7709 |\n",
       "| pt | 3350 |\n",
       "| es | 3095 |\n",
       "| ko | 2525 |\n",
       "| fr | 2519 |\n",
       "| de | 2298 |\n",
       "| pl | 2183 |\n",
       "| ru | 2015 |\n",
       "| zh | 2011 |\n",
       "| it | 1612 |\n",
       "\n"
      ],
      "text/plain": [
       "   language n   \n",
       "1  ja       7709\n",
       "2  pt       3350\n",
       "3  es       3095\n",
       "4  ko       2525\n",
       "5  fr       2519\n",
       "6  de       2298\n",
       "7  pl       2183\n",
       "8  ru       2015\n",
       "9  zh       2011\n",
       "10 it       1612"
      ]
     },
     "metadata": {},
     "output_type": "display_data"
    }
   ],
   "source": [
    "top_languages <- games %>% filter(language != \"\") %>% { . ->> tmp } %>%\n",
    "  select(language) %>%\n",
    "  vapply(gsub, pattern = \",\", replacement = \";\", character(nrow(tmp))) %>%\n",
    "  as.data.frame() %>%\n",
    "  separate_rows(language, sep = \"; \") %>% count(language) %>%\n",
    "  arrange(desc(n)) %>%\n",
    "  filter(language != \"en\") %>% head(10)\n",
    "top_languages"
   ]
  },
  {
   "cell_type": "markdown",
   "id": "d2594f65",
   "metadata": {},
   "source": [
    "Since a game can come in different languages, separated by a colon and a space (\"; \"), we had to count each occurrence individually."
   ]
  },
  {
   "cell_type": "code",
   "execution_count": 23,
   "id": "4a3cabd5",
   "metadata": {},
   "outputs": [
    {
     "data": {
      "image/png": "[encoded data removed]",
      "text/plain": [
       "plot without title"
      ]
     },
     "metadata": {
      "image/png": {
       "height": 420,
       "width": 420
      }
     },
     "output_type": "display_data"
    }
   ],
   "source": [
    "top_languages %>% as.data.frame() %>% arrange(language) %>%\n",
    "  ggplot(aes(x = reorder(language, n), y = n, fill = language)) +\n",
    "  geom_bar(stat = \"identity\") + coord_flip() +\n",
    "  scale_y_continuous(breaks = seq(0, 8000, by = 1000)) +\n",
    "  ggtitle(\"Top ten languages distribution\") +\n",
    "  theme(legend.position = \"none\", axis.title.x = element_blank(),\n",
    "        axis.title.y = element_blank(), axis.text.y = element_text(face = \"bold\"))"
   ]
  },
  {
   "cell_type": "code",
   "execution_count": 24,
   "id": "9f950bbd",
   "metadata": {},
   "outputs": [
    {
     "data": {
      "image/png": "[encoded data removed]",
      "text/plain": [
       "plot without title"
      ]
     },
     "metadata": {
      "image/png": {
       "height": 420,
       "width": 420
      }
     },
     "output_type": "display_data"
    }
   ],
   "source": [
    "sizes <- round(top_languages$n / sum(top_languages$n) * 100, 1)\n",
    "labels <- vector()\n",
    "\n",
    "for(i in 1:(length(sizes))){\n",
    "  labels[i] <- paste(top_languages$language[i], \"-\", toString(sizes[i]), \"%\")\n",
    "}\n",
    "\n",
    "top_languages %>% as.data.frame() %>%\n",
    "  ggplot(aes(x = \"\", y = sizes, fill = reorder(language, -n))) +\n",
    "  geom_bar(stat = \"identity\", width = 1, color = \"black\") +\n",
    "  coord_polar(theta = \"y\", start = 0) +\n",
    "  theme(axis.text = element_blank(), axis.title.x = element_blank(),\n",
    "        axis.title.y = element_blank(),\n",
    "        legend.title = element_blank()) +\n",
    "  scale_fill_discrete(labels = labels) +\n",
    "  ggtitle(\"Top ten languages distribution\")"
   ]
  },
  {
   "cell_type": "markdown",
   "id": "c5b65442",
   "metadata": {},
   "source": [
    "We can see a strong presence of Asian content, with Japanese, Korean and Chinese among the top ten languages. The rest of the list is completed by European countries, namely Portugal, Spain, France, Germany, Poland and Italy, as well as Russia."
   ]
  },
  {
   "cell_type": "markdown",
   "id": "9d2cad54",
   "metadata": {},
   "source": [
    "## Most popular genres"
   ]
  },
  {
   "cell_type": "markdown",
   "id": "088b87ab",
   "metadata": {},
   "source": [
    "Let's now focus on game genres, featured on the *tagsStr* column, to discover the most common ones."
   ]
  },
  {
   "cell_type": "code",
   "execution_count": 25,
   "id": "750304e8",
   "metadata": {},
   "outputs": [
    {
     "data": {
      "text/html": [
       "<table class=\"dataframe\">\n",
       "<caption>A tibble: 10 × 2</caption>\n",
       "<thead>\n",
       "\t<tr><th scope=col>tagsStr</th><th scope=col>n</th></tr>\n",
       "\t<tr><th scope=col>&lt;chr&gt;</th><th scope=col>&lt;int&gt;</th></tr>\n",
       "</thead>\n",
       "<tbody>\n",
       "\t<tr><td>Arcade         </td><td>27308</td></tr>\n",
       "\t<tr><td>Puzzle         </td><td>25284</td></tr>\n",
       "\t<tr><td>Adventure      </td><td>24981</td></tr>\n",
       "\t<tr><td>Escape the Room</td><td>17725</td></tr>\n",
       "\t<tr><td>Dress Up       </td><td>12101</td></tr>\n",
       "\t<tr><td>Simulation     </td><td>11993</td></tr>\n",
       "\t<tr><td>Action         </td><td>10452</td></tr>\n",
       "\t<tr><td>Score-Attack   </td><td> 9703</td></tr>\n",
       "\t<tr><td>Loop           </td><td> 7599</td></tr>\n",
       "\t<tr><td>Mouse-only     </td><td> 7232</td></tr>\n",
       "</tbody>\n",
       "</table>\n"
      ],
      "text/latex": [
       "A tibble: 10 × 2\n",
       "\\begin{tabular}{ll}\n",
       " tagsStr & n\\\\\n",
       " <chr> & <int>\\\\\n",
       "\\hline\n",
       "\t Arcade          & 27308\\\\\n",
       "\t Puzzle          & 25284\\\\\n",
       "\t Adventure       & 24981\\\\\n",
       "\t Escape the Room & 17725\\\\\n",
       "\t Dress Up        & 12101\\\\\n",
       "\t Simulation      & 11993\\\\\n",
       "\t Action          & 10452\\\\\n",
       "\t Score-Attack    &  9703\\\\\n",
       "\t Loop            &  7599\\\\\n",
       "\t Mouse-only      &  7232\\\\\n",
       "\\end{tabular}\n"
      ],
      "text/markdown": [
       "\n",
       "A tibble: 10 × 2\n",
       "\n",
       "| tagsStr &lt;chr&gt; | n &lt;int&gt; |\n",
       "|---|---|\n",
       "| Arcade          | 27308 |\n",
       "| Puzzle          | 25284 |\n",
       "| Adventure       | 24981 |\n",
       "| Escape the Room | 17725 |\n",
       "| Dress Up        | 12101 |\n",
       "| Simulation      | 11993 |\n",
       "| Action          | 10452 |\n",
       "| Score-Attack    |  9703 |\n",
       "| Loop            |  7599 |\n",
       "| Mouse-only      |  7232 |\n",
       "\n"
      ],
      "text/plain": [
       "   tagsStr         n    \n",
       "1  Arcade          27308\n",
       "2  Puzzle          25284\n",
       "3  Adventure       24981\n",
       "4  Escape the Room 17725\n",
       "5  Dress Up        12101\n",
       "6  Simulation      11993\n",
       "7  Action          10452\n",
       "8  Score-Attack     9703\n",
       "9  Loop             7599\n",
       "10 Mouse-only       7232"
      ]
     },
     "metadata": {},
     "output_type": "display_data"
    }
   ],
   "source": [
    "top_genres <- games %>% filter(tagsStr != \"\") %>% { . ->> tmp } %>%\n",
    "  select(tagsStr) %>%\n",
    "  vapply(gsub, pattern = \",\", replacement = \";\", character(nrow(tmp))) %>%\n",
    "  as.data.frame() %>%\n",
    "  separate_rows(tagsStr, sep = \"; \") %>% count(tagsStr) %>%\n",
    "  arrange(desc(n)) %>% head(10)\n",
    "top_genres"
   ]
  },
  {
   "cell_type": "code",
   "execution_count": 26,
   "id": "1996a803",
   "metadata": {},
   "outputs": [
    {
     "data": {
      "image/png": "[encoded data removed]",
      "text/plain": [
       "plot without title"
      ]
     },
     "metadata": {
      "image/png": {
       "height": 420,
       "width": 420
      }
     },
     "output_type": "display_data"
    }
   ],
   "source": [
    "top_genres %>% as.data.frame() %>%\n",
    "  ggplot(aes(x = reorder(tagsStr, n), y = n, fill = tagsStr)) +\n",
    "  geom_bar(stat = \"identity\") + coord_flip() +\n",
    "  scale_y_continuous(breaks = seq(0, 30000, by = 5000)) +\n",
    "  ggtitle(\"Top ten genres distribution\") +\n",
    "  theme(legend.position = \"none\", axis.title.x = element_blank(),\n",
    "        axis.title.y = element_blank(),\n",
    "        axis.text.y = element_text(face = \"bold\"))"
   ]
  },
  {
   "cell_type": "code",
   "execution_count": 27,
   "id": "92875710",
   "metadata": {},
   "outputs": [
    {
     "data": {
      "image/png": "[encoded data removed]",
      "text/plain": [
       "plot without title"
      ]
     },
     "metadata": {
      "image/png": {
       "height": 420,
       "width": 420
      }
     },
     "output_type": "display_data"
    }
   ],
   "source": [
    "sizes <- round(top_genres$n / sum(top_genres$n) * 100, 1)\n",
    "labels <- vector()\n",
    "\n",
    "for(i in 1:(length(sizes))){\n",
    "  labels[i] <- paste(top_genres$tagsStr[i], \"-\", toString(sizes[i]), \"%\")\n",
    "}\n",
    "\n",
    "top_genres %>% as.data.frame() %>%\n",
    "  ggplot(aes(x = \"\", y = sizes, fill = reorder(tagsStr, -n))) +\n",
    "  geom_bar(stat = \"identity\", width = 1, color = \"black\") +\n",
    "  coord_polar(theta = \"y\", start = 0) +\n",
    "  theme(axis.text = element_blank(), axis.title.x = element_blank(),\n",
    "        axis.title.y = element_blank(),\n",
    "        legend.title = element_blank()) +\n",
    "  scale_fill_discrete(labels = labels) +\n",
    "  ggtitle(\"Top ten genres distribution\")"
   ]
  },
  {
   "cell_type": "markdown",
   "id": "54e06494",
   "metadata": {},
   "source": [
    "The big three genres are *Arcade*, *Puzzle* and *Adventure* and honestly it's kind of odd to see *Action* at such a low position. Conversely, as we expected from our previous analysis on developers, *Escape the Room* is fairly popular, along with *Dress Up* and *Simulation* games."
   ]
  },
  {
   "cell_type": "markdown",
   "id": "69ac09d8",
   "metadata": {},
   "source": [
    "## Most played games"
   ]
  },
  {
   "cell_type": "markdown",
   "id": "4272434c",
   "metadata": {},
   "source": [
    "As a final insight, let's find out which are the most played games among the *Flashpoint* users: to do this, we are going to use some official statistics from the platform itself. Visit https://flashpoint-analytics.unstable.life/, scroll down to the corresponding section and download the data in .csv format."
   ]
  },
  {
   "cell_type": "code",
   "execution_count": 28,
   "id": "76c9d690",
   "metadata": {},
   "outputs": [
    {
     "data": {
      "text/html": [
       "<table class=\"dataframe\">\n",
       "<caption>A data.frame: 40 × 2</caption>\n",
       "<thead>\n",
       "\t<tr><th scope=col>id</th><th scope=col>Play.Count</th></tr>\n",
       "\t<tr><th scope=col>&lt;chr&gt;</th><th scope=col>&lt;int&gt;</th></tr>\n",
       "</thead>\n",
       "<tbody>\n",
       "\t<tr><td>83e1b5e7-4282-4bbd-868e-dcfa965e4abf</td><td>48493</td></tr>\n",
       "\t<tr><td>a94d865c-cb38-4d31-96f3-dda26502c4a3</td><td>10228</td></tr>\n",
       "\t<tr><td>617ca7f3-1cff-3f0c-5b53-07498b3b28d8</td><td> 7454</td></tr>\n",
       "\t<tr><td>8d09fc0d-6f25-4be6-b396-8fcaddad4e5e</td><td> 7253</td></tr>\n",
       "\t<tr><td>b0ce771e-7c02-4317-8528-ba48139e2688</td><td> 6922</td></tr>\n",
       "\t<tr><td>fdee4800-b5c9-49e0-b19e-22f2b0ccab68</td><td> 6919</td></tr>\n",
       "\t<tr><td>1e903a30-5c37-15bb-8e5e-6fea5a8103f2</td><td> 6678</td></tr>\n",
       "\t<tr><td>07921a2f-26fd-4364-9671-ee0c8d256ec1</td><td> 6423</td></tr>\n",
       "\t<tr><td>b9a8dbb9-0cd7-434b-b226-13dc9dd07b49</td><td> 6341</td></tr>\n",
       "\t<tr><td>a8707c0f-6aac-4c94-9d8a-cc397c97cc88</td><td> 5745</td></tr>\n",
       "\t<tr><td>92ba2d91-e041-2bd4-49ea-21758df711ff</td><td> 5613</td></tr>\n",
       "\t<tr><td>f55d6576-1aee-414a-bd1e-b7678d697dcf</td><td> 5605</td></tr>\n",
       "\t<tr><td>16b04977-f714-4239-b343-b759e16a33af</td><td> 5579</td></tr>\n",
       "\t<tr><td>5fa91cac-25c9-2a53-f391-09a099cb489b</td><td> 5203</td></tr>\n",
       "\t<tr><td>ed058412-fa96-4ea5-b2cb-2baff6a24b2a</td><td> 5197</td></tr>\n",
       "\t<tr><td>3337a4a2-dacf-4027-824c-aaf77623de65</td><td> 4842</td></tr>\n",
       "\t<tr><td>164e2dc8-31dd-4f59-a6be-46c2087e190f</td><td> 4760</td></tr>\n",
       "\t<tr><td>92781aea-6ad0-2bdb-a963-7131c49b7d07</td><td> 4628</td></tr>\n",
       "\t<tr><td>602762ba-a1b6-4810-8093-e5dbf0c33b61</td><td> 4521</td></tr>\n",
       "\t<tr><td>938f4383-8c92-8e8d-511b-004b5c69999d</td><td> 4427</td></tr>\n",
       "\t<tr><td>279b23ca-c7f3-4f56-a02f-3752ec7c5c5d</td><td> 4407</td></tr>\n",
       "\t<tr><td>6b50cb43-ad66-4ec8-9e46-3bb06821f2ab</td><td> 4332</td></tr>\n",
       "\t<tr><td>228087d3-c291-4a87-82e6-c6ffd3d4d2f6</td><td> 4176</td></tr>\n",
       "\t<tr><td>dbb21635-b0d5-78d9-a749-c4778a07e698</td><td> 3958</td></tr>\n",
       "\t<tr><td>de163cff-9dbe-fcbb-164c-53f5d6873fad</td><td> 3883</td></tr>\n",
       "\t<tr><td>16c27895-f7a6-6c65-18f3-feebcf87d28a</td><td> 3874</td></tr>\n",
       "\t<tr><td>c3ab2546-a7b0-89b2-82de-4044d61e1cbd</td><td> 3684</td></tr>\n",
       "\t<tr><td>b0d2b9a9-ab00-465e-b5a3-56031b92f070</td><td> 3625</td></tr>\n",
       "\t<tr><td>8f7f9fe8-4c55-43b1-a574-046c63712b39</td><td> 3477</td></tr>\n",
       "\t<tr><td>2ecf56d6-c5e4-a801-bc7f-60374ba1a051</td><td> 3410</td></tr>\n",
       "\t<tr><td>4423194a-22fe-427a-8eae-1b4d9c42395c</td><td> 3247</td></tr>\n",
       "\t<tr><td>9525910d-72b8-4e84-b668-43a267e00d9c</td><td> 3238</td></tr>\n",
       "\t<tr><td>c85ff4e3-1e2d-4b4e-8c4f-958d9db4aff2</td><td> 3237</td></tr>\n",
       "\t<tr><td>da6b3cb4-78a7-e998-fcf4-cb26a7950754</td><td> 3227</td></tr>\n",
       "\t<tr><td>2d0071b4-8ea9-40b1-a642-c970ca260cb2</td><td> 3157</td></tr>\n",
       "\t<tr><td>ab638461-9317-bbaa-9ccf-e7f0360e3b1b</td><td> 3136</td></tr>\n",
       "\t<tr><td>cf29b65d-e3e9-4da9-8201-d76de38736ea</td><td> 3036</td></tr>\n",
       "\t<tr><td>15ac0ed0-dbd4-8a95-5eec-4cf3e04fc771</td><td> 3017</td></tr>\n",
       "\t<tr><td>190c1bf6-4fcc-4b32-8278-f5b26db8eec1</td><td> 2850</td></tr>\n",
       "\t<tr><td>242dedc0-431a-4e4e-990c-58fe3c8ef740</td><td> 2822</td></tr>\n",
       "</tbody>\n",
       "</table>\n"
      ],
      "text/latex": [
       "A data.frame: 40 × 2\n",
       "\\begin{tabular}{ll}\n",
       " id & Play.Count\\\\\n",
       " <chr> & <int>\\\\\n",
       "\\hline\n",
       "\t 83e1b5e7-4282-4bbd-868e-dcfa965e4abf & 48493\\\\\n",
       "\t a94d865c-cb38-4d31-96f3-dda26502c4a3 & 10228\\\\\n",
       "\t 617ca7f3-1cff-3f0c-5b53-07498b3b28d8 &  7454\\\\\n",
       "\t 8d09fc0d-6f25-4be6-b396-8fcaddad4e5e &  7253\\\\\n",
       "\t b0ce771e-7c02-4317-8528-ba48139e2688 &  6922\\\\\n",
       "\t fdee4800-b5c9-49e0-b19e-22f2b0ccab68 &  6919\\\\\n",
       "\t 1e903a30-5c37-15bb-8e5e-6fea5a8103f2 &  6678\\\\\n",
       "\t 07921a2f-26fd-4364-9671-ee0c8d256ec1 &  6423\\\\\n",
       "\t b9a8dbb9-0cd7-434b-b226-13dc9dd07b49 &  6341\\\\\n",
       "\t a8707c0f-6aac-4c94-9d8a-cc397c97cc88 &  5745\\\\\n",
       "\t 92ba2d91-e041-2bd4-49ea-21758df711ff &  5613\\\\\n",
       "\t f55d6576-1aee-414a-bd1e-b7678d697dcf &  5605\\\\\n",
       "\t 16b04977-f714-4239-b343-b759e16a33af &  5579\\\\\n",
       "\t 5fa91cac-25c9-2a53-f391-09a099cb489b &  5203\\\\\n",
       "\t ed058412-fa96-4ea5-b2cb-2baff6a24b2a &  5197\\\\\n",
       "\t 3337a4a2-dacf-4027-824c-aaf77623de65 &  4842\\\\\n",
       "\t 164e2dc8-31dd-4f59-a6be-46c2087e190f &  4760\\\\\n",
       "\t 92781aea-6ad0-2bdb-a963-7131c49b7d07 &  4628\\\\\n",
       "\t 602762ba-a1b6-4810-8093-e5dbf0c33b61 &  4521\\\\\n",
       "\t 938f4383-8c92-8e8d-511b-004b5c69999d &  4427\\\\\n",
       "\t 279b23ca-c7f3-4f56-a02f-3752ec7c5c5d &  4407\\\\\n",
       "\t 6b50cb43-ad66-4ec8-9e46-3bb06821f2ab &  4332\\\\\n",
       "\t 228087d3-c291-4a87-82e6-c6ffd3d4d2f6 &  4176\\\\\n",
       "\t dbb21635-b0d5-78d9-a749-c4778a07e698 &  3958\\\\\n",
       "\t de163cff-9dbe-fcbb-164c-53f5d6873fad &  3883\\\\\n",
       "\t 16c27895-f7a6-6c65-18f3-feebcf87d28a &  3874\\\\\n",
       "\t c3ab2546-a7b0-89b2-82de-4044d61e1cbd &  3684\\\\\n",
       "\t b0d2b9a9-ab00-465e-b5a3-56031b92f070 &  3625\\\\\n",
       "\t 8f7f9fe8-4c55-43b1-a574-046c63712b39 &  3477\\\\\n",
       "\t 2ecf56d6-c5e4-a801-bc7f-60374ba1a051 &  3410\\\\\n",
       "\t 4423194a-22fe-427a-8eae-1b4d9c42395c &  3247\\\\\n",
       "\t 9525910d-72b8-4e84-b668-43a267e00d9c &  3238\\\\\n",
       "\t c85ff4e3-1e2d-4b4e-8c4f-958d9db4aff2 &  3237\\\\\n",
       "\t da6b3cb4-78a7-e998-fcf4-cb26a7950754 &  3227\\\\\n",
       "\t 2d0071b4-8ea9-40b1-a642-c970ca260cb2 &  3157\\\\\n",
       "\t ab638461-9317-bbaa-9ccf-e7f0360e3b1b &  3136\\\\\n",
       "\t cf29b65d-e3e9-4da9-8201-d76de38736ea &  3036\\\\\n",
       "\t 15ac0ed0-dbd4-8a95-5eec-4cf3e04fc771 &  3017\\\\\n",
       "\t 190c1bf6-4fcc-4b32-8278-f5b26db8eec1 &  2850\\\\\n",
       "\t 242dedc0-431a-4e4e-990c-58fe3c8ef740 &  2822\\\\\n",
       "\\end{tabular}\n"
      ],
      "text/markdown": [
       "\n",
       "A data.frame: 40 × 2\n",
       "\n",
       "| id &lt;chr&gt; | Play.Count &lt;int&gt; |\n",
       "|---|---|\n",
       "| 83e1b5e7-4282-4bbd-868e-dcfa965e4abf | 48493 |\n",
       "| a94d865c-cb38-4d31-96f3-dda26502c4a3 | 10228 |\n",
       "| 617ca7f3-1cff-3f0c-5b53-07498b3b28d8 |  7454 |\n",
       "| 8d09fc0d-6f25-4be6-b396-8fcaddad4e5e |  7253 |\n",
       "| b0ce771e-7c02-4317-8528-ba48139e2688 |  6922 |\n",
       "| fdee4800-b5c9-49e0-b19e-22f2b0ccab68 |  6919 |\n",
       "| 1e903a30-5c37-15bb-8e5e-6fea5a8103f2 |  6678 |\n",
       "| 07921a2f-26fd-4364-9671-ee0c8d256ec1 |  6423 |\n",
       "| b9a8dbb9-0cd7-434b-b226-13dc9dd07b49 |  6341 |\n",
       "| a8707c0f-6aac-4c94-9d8a-cc397c97cc88 |  5745 |\n",
       "| 92ba2d91-e041-2bd4-49ea-21758df711ff |  5613 |\n",
       "| f55d6576-1aee-414a-bd1e-b7678d697dcf |  5605 |\n",
       "| 16b04977-f714-4239-b343-b759e16a33af |  5579 |\n",
       "| 5fa91cac-25c9-2a53-f391-09a099cb489b |  5203 |\n",
       "| ed058412-fa96-4ea5-b2cb-2baff6a24b2a |  5197 |\n",
       "| 3337a4a2-dacf-4027-824c-aaf77623de65 |  4842 |\n",
       "| 164e2dc8-31dd-4f59-a6be-46c2087e190f |  4760 |\n",
       "| 92781aea-6ad0-2bdb-a963-7131c49b7d07 |  4628 |\n",
       "| 602762ba-a1b6-4810-8093-e5dbf0c33b61 |  4521 |\n",
       "| 938f4383-8c92-8e8d-511b-004b5c69999d |  4427 |\n",
       "| 279b23ca-c7f3-4f56-a02f-3752ec7c5c5d |  4407 |\n",
       "| 6b50cb43-ad66-4ec8-9e46-3bb06821f2ab |  4332 |\n",
       "| 228087d3-c291-4a87-82e6-c6ffd3d4d2f6 |  4176 |\n",
       "| dbb21635-b0d5-78d9-a749-c4778a07e698 |  3958 |\n",
       "| de163cff-9dbe-fcbb-164c-53f5d6873fad |  3883 |\n",
       "| 16c27895-f7a6-6c65-18f3-feebcf87d28a |  3874 |\n",
       "| c3ab2546-a7b0-89b2-82de-4044d61e1cbd |  3684 |\n",
       "| b0d2b9a9-ab00-465e-b5a3-56031b92f070 |  3625 |\n",
       "| 8f7f9fe8-4c55-43b1-a574-046c63712b39 |  3477 |\n",
       "| 2ecf56d6-c5e4-a801-bc7f-60374ba1a051 |  3410 |\n",
       "| 4423194a-22fe-427a-8eae-1b4d9c42395c |  3247 |\n",
       "| 9525910d-72b8-4e84-b668-43a267e00d9c |  3238 |\n",
       "| c85ff4e3-1e2d-4b4e-8c4f-958d9db4aff2 |  3237 |\n",
       "| da6b3cb4-78a7-e998-fcf4-cb26a7950754 |  3227 |\n",
       "| 2d0071b4-8ea9-40b1-a642-c970ca260cb2 |  3157 |\n",
       "| ab638461-9317-bbaa-9ccf-e7f0360e3b1b |  3136 |\n",
       "| cf29b65d-e3e9-4da9-8201-d76de38736ea |  3036 |\n",
       "| 15ac0ed0-dbd4-8a95-5eec-4cf3e04fc771 |  3017 |\n",
       "| 190c1bf6-4fcc-4b32-8278-f5b26db8eec1 |  2850 |\n",
       "| 242dedc0-431a-4e4e-990c-58fe3c8ef740 |  2822 |\n",
       "\n"
      ],
      "text/plain": [
       "   id                                   Play.Count\n",
       "1  83e1b5e7-4282-4bbd-868e-dcfa965e4abf 48493     \n",
       "2  a94d865c-cb38-4d31-96f3-dda26502c4a3 10228     \n",
       "3  617ca7f3-1cff-3f0c-5b53-07498b3b28d8  7454     \n",
       "4  8d09fc0d-6f25-4be6-b396-8fcaddad4e5e  7253     \n",
       "5  b0ce771e-7c02-4317-8528-ba48139e2688  6922     \n",
       "6  fdee4800-b5c9-49e0-b19e-22f2b0ccab68  6919     \n",
       "7  1e903a30-5c37-15bb-8e5e-6fea5a8103f2  6678     \n",
       "8  07921a2f-26fd-4364-9671-ee0c8d256ec1  6423     \n",
       "9  b9a8dbb9-0cd7-434b-b226-13dc9dd07b49  6341     \n",
       "10 a8707c0f-6aac-4c94-9d8a-cc397c97cc88  5745     \n",
       "11 92ba2d91-e041-2bd4-49ea-21758df711ff  5613     \n",
       "12 f55d6576-1aee-414a-bd1e-b7678d697dcf  5605     \n",
       "13 16b04977-f714-4239-b343-b759e16a33af  5579     \n",
       "14 5fa91cac-25c9-2a53-f391-09a099cb489b  5203     \n",
       "15 ed058412-fa96-4ea5-b2cb-2baff6a24b2a  5197     \n",
       "16 3337a4a2-dacf-4027-824c-aaf77623de65  4842     \n",
       "17 164e2dc8-31dd-4f59-a6be-46c2087e190f  4760     \n",
       "18 92781aea-6ad0-2bdb-a963-7131c49b7d07  4628     \n",
       "19 602762ba-a1b6-4810-8093-e5dbf0c33b61  4521     \n",
       "20 938f4383-8c92-8e8d-511b-004b5c69999d  4427     \n",
       "21 279b23ca-c7f3-4f56-a02f-3752ec7c5c5d  4407     \n",
       "22 6b50cb43-ad66-4ec8-9e46-3bb06821f2ab  4332     \n",
       "23 228087d3-c291-4a87-82e6-c6ffd3d4d2f6  4176     \n",
       "24 dbb21635-b0d5-78d9-a749-c4778a07e698  3958     \n",
       "25 de163cff-9dbe-fcbb-164c-53f5d6873fad  3883     \n",
       "26 16c27895-f7a6-6c65-18f3-feebcf87d28a  3874     \n",
       "27 c3ab2546-a7b0-89b2-82de-4044d61e1cbd  3684     \n",
       "28 b0d2b9a9-ab00-465e-b5a3-56031b92f070  3625     \n",
       "29 8f7f9fe8-4c55-43b1-a574-046c63712b39  3477     \n",
       "30 2ecf56d6-c5e4-a801-bc7f-60374ba1a051  3410     \n",
       "31 4423194a-22fe-427a-8eae-1b4d9c42395c  3247     \n",
       "32 9525910d-72b8-4e84-b668-43a267e00d9c  3238     \n",
       "33 c85ff4e3-1e2d-4b4e-8c4f-958d9db4aff2  3237     \n",
       "34 da6b3cb4-78a7-e998-fcf4-cb26a7950754  3227     \n",
       "35 2d0071b4-8ea9-40b1-a642-c970ca260cb2  3157     \n",
       "36 ab638461-9317-bbaa-9ccf-e7f0360e3b1b  3136     \n",
       "37 cf29b65d-e3e9-4da9-8201-d76de38736ea  3036     \n",
       "38 15ac0ed0-dbd4-8a95-5eec-4cf3e04fc771  3017     \n",
       "39 190c1bf6-4fcc-4b32-8278-f5b26db8eec1  2850     \n",
       "40 242dedc0-431a-4e4e-990c-58fe3c8ef740  2822     "
      ]
     },
     "metadata": {},
     "output_type": "display_data"
    }
   ],
   "source": [
    "most_played <- read.csv(\"data/most_played.csv\") %>% rename(id = category)\n",
    "most_played"
   ]
  },
  {
   "cell_type": "markdown",
   "id": "eae45947",
   "metadata": {},
   "source": [
    "The file contains the *id* for the most 40 played games, along with a play count. Let's use the identifiers to find the titles of these games and their other info."
   ]
  },
  {
   "cell_type": "code",
   "execution_count": 29,
   "id": "b3631bb0",
   "metadata": {},
   "outputs": [
    {
     "data": {
      "text/html": [
       "<table class=\"dataframe\">\n",
       "<caption>A data.frame: 40 × 10</caption>\n",
       "<thead>\n",
       "\t<tr><th scope=col>id</th><th scope=col>title</th><th scope=col>developer</th><th scope=col>publisher</th><th scope=col>platform</th><th scope=col>releaseDate</th><th scope=col>language</th><th scope=col>library</th><th scope=col>tagsStr</th><th scope=col>Play.Count</th></tr>\n",
       "\t<tr><th scope=col>&lt;chr&gt;</th><th scope=col>&lt;chr&gt;</th><th scope=col>&lt;chr&gt;</th><th scope=col>&lt;chr&gt;</th><th scope=col>&lt;chr&gt;</th><th scope=col>&lt;chr&gt;</th><th scope=col>&lt;chr&gt;</th><th scope=col>&lt;chr&gt;</th><th scope=col>&lt;chr&gt;</th><th scope=col>&lt;int&gt;</th></tr>\n",
       "</thead>\n",
       "<tbody>\n",
       "\t<tr><td>83e1b5e7-4282-4bbd-868e-dcfa965e4abf</td><td>Poptropica                                </td><td>Sandbox Networks Inc.; Pearson Education</td><td>               </td><td>Flash    </td><td>2007-09   </td><td>en    </td><td>arcade</td><td>Educational; Platformer; Puzzle; Variety; Side-Scrolling                                                                                                                                                                                                                                                                                                            </td><td>48493</td></tr>\n",
       "\t<tr><td>a94d865c-cb38-4d31-96f3-dda26502c4a3</td><td>Jacksmith                                 </td><td>Flipline Studios                        </td><td>PapaLouie.com  </td><td>Flash    </td><td>2012-09-27</td><td>en    </td><td>arcade</td><td>Simulation; Time Management                                                                                                                                                                                                                                                                                                                                         </td><td>10228</td></tr>\n",
       "\t<tr><td>617ca7f3-1cff-3f0c-5b53-07498b3b28d8</td><td>Papa's Cheeseria                          </td><td>Flipline Studios                        </td><td>PapaLouie.com  </td><td>Flash    </td><td>2015-06-10</td><td>en    </td><td>arcade</td><td>Cooking; Simulation; Time Management; Achievements                                                                                                                                                                                                                                                                                                                  </td><td> 7454</td></tr>\n",
       "\t<tr><td>8d09fc0d-6f25-4be6-b396-8fcaddad4e5e</td><td>Strike Force Heroes 3                     </td><td>Sky9 Games                              </td><td>Armor Games    </td><td>Flash    </td><td>          </td><td>en    </td><td>arcade</td><td>Action; Shooter                                                                                                                                                                                                                                                                                                                                                     </td><td> 7253</td></tr>\n",
       "\t<tr><td>b0ce771e-7c02-4317-8528-ba48139e2688</td><td>Super Mario Bros. Crossover               </td><td>Exploding Rabbit                        </td><td>               </td><td>Flash    </td><td>2010-04-27</td><td>en    </td><td>arcade</td><td>Arcade; Platformer; Score-Attack; Pixel; Side-Scrolling; Castlevania; Contra; Final Fantasy; Kid Icarus; Kunio-kun; Mega Man; Metroid; Super Mario; The Legend of Zelda                                                                                                                                                                                             </td><td> 6922</td></tr>\n",
       "\t<tr><td>fdee4800-b5c9-49e0-b19e-22f2b0ccab68</td><td>Strike Force Heroes                       </td><td>Sky9 Games                              </td><td>Armor Games    </td><td>Flash    </td><td>2012-05-31</td><td>en    </td><td>arcade</td><td>Shooter; Action                                                                                                                                                                                                                                                                                                                                                     </td><td> 6919</td></tr>\n",
       "\t<tr><td>1e903a30-5c37-15bb-8e5e-6fea5a8103f2</td><td>Papa's Scooperia                          </td><td>Flipline Studios                        </td><td>PapaLouie.com  </td><td>Flash    </td><td>2018-07-24</td><td>en    </td><td>arcade</td><td>Cooking; Simulation; Time Management; Achievements                                                                                                                                                                                                                                                                                                                  </td><td> 6678</td></tr>\n",
       "\t<tr><td>07921a2f-26fd-4364-9671-ee0c8d256ec1</td><td>Bloons TD 5                               </td><td>Ninja Kiwi                              </td><td>Ninja Kiwi     </td><td>Flash    </td><td>2011-12-13</td><td>en    </td><td>arcade</td><td>Tower Defense; Strategy                                                                                                                                                                                                                                                                                                                                             </td><td> 6423</td></tr>\n",
       "\t<tr><td>b9a8dbb9-0cd7-434b-b226-13dc9dd07b49</td><td>Papa's Sushiria                           </td><td>Flipline Studios                        </td><td>PapaLouie.com  </td><td>Flash    </td><td>2016-12-13</td><td>en    </td><td>arcade</td><td>Cooking; Simulation; Time Management; Achievements                                                                                                                                                                                                                                                                                                                  </td><td> 6341</td></tr>\n",
       "\t<tr><td>a8707c0f-6aac-4c94-9d8a-cc397c97cc88</td><td>Papa's Bakeria                            </td><td>Flipline Studios                        </td><td>PapaLouie.com  </td><td>Flash    </td><td>2016-03-14</td><td>en    </td><td>arcade</td><td>Cooking; Simulation; Time Management; Achievements                                                                                                                                                                                                                                                                                                                  </td><td> 5745</td></tr>\n",
       "\t<tr><td>92ba2d91-e041-2bd4-49ea-21758df711ff</td><td>Papa's Freezeria                          </td><td>Flipline Studios                        </td><td>Armor Games    </td><td>Flash    </td><td>2011-08-05</td><td>en    </td><td>arcade</td><td>Cooking; Simulation; Time Management; Achievements; Tropical                                                                                                                                                                                                                                                                                                        </td><td> 5613</td></tr>\n",
       "\t<tr><td>f55d6576-1aee-414a-bd1e-b7678d697dcf</td><td>Papa's Burgeria                           </td><td>Flipline Studios                        </td><td>               </td><td>Flash    </td><td>2010-12-06</td><td>en    </td><td>arcade</td><td>Cooking; Simulation; Time Management                                                                                                                                                                                                                                                                                                                                </td><td> 5605</td></tr>\n",
       "\t<tr><td>16b04977-f714-4239-b343-b759e16a33af</td><td>Super Mario 63                            </td><td>Runouw                                  </td><td>Newgrounds     </td><td>Flash    </td><td>2009-06-10</td><td>en    </td><td>arcade</td><td>Level Editor; Platformer; Super Mario                                                                                                                                                                                                                                                                                                                               </td><td> 5579</td></tr>\n",
       "\t<tr><td>5fa91cac-25c9-2a53-f391-09a099cb489b</td><td>Epic Battle Fantasy 5                     </td><td>Kupo Games                              </td><td>               </td><td>Flash    </td><td>2020-01-21</td><td>      </td><td>arcade</td><td>RPG                                                                                                                                                                                                                                                                                                                                                                 </td><td> 5203</td></tr>\n",
       "\t<tr><td>ed058412-fa96-4ea5-b2cb-2baff6a24b2a</td><td><span style=white-space:pre-wrap>Super Smash Flash 2                       </span></td><td><span style=white-space:pre-wrap>McLeodGaming                            </span></td><td><span style=white-space:pre-wrap>McLeodGaming   </span></td><td><span style=white-space:pre-wrap>Flash    </span></td><td>2007-12-25</td><td><span style=white-space:pre-wrap>en    </span></td><td>arcade</td><td>Bleach; Bomberman; Chibi-Robo!; F-Zero; Fire Emblem; Game &amp; Watch; Golden Sun; Kid Icarus; Rayman; Tales of Series; Fighting; Pixel; Castlevania; Donkey Kong; Dragon Ball; EarthBound; Final Fantasy; Kingdom Hearts; Kirby; Mega Man; Metroid; Naruto; One Piece; Pac-Man; Pokémon; Sonic the Hedgehog; Star Fox; Street Fighter; Super Mario; The Legend of Zelda</td><td> 5197</td></tr>\n",
       "\t<tr><td>3337a4a2-dacf-4027-824c-aaf77623de65</td><td>Flappy Bird For Dinner                    </td><td>                                        </td><td>Cooking Games  </td><td>Flash    </td><td>          </td><td>en    </td><td>arcade</td><td>Cooking; Simulation                                                                                                                                                                                                                                                                                                                                                 </td><td> 4842</td></tr>\n",
       "\t<tr><td>164e2dc8-31dd-4f59-a6be-46c2087e190f</td><td><span style=white-space:pre-wrap>Madness: Project Nexus                    </span></td><td><span style=white-space:pre-wrap>Michael Swain &amp; Matt Krinkels Jolly     </span></td><td><span style=white-space:pre-wrap>Newgrounds     </span></td><td><span style=white-space:pre-wrap>Flash    </span></td><td>2012-03-25</td><td><span style=white-space:pre-wrap>en    </span></td><td>arcade</td><td><span style=white-space:pre-wrap>Action; Beat 'Em Up; Shooter; 3/4 View; Madness Combat; Blood; Moderate Violence                                                                                                                                                                                                                                                                                    </span></td><td> 4760</td></tr>\n",
       "\t<tr><td>92781aea-6ad0-2bdb-a963-7131c49b7d07</td><td>Papa's Hot Doggeria                       </td><td>Flipline Studios                        </td><td>PapaLouie.com  </td><td>Flash    </td><td>2012-11-19</td><td>en    </td><td>arcade</td><td>Cooking; Simulation; Time Management; Achievements                                                                                                                                                                                                                                                                                                                  </td><td> 4628</td></tr>\n",
       "\t<tr><td>602762ba-a1b6-4810-8093-e5dbf0c33b61</td><td>Swords and Souls                          </td><td>SoulGame                                </td><td>Armor Games    </td><td>Flash    </td><td>2015-10-18</td><td>en    </td><td>arcade</td><td>Role-Playing                                                                                                                                                                                                                                                                                                                                                        </td><td> 4521</td></tr>\n",
       "\t<tr><td>938f4383-8c92-8e8d-511b-004b5c69999d</td><td>Papa's Donuteria                          </td><td>Flipline Studios                        </td><td>PapaLouie.com  </td><td>Flash    </td><td>2014-06-16</td><td>en    </td><td>arcade</td><td>Cooking; Simulation; Time Management; Achievements                                                                                                                                                                                                                                                                                                                  </td><td> 4427</td></tr>\n",
       "\t<tr><td>279b23ca-c7f3-4f56-a02f-3752ec7c5c5d</td><td>Papa's Pizzeria                           </td><td>Flipline Studios                        </td><td>               </td><td>Flash    </td><td>2007-08-07</td><td>en    </td><td>arcade</td><td>Cooking; Simulation; Time Management                                                                                                                                                                                                                                                                                                                                </td><td> 4407</td></tr>\n",
       "\t<tr><td>6b50cb43-ad66-4ec8-9e46-3bb06821f2ab</td><td>Strike Force Heroes 2                     </td><td>Sky9 Games                              </td><td>Armor Games    </td><td>Flash    </td><td>          </td><td>en    </td><td>arcade</td><td>Shooter; Action                                                                                                                                                                                                                                                                                                                                                     </td><td> 4332</td></tr>\n",
       "\t<tr><td>228087d3-c291-4a87-82e6-c6ffd3d4d2f6</td><td>The Impossible Quiz                       </td><td>Splapp-Me-Do                            </td><td>Newgrounds     </td><td>Flash    </td><td>2007-02-20</td><td>en    </td><td>arcade</td><td>Quiz                                                                                                                                                                                                                                                                                                                                                                </td><td> 4176</td></tr>\n",
       "\t<tr><td>dbb21635-b0d5-78d9-a749-c4778a07e698</td><td>Ben 10: Battle Ready                      </td><td>                                        </td><td>Cartoon Network</td><td>Shockwave</td><td>          </td><td>en; ja</td><td>arcade</td><td>Action; Ben 10                                                                                                                                                                                                                                                                                                                                                      </td><td> 3958</td></tr>\n",
       "\t<tr><td>de163cff-9dbe-fcbb-164c-53f5d6873fad</td><td>Papa's Cupcakeria                         </td><td>Flipline Studios                        </td><td>PapaLouie.com  </td><td>Flash    </td><td>2013-08-07</td><td>en    </td><td>arcade</td><td>Cooking; Simulation; Time Management; Achievements                                                                                                                                                                                                                                                                                                                  </td><td> 3883</td></tr>\n",
       "\t<tr><td>16c27895-f7a6-6c65-18f3-feebcf87d28a</td><td>Papa Louie 2: When Burgers Attack!        </td><td>Flipline Studios                        </td><td>PapaLouie.com  </td><td>Flash    </td><td>2013-06-05</td><td>en    </td><td>arcade</td><td>Platformer; Side-Scrolling                                                                                                                                                                                                                                                                                                                                          </td><td> 3874</td></tr>\n",
       "\t<tr><td>c3ab2546-a7b0-89b2-82de-4044d61e1cbd</td><td>Papa's Wingeria                           </td><td>Flipline Studios                        </td><td>PapaLouie.com  </td><td>Flash    </td><td>2012-06-13</td><td>en    </td><td>arcade</td><td>Cooking; Simulation; Time Management; Achievements                                                                                                                                                                                                                                                                                                                  </td><td> 3684</td></tr>\n",
       "\t<tr><td>b0d2b9a9-ab00-465e-b5a3-56031b92f070</td><td>Portal: The Flash Version                 </td><td>We Create Stuff                         </td><td>Armor Games    </td><td>Flash    </td><td>2007-11-19</td><td>en    </td><td>arcade</td><td>Platformer; Puzzle; Portal                                                                                                                                                                                                                                                                                                                                          </td><td> 3625</td></tr>\n",
       "\t<tr><td>8f7f9fe8-4c55-43b1-a574-046c63712b39</td><td>The Last Stand: Union City                </td><td>ConArtists                              </td><td>Armor Games    </td><td>Flash    </td><td>2011-07-29</td><td>      </td><td>arcade</td><td>Shooter                                                                                                                                                                                                                                                                                                                                                             </td><td> 3477</td></tr>\n",
       "\t<tr><td>2ecf56d6-c5e4-a801-bc7f-60374ba1a051</td><td>Papa's Pastaria                           </td><td>Flipline Studios                        </td><td>PapaLouie.com  </td><td>Flash    </td><td>2013-12-09</td><td>en    </td><td>arcade</td><td>Cooking; Simulation; Time Management; Achievements                                                                                                                                                                                                                                                                                                                  </td><td> 3410</td></tr>\n",
       "\t<tr><td>4423194a-22fe-427a-8eae-1b4d9c42395c</td><td>Cactus McCoy                              </td><td>Flipline Studios                        </td><td>               </td><td>Flash    </td><td>2011-03-10</td><td>en    </td><td>arcade</td><td>Platformer                                                                                                                                                                                                                                                                                                                                                          </td><td> 3247</td></tr>\n",
       "\t<tr><td>9525910d-72b8-4e84-b668-43a267e00d9c</td><td>Papa's Pancakeria                         </td><td>Flipline Studios                        </td><td>PapaLouie.com  </td><td>Flash    </td><td>2012-03-05</td><td>en    </td><td>arcade</td><td>Cooking; Simulation; Time Management; Achievements                                                                                                                                                                                                                                                                                                                  </td><td> 3238</td></tr>\n",
       "\t<tr><td>c85ff4e3-1e2d-4b4e-8c4f-958d9db4aff2</td><td>Age of War                                </td><td>Louissi                                 </td><td>Max Games      </td><td>Flash    </td><td>2008-01-14</td><td>en    </td><td>arcade</td><td>Strategy; Mouse-only                                                                                                                                                                                                                                                                                                                                                </td><td> 3237</td></tr>\n",
       "\t<tr><td>da6b3cb4-78a7-e998-fcf4-cb26a7950754</td><td>Plants vs Zombies (Web Version)           </td><td>PopCap                                  </td><td>               </td><td>Flash    </td><td>          </td><td>en    </td><td>arcade</td><td>Strategy; Tower Defense; 3/4 View; Plants vs. Zombies                                                                                                                                                                                                                                                                                                               </td><td> 3227</td></tr>\n",
       "\t<tr><td>2d0071b4-8ea9-40b1-a642-c970ca260cb2</td><td>Bowman                                    </td><td>f1ash                                   </td><td>               </td><td>Flash    </td><td>2004-12-05</td><td>en    </td><td>arcade</td><td>Action; Archery; Artillery; Blood                                                                                                                                                                                                                                                                                                                                   </td><td> 3157</td></tr>\n",
       "\t<tr><td>ab638461-9317-bbaa-9ccf-e7f0360e3b1b</td><td>Papa Louie 3: When Sundaes Attack!        </td><td>Flipline Studios                        </td><td>PapaLouie.com  </td><td>Flash    </td><td>2015-03-04</td><td>en    </td><td>arcade</td><td>Platformer; Side-Scrolling                                                                                                                                                                                                                                                                                                                                          </td><td> 3136</td></tr>\n",
       "\t<tr><td>cf29b65d-e3e9-4da9-8201-d76de38736ea</td><td>Electricman 2 - The Tournament of Voltagen</td><td>Damien Clarke                           </td><td>Armor Games    </td><td>Flash    </td><td>2008-01-08</td><td>en    </td><td>arcade</td><td>Action; Beat 'Em Up; Stick                                                                                                                                                                                                                                                                                                                                          </td><td> 3036</td></tr>\n",
       "\t<tr><td>15ac0ed0-dbd4-8a95-5eec-4cf3e04fc771</td><td>Swords and Sandals 2                      </td><td>3rdsense.com                            </td><td>               </td><td>Flash    </td><td>2007-01-07</td><td>en    </td><td>arcade</td><td>Role-Playing                                                                                                                                                                                                                                                                                                                                                        </td><td> 3017</td></tr>\n",
       "\t<tr><td>190c1bf6-4fcc-4b32-8278-f5b26db8eec1</td><td>Road of the Dead                          </td><td>Evil Dog                                </td><td>Newgrounds     </td><td>Flash    </td><td>2010-10-13</td><td>en    </td><td>arcade</td><td>Action; Driving; Zombie; First-Person; Upgrade                                                                                                                                                                                                                                                                                                                      </td><td> 2850</td></tr>\n",
       "\t<tr><td>242dedc0-431a-4e4e-990c-58fe3c8ef740</td><td>Commando 2                                </td><td>Miniclip.com                            </td><td>Miniclip.com   </td><td>Flash    </td><td>2008-10-03</td><td>      </td><td>arcade</td><td>Shooter                                                                                                                                                                                                                                                                                                                                                             </td><td> 2822</td></tr>\n",
       "</tbody>\n",
       "</table>\n"
      ],
      "text/latex": [
       "A data.frame: 40 × 10\n",
       "\\begin{tabular}{llllllllll}\n",
       " id & title & developer & publisher & platform & releaseDate & language & library & tagsStr & Play.Count\\\\\n",
       " <chr> & <chr> & <chr> & <chr> & <chr> & <chr> & <chr> & <chr> & <chr> & <int>\\\\\n",
       "\\hline\n",
       "\t 83e1b5e7-4282-4bbd-868e-dcfa965e4abf & Poptropica                                 & Sandbox Networks Inc.; Pearson Education &                 & Flash     & 2007-09    & en     & arcade & Educational; Platformer; Puzzle; Variety; Side-Scrolling                                                                                                                                                                                                                                                                                                             & 48493\\\\\n",
       "\t a94d865c-cb38-4d31-96f3-dda26502c4a3 & Jacksmith                                  & Flipline Studios                         & PapaLouie.com   & Flash     & 2012-09-27 & en     & arcade & Simulation; Time Management                                                                                                                                                                                                                                                                                                                                          & 10228\\\\\n",
       "\t 617ca7f3-1cff-3f0c-5b53-07498b3b28d8 & Papa's Cheeseria                           & Flipline Studios                         & PapaLouie.com   & Flash     & 2015-06-10 & en     & arcade & Cooking; Simulation; Time Management; Achievements                                                                                                                                                                                                                                                                                                                   &  7454\\\\\n",
       "\t 8d09fc0d-6f25-4be6-b396-8fcaddad4e5e & Strike Force Heroes 3                      & Sky9 Games                               & Armor Games     & Flash     &            & en     & arcade & Action; Shooter                                                                                                                                                                                                                                                                                                                                                      &  7253\\\\\n",
       "\t b0ce771e-7c02-4317-8528-ba48139e2688 & Super Mario Bros. Crossover                & Exploding Rabbit                         &                 & Flash     & 2010-04-27 & en     & arcade & Arcade; Platformer; Score-Attack; Pixel; Side-Scrolling; Castlevania; Contra; Final Fantasy; Kid Icarus; Kunio-kun; Mega Man; Metroid; Super Mario; The Legend of Zelda                                                                                                                                                                                              &  6922\\\\\n",
       "\t fdee4800-b5c9-49e0-b19e-22f2b0ccab68 & Strike Force Heroes                        & Sky9 Games                               & Armor Games     & Flash     & 2012-05-31 & en     & arcade & Shooter; Action                                                                                                                                                                                                                                                                                                                                                      &  6919\\\\\n",
       "\t 1e903a30-5c37-15bb-8e5e-6fea5a8103f2 & Papa's Scooperia                           & Flipline Studios                         & PapaLouie.com   & Flash     & 2018-07-24 & en     & arcade & Cooking; Simulation; Time Management; Achievements                                                                                                                                                                                                                                                                                                                   &  6678\\\\\n",
       "\t 07921a2f-26fd-4364-9671-ee0c8d256ec1 & Bloons TD 5                                & Ninja Kiwi                               & Ninja Kiwi      & Flash     & 2011-12-13 & en     & arcade & Tower Defense; Strategy                                                                                                                                                                                                                                                                                                                                              &  6423\\\\\n",
       "\t b9a8dbb9-0cd7-434b-b226-13dc9dd07b49 & Papa's Sushiria                            & Flipline Studios                         & PapaLouie.com   & Flash     & 2016-12-13 & en     & arcade & Cooking; Simulation; Time Management; Achievements                                                                                                                                                                                                                                                                                                                   &  6341\\\\\n",
       "\t a8707c0f-6aac-4c94-9d8a-cc397c97cc88 & Papa's Bakeria                             & Flipline Studios                         & PapaLouie.com   & Flash     & 2016-03-14 & en     & arcade & Cooking; Simulation; Time Management; Achievements                                                                                                                                                                                                                                                                                                                   &  5745\\\\\n",
       "\t 92ba2d91-e041-2bd4-49ea-21758df711ff & Papa's Freezeria                           & Flipline Studios                         & Armor Games     & Flash     & 2011-08-05 & en     & arcade & Cooking; Simulation; Time Management; Achievements; Tropical                                                                                                                                                                                                                                                                                                         &  5613\\\\\n",
       "\t f55d6576-1aee-414a-bd1e-b7678d697dcf & Papa's Burgeria                            & Flipline Studios                         &                 & Flash     & 2010-12-06 & en     & arcade & Cooking; Simulation; Time Management                                                                                                                                                                                                                                                                                                                                 &  5605\\\\\n",
       "\t 16b04977-f714-4239-b343-b759e16a33af & Super Mario 63                             & Runouw                                   & Newgrounds      & Flash     & 2009-06-10 & en     & arcade & Level Editor; Platformer; Super Mario                                                                                                                                                                                                                                                                                                                                &  5579\\\\\n",
       "\t 5fa91cac-25c9-2a53-f391-09a099cb489b & Epic Battle Fantasy 5                      & Kupo Games                               &                 & Flash     & 2020-01-21 &        & arcade & RPG                                                                                                                                                                                                                                                                                                                                                                  &  5203\\\\\n",
       "\t ed058412-fa96-4ea5-b2cb-2baff6a24b2a & Super Smash Flash 2                        & McLeodGaming                             & McLeodGaming    & Flash     & 2007-12-25 & en     & arcade & Bleach; Bomberman; Chibi-Robo!; F-Zero; Fire Emblem; Game \\& Watch; Golden Sun; Kid Icarus; Rayman; Tales of Series; Fighting; Pixel; Castlevania; Donkey Kong; Dragon Ball; EarthBound; Final Fantasy; Kingdom Hearts; Kirby; Mega Man; Metroid; Naruto; One Piece; Pac-Man; Pokémon; Sonic the Hedgehog; Star Fox; Street Fighter; Super Mario; The Legend of Zelda &  5197\\\\\n",
       "\t 3337a4a2-dacf-4027-824c-aaf77623de65 & Flappy Bird For Dinner                     &                                          & Cooking Games   & Flash     &            & en     & arcade & Cooking; Simulation                                                                                                                                                                                                                                                                                                                                                  &  4842\\\\\n",
       "\t 164e2dc8-31dd-4f59-a6be-46c2087e190f & Madness: Project Nexus                     & Michael Swain \\& Matt Krinkels Jolly      & Newgrounds      & Flash     & 2012-03-25 & en     & arcade & Action; Beat 'Em Up; Shooter; 3/4 View; Madness Combat; Blood; Moderate Violence                                                                                                                                                                                                                                                                                     &  4760\\\\\n",
       "\t 92781aea-6ad0-2bdb-a963-7131c49b7d07 & Papa's Hot Doggeria                        & Flipline Studios                         & PapaLouie.com   & Flash     & 2012-11-19 & en     & arcade & Cooking; Simulation; Time Management; Achievements                                                                                                                                                                                                                                                                                                                   &  4628\\\\\n",
       "\t 602762ba-a1b6-4810-8093-e5dbf0c33b61 & Swords and Souls                           & SoulGame                                 & Armor Games     & Flash     & 2015-10-18 & en     & arcade & Role-Playing                                                                                                                                                                                                                                                                                                                                                         &  4521\\\\\n",
       "\t 938f4383-8c92-8e8d-511b-004b5c69999d & Papa's Donuteria                           & Flipline Studios                         & PapaLouie.com   & Flash     & 2014-06-16 & en     & arcade & Cooking; Simulation; Time Management; Achievements                                                                                                                                                                                                                                                                                                                   &  4427\\\\\n",
       "\t 279b23ca-c7f3-4f56-a02f-3752ec7c5c5d & Papa's Pizzeria                            & Flipline Studios                         &                 & Flash     & 2007-08-07 & en     & arcade & Cooking; Simulation; Time Management                                                                                                                                                                                                                                                                                                                                 &  4407\\\\\n",
       "\t 6b50cb43-ad66-4ec8-9e46-3bb06821f2ab & Strike Force Heroes 2                      & Sky9 Games                               & Armor Games     & Flash     &            & en     & arcade & Shooter; Action                                                                                                                                                                                                                                                                                                                                                      &  4332\\\\\n",
       "\t 228087d3-c291-4a87-82e6-c6ffd3d4d2f6 & The Impossible Quiz                        & Splapp-Me-Do                             & Newgrounds      & Flash     & 2007-02-20 & en     & arcade & Quiz                                                                                                                                                                                                                                                                                                                                                                 &  4176\\\\\n",
       "\t dbb21635-b0d5-78d9-a749-c4778a07e698 & Ben 10: Battle Ready                       &                                          & Cartoon Network & Shockwave &            & en; ja & arcade & Action; Ben 10                                                                                                                                                                                                                                                                                                                                                       &  3958\\\\\n",
       "\t de163cff-9dbe-fcbb-164c-53f5d6873fad & Papa's Cupcakeria                          & Flipline Studios                         & PapaLouie.com   & Flash     & 2013-08-07 & en     & arcade & Cooking; Simulation; Time Management; Achievements                                                                                                                                                                                                                                                                                                                   &  3883\\\\\n",
       "\t 16c27895-f7a6-6c65-18f3-feebcf87d28a & Papa Louie 2: When Burgers Attack!         & Flipline Studios                         & PapaLouie.com   & Flash     & 2013-06-05 & en     & arcade & Platformer; Side-Scrolling                                                                                                                                                                                                                                                                                                                                           &  3874\\\\\n",
       "\t c3ab2546-a7b0-89b2-82de-4044d61e1cbd & Papa's Wingeria                            & Flipline Studios                         & PapaLouie.com   & Flash     & 2012-06-13 & en     & arcade & Cooking; Simulation; Time Management; Achievements                                                                                                                                                                                                                                                                                                                   &  3684\\\\\n",
       "\t b0d2b9a9-ab00-465e-b5a3-56031b92f070 & Portal: The Flash Version                  & We Create Stuff                          & Armor Games     & Flash     & 2007-11-19 & en     & arcade & Platformer; Puzzle; Portal                                                                                                                                                                                                                                                                                                                                           &  3625\\\\\n",
       "\t 8f7f9fe8-4c55-43b1-a574-046c63712b39 & The Last Stand: Union City                 & ConArtists                               & Armor Games     & Flash     & 2011-07-29 &        & arcade & Shooter                                                                                                                                                                                                                                                                                                                                                              &  3477\\\\\n",
       "\t 2ecf56d6-c5e4-a801-bc7f-60374ba1a051 & Papa's Pastaria                            & Flipline Studios                         & PapaLouie.com   & Flash     & 2013-12-09 & en     & arcade & Cooking; Simulation; Time Management; Achievements                                                                                                                                                                                                                                                                                                                   &  3410\\\\\n",
       "\t 4423194a-22fe-427a-8eae-1b4d9c42395c & Cactus McCoy                               & Flipline Studios                         &                 & Flash     & 2011-03-10 & en     & arcade & Platformer                                                                                                                                                                                                                                                                                                                                                           &  3247\\\\\n",
       "\t 9525910d-72b8-4e84-b668-43a267e00d9c & Papa's Pancakeria                          & Flipline Studios                         & PapaLouie.com   & Flash     & 2012-03-05 & en     & arcade & Cooking; Simulation; Time Management; Achievements                                                                                                                                                                                                                                                                                                                   &  3238\\\\\n",
       "\t c85ff4e3-1e2d-4b4e-8c4f-958d9db4aff2 & Age of War                                 & Louissi                                  & Max Games       & Flash     & 2008-01-14 & en     & arcade & Strategy; Mouse-only                                                                                                                                                                                                                                                                                                                                                 &  3237\\\\\n",
       "\t da6b3cb4-78a7-e998-fcf4-cb26a7950754 & Plants vs Zombies (Web Version)            & PopCap                                   &                 & Flash     &            & en     & arcade & Strategy; Tower Defense; 3/4 View; Plants vs. Zombies                                                                                                                                                                                                                                                                                                                &  3227\\\\\n",
       "\t 2d0071b4-8ea9-40b1-a642-c970ca260cb2 & Bowman                                     & f1ash                                    &                 & Flash     & 2004-12-05 & en     & arcade & Action; Archery; Artillery; Blood                                                                                                                                                                                                                                                                                                                                    &  3157\\\\\n",
       "\t ab638461-9317-bbaa-9ccf-e7f0360e3b1b & Papa Louie 3: When Sundaes Attack!         & Flipline Studios                         & PapaLouie.com   & Flash     & 2015-03-04 & en     & arcade & Platformer; Side-Scrolling                                                                                                                                                                                                                                                                                                                                           &  3136\\\\\n",
       "\t cf29b65d-e3e9-4da9-8201-d76de38736ea & Electricman 2 - The Tournament of Voltagen & Damien Clarke                            & Armor Games     & Flash     & 2008-01-08 & en     & arcade & Action; Beat 'Em Up; Stick                                                                                                                                                                                                                                                                                                                                           &  3036\\\\\n",
       "\t 15ac0ed0-dbd4-8a95-5eec-4cf3e04fc771 & Swords and Sandals 2                       & 3rdsense.com                             &                 & Flash     & 2007-01-07 & en     & arcade & Role-Playing                                                                                                                                                                                                                                                                                                                                                         &  3017\\\\\n",
       "\t 190c1bf6-4fcc-4b32-8278-f5b26db8eec1 & Road of the Dead                           & Evil Dog                                 & Newgrounds      & Flash     & 2010-10-13 & en     & arcade & Action; Driving; Zombie; First-Person; Upgrade                                                                                                                                                                                                                                                                                                                       &  2850\\\\\n",
       "\t 242dedc0-431a-4e4e-990c-58fe3c8ef740 & Commando 2                                 & Miniclip.com                             & Miniclip.com    & Flash     & 2008-10-03 &        & arcade & Shooter                                                                                                                                                                                                                                                                                                                                                              &  2822\\\\\n",
       "\\end{tabular}\n"
      ],
      "text/markdown": [
       "\n",
       "A data.frame: 40 × 10\n",
       "\n",
       "| id &lt;chr&gt; | title &lt;chr&gt; | developer &lt;chr&gt; | publisher &lt;chr&gt; | platform &lt;chr&gt; | releaseDate &lt;chr&gt; | language &lt;chr&gt; | library &lt;chr&gt; | tagsStr &lt;chr&gt; | Play.Count &lt;int&gt; |\n",
       "|---|---|---|---|---|---|---|---|---|---|\n",
       "| 83e1b5e7-4282-4bbd-868e-dcfa965e4abf | Poptropica                                 | Sandbox Networks Inc.; Pearson Education | <!----> | Flash     | 2007-09    | en     | arcade | Educational; Platformer; Puzzle; Variety; Side-Scrolling                                                                                                                                                                                                                                                                                                             | 48493 |\n",
       "| a94d865c-cb38-4d31-96f3-dda26502c4a3 | Jacksmith                                  | Flipline Studios                         | PapaLouie.com   | Flash     | 2012-09-27 | en     | arcade | Simulation; Time Management                                                                                                                                                                                                                                                                                                                                          | 10228 |\n",
       "| 617ca7f3-1cff-3f0c-5b53-07498b3b28d8 | Papa's Cheeseria                           | Flipline Studios                         | PapaLouie.com   | Flash     | 2015-06-10 | en     | arcade | Cooking; Simulation; Time Management; Achievements                                                                                                                                                                                                                                                                                                                   |  7454 |\n",
       "| 8d09fc0d-6f25-4be6-b396-8fcaddad4e5e | Strike Force Heroes 3                      | Sky9 Games                               | Armor Games     | Flash     | <!----> | en     | arcade | Action; Shooter                                                                                                                                                                                                                                                                                                                                                      |  7253 |\n",
       "| b0ce771e-7c02-4317-8528-ba48139e2688 | Super Mario Bros. Crossover                | Exploding Rabbit                         | <!----> | Flash     | 2010-04-27 | en     | arcade | Arcade; Platformer; Score-Attack; Pixel; Side-Scrolling; Castlevania; Contra; Final Fantasy; Kid Icarus; Kunio-kun; Mega Man; Metroid; Super Mario; The Legend of Zelda                                                                                                                                                                                              |  6922 |\n",
       "| fdee4800-b5c9-49e0-b19e-22f2b0ccab68 | Strike Force Heroes                        | Sky9 Games                               | Armor Games     | Flash     | 2012-05-31 | en     | arcade | Shooter; Action                                                                                                                                                                                                                                                                                                                                                      |  6919 |\n",
       "| 1e903a30-5c37-15bb-8e5e-6fea5a8103f2 | Papa's Scooperia                           | Flipline Studios                         | PapaLouie.com   | Flash     | 2018-07-24 | en     | arcade | Cooking; Simulation; Time Management; Achievements                                                                                                                                                                                                                                                                                                                   |  6678 |\n",
       "| 07921a2f-26fd-4364-9671-ee0c8d256ec1 | Bloons TD 5                                | Ninja Kiwi                               | Ninja Kiwi      | Flash     | 2011-12-13 | en     | arcade | Tower Defense; Strategy                                                                                                                                                                                                                                                                                                                                              |  6423 |\n",
       "| b9a8dbb9-0cd7-434b-b226-13dc9dd07b49 | Papa's Sushiria                            | Flipline Studios                         | PapaLouie.com   | Flash     | 2016-12-13 | en     | arcade | Cooking; Simulation; Time Management; Achievements                                                                                                                                                                                                                                                                                                                   |  6341 |\n",
       "| a8707c0f-6aac-4c94-9d8a-cc397c97cc88 | Papa's Bakeria                             | Flipline Studios                         | PapaLouie.com   | Flash     | 2016-03-14 | en     | arcade | Cooking; Simulation; Time Management; Achievements                                                                                                                                                                                                                                                                                                                   |  5745 |\n",
       "| 92ba2d91-e041-2bd4-49ea-21758df711ff | Papa's Freezeria                           | Flipline Studios                         | Armor Games     | Flash     | 2011-08-05 | en     | arcade | Cooking; Simulation; Time Management; Achievements; Tropical                                                                                                                                                                                                                                                                                                         |  5613 |\n",
       "| f55d6576-1aee-414a-bd1e-b7678d697dcf | Papa's Burgeria                            | Flipline Studios                         | <!----> | Flash     | 2010-12-06 | en     | arcade | Cooking; Simulation; Time Management                                                                                                                                                                                                                                                                                                                                 |  5605 |\n",
       "| 16b04977-f714-4239-b343-b759e16a33af | Super Mario 63                             | Runouw                                   | Newgrounds      | Flash     | 2009-06-10 | en     | arcade | Level Editor; Platformer; Super Mario                                                                                                                                                                                                                                                                                                                                |  5579 |\n",
       "| 5fa91cac-25c9-2a53-f391-09a099cb489b | Epic Battle Fantasy 5                      | Kupo Games                               | <!----> | Flash     | 2020-01-21 | <!----> | arcade | RPG                                                                                                                                                                                                                                                                                                                                                                  |  5203 |\n",
       "| ed058412-fa96-4ea5-b2cb-2baff6a24b2a | Super Smash Flash 2                        | McLeodGaming                             | McLeodGaming    | Flash     | 2007-12-25 | en     | arcade | Bleach; Bomberman; Chibi-Robo!; F-Zero; Fire Emblem; Game &amp; Watch; Golden Sun; Kid Icarus; Rayman; Tales of Series; Fighting; Pixel; Castlevania; Donkey Kong; Dragon Ball; EarthBound; Final Fantasy; Kingdom Hearts; Kirby; Mega Man; Metroid; Naruto; One Piece; Pac-Man; Pokémon; Sonic the Hedgehog; Star Fox; Street Fighter; Super Mario; The Legend of Zelda |  5197 |\n",
       "| 3337a4a2-dacf-4027-824c-aaf77623de65 | Flappy Bird For Dinner                     | <!----> | Cooking Games   | Flash     | <!----> | en     | arcade | Cooking; Simulation                                                                                                                                                                                                                                                                                                                                                  |  4842 |\n",
       "| 164e2dc8-31dd-4f59-a6be-46c2087e190f | Madness: Project Nexus                     | Michael Swain &amp; Matt Krinkels Jolly      | Newgrounds      | Flash     | 2012-03-25 | en     | arcade | Action; Beat 'Em Up; Shooter; 3/4 View; Madness Combat; Blood; Moderate Violence                                                                                                                                                                                                                                                                                     |  4760 |\n",
       "| 92781aea-6ad0-2bdb-a963-7131c49b7d07 | Papa's Hot Doggeria                        | Flipline Studios                         | PapaLouie.com   | Flash     | 2012-11-19 | en     | arcade | Cooking; Simulation; Time Management; Achievements                                                                                                                                                                                                                                                                                                                   |  4628 |\n",
       "| 602762ba-a1b6-4810-8093-e5dbf0c33b61 | Swords and Souls                           | SoulGame                                 | Armor Games     | Flash     | 2015-10-18 | en     | arcade | Role-Playing                                                                                                                                                                                                                                                                                                                                                         |  4521 |\n",
       "| 938f4383-8c92-8e8d-511b-004b5c69999d | Papa's Donuteria                           | Flipline Studios                         | PapaLouie.com   | Flash     | 2014-06-16 | en     | arcade | Cooking; Simulation; Time Management; Achievements                                                                                                                                                                                                                                                                                                                   |  4427 |\n",
       "| 279b23ca-c7f3-4f56-a02f-3752ec7c5c5d | Papa's Pizzeria                            | Flipline Studios                         | <!----> | Flash     | 2007-08-07 | en     | arcade | Cooking; Simulation; Time Management                                                                                                                                                                                                                                                                                                                                 |  4407 |\n",
       "| 6b50cb43-ad66-4ec8-9e46-3bb06821f2ab | Strike Force Heroes 2                      | Sky9 Games                               | Armor Games     | Flash     | <!----> | en     | arcade | Shooter; Action                                                                                                                                                                                                                                                                                                                                                      |  4332 |\n",
       "| 228087d3-c291-4a87-82e6-c6ffd3d4d2f6 | The Impossible Quiz                        | Splapp-Me-Do                             | Newgrounds      | Flash     | 2007-02-20 | en     | arcade | Quiz                                                                                                                                                                                                                                                                                                                                                                 |  4176 |\n",
       "| dbb21635-b0d5-78d9-a749-c4778a07e698 | Ben 10: Battle Ready                       | <!----> | Cartoon Network | Shockwave | <!----> | en; ja | arcade | Action; Ben 10                                                                                                                                                                                                                                                                                                                                                       |  3958 |\n",
       "| de163cff-9dbe-fcbb-164c-53f5d6873fad | Papa's Cupcakeria                          | Flipline Studios                         | PapaLouie.com   | Flash     | 2013-08-07 | en     | arcade | Cooking; Simulation; Time Management; Achievements                                                                                                                                                                                                                                                                                                                   |  3883 |\n",
       "| 16c27895-f7a6-6c65-18f3-feebcf87d28a | Papa Louie 2: When Burgers Attack!         | Flipline Studios                         | PapaLouie.com   | Flash     | 2013-06-05 | en     | arcade | Platformer; Side-Scrolling                                                                                                                                                                                                                                                                                                                                           |  3874 |\n",
       "| c3ab2546-a7b0-89b2-82de-4044d61e1cbd | Papa's Wingeria                            | Flipline Studios                         | PapaLouie.com   | Flash     | 2012-06-13 | en     | arcade | Cooking; Simulation; Time Management; Achievements                                                                                                                                                                                                                                                                                                                   |  3684 |\n",
       "| b0d2b9a9-ab00-465e-b5a3-56031b92f070 | Portal: The Flash Version                  | We Create Stuff                          | Armor Games     | Flash     | 2007-11-19 | en     | arcade | Platformer; Puzzle; Portal                                                                                                                                                                                                                                                                                                                                           |  3625 |\n",
       "| 8f7f9fe8-4c55-43b1-a574-046c63712b39 | The Last Stand: Union City                 | ConArtists                               | Armor Games     | Flash     | 2011-07-29 | <!----> | arcade | Shooter                                                                                                                                                                                                                                                                                                                                                              |  3477 |\n",
       "| 2ecf56d6-c5e4-a801-bc7f-60374ba1a051 | Papa's Pastaria                            | Flipline Studios                         | PapaLouie.com   | Flash     | 2013-12-09 | en     | arcade | Cooking; Simulation; Time Management; Achievements                                                                                                                                                                                                                                                                                                                   |  3410 |\n",
       "| 4423194a-22fe-427a-8eae-1b4d9c42395c | Cactus McCoy                               | Flipline Studios                         | <!----> | Flash     | 2011-03-10 | en     | arcade | Platformer                                                                                                                                                                                                                                                                                                                                                           |  3247 |\n",
       "| 9525910d-72b8-4e84-b668-43a267e00d9c | Papa's Pancakeria                          | Flipline Studios                         | PapaLouie.com   | Flash     | 2012-03-05 | en     | arcade | Cooking; Simulation; Time Management; Achievements                                                                                                                                                                                                                                                                                                                   |  3238 |\n",
       "| c85ff4e3-1e2d-4b4e-8c4f-958d9db4aff2 | Age of War                                 | Louissi                                  | Max Games       | Flash     | 2008-01-14 | en     | arcade | Strategy; Mouse-only                                                                                                                                                                                                                                                                                                                                                 |  3237 |\n",
       "| da6b3cb4-78a7-e998-fcf4-cb26a7950754 | Plants vs Zombies (Web Version)            | PopCap                                   | <!----> | Flash     | <!----> | en     | arcade | Strategy; Tower Defense; 3/4 View; Plants vs. Zombies                                                                                                                                                                                                                                                                                                                |  3227 |\n",
       "| 2d0071b4-8ea9-40b1-a642-c970ca260cb2 | Bowman                                     | f1ash                                    | <!----> | Flash     | 2004-12-05 | en     | arcade | Action; Archery; Artillery; Blood                                                                                                                                                                                                                                                                                                                                    |  3157 |\n",
       "| ab638461-9317-bbaa-9ccf-e7f0360e3b1b | Papa Louie 3: When Sundaes Attack!         | Flipline Studios                         | PapaLouie.com   | Flash     | 2015-03-04 | en     | arcade | Platformer; Side-Scrolling                                                                                                                                                                                                                                                                                                                                           |  3136 |\n",
       "| cf29b65d-e3e9-4da9-8201-d76de38736ea | Electricman 2 - The Tournament of Voltagen | Damien Clarke                            | Armor Games     | Flash     | 2008-01-08 | en     | arcade | Action; Beat 'Em Up; Stick                                                                                                                                                                                                                                                                                                                                           |  3036 |\n",
       "| 15ac0ed0-dbd4-8a95-5eec-4cf3e04fc771 | Swords and Sandals 2                       | 3rdsense.com                             | <!----> | Flash     | 2007-01-07 | en     | arcade | Role-Playing                                                                                                                                                                                                                                                                                                                                                         |  3017 |\n",
       "| 190c1bf6-4fcc-4b32-8278-f5b26db8eec1 | Road of the Dead                           | Evil Dog                                 | Newgrounds      | Flash     | 2010-10-13 | en     | arcade | Action; Driving; Zombie; First-Person; Upgrade                                                                                                                                                                                                                                                                                                                       |  2850 |\n",
       "| 242dedc0-431a-4e4e-990c-58fe3c8ef740 | Commando 2                                 | Miniclip.com                             | Miniclip.com    | Flash     | 2008-10-03 | <!----> | arcade | Shooter                                                                                                                                                                                                                                                                                                                                                              |  2822 |\n",
       "\n"
      ],
      "text/plain": [
       "   id                                  \n",
       "1  83e1b5e7-4282-4bbd-868e-dcfa965e4abf\n",
       "2  a94d865c-cb38-4d31-96f3-dda26502c4a3\n",
       "3  617ca7f3-1cff-3f0c-5b53-07498b3b28d8\n",
       "4  8d09fc0d-6f25-4be6-b396-8fcaddad4e5e\n",
       "5  b0ce771e-7c02-4317-8528-ba48139e2688\n",
       "6  fdee4800-b5c9-49e0-b19e-22f2b0ccab68\n",
       "7  1e903a30-5c37-15bb-8e5e-6fea5a8103f2\n",
       "8  07921a2f-26fd-4364-9671-ee0c8d256ec1\n",
       "9  b9a8dbb9-0cd7-434b-b226-13dc9dd07b49\n",
       "10 a8707c0f-6aac-4c94-9d8a-cc397c97cc88\n",
       "11 92ba2d91-e041-2bd4-49ea-21758df711ff\n",
       "12 f55d6576-1aee-414a-bd1e-b7678d697dcf\n",
       "13 16b04977-f714-4239-b343-b759e16a33af\n",
       "14 5fa91cac-25c9-2a53-f391-09a099cb489b\n",
       "15 ed058412-fa96-4ea5-b2cb-2baff6a24b2a\n",
       "16 3337a4a2-dacf-4027-824c-aaf77623de65\n",
       "17 164e2dc8-31dd-4f59-a6be-46c2087e190f\n",
       "18 92781aea-6ad0-2bdb-a963-7131c49b7d07\n",
       "19 602762ba-a1b6-4810-8093-e5dbf0c33b61\n",
       "20 938f4383-8c92-8e8d-511b-004b5c69999d\n",
       "21 279b23ca-c7f3-4f56-a02f-3752ec7c5c5d\n",
       "22 6b50cb43-ad66-4ec8-9e46-3bb06821f2ab\n",
       "23 228087d3-c291-4a87-82e6-c6ffd3d4d2f6\n",
       "24 dbb21635-b0d5-78d9-a749-c4778a07e698\n",
       "25 de163cff-9dbe-fcbb-164c-53f5d6873fad\n",
       "26 16c27895-f7a6-6c65-18f3-feebcf87d28a\n",
       "27 c3ab2546-a7b0-89b2-82de-4044d61e1cbd\n",
       "28 b0d2b9a9-ab00-465e-b5a3-56031b92f070\n",
       "29 8f7f9fe8-4c55-43b1-a574-046c63712b39\n",
       "30 2ecf56d6-c5e4-a801-bc7f-60374ba1a051\n",
       "31 4423194a-22fe-427a-8eae-1b4d9c42395c\n",
       "32 9525910d-72b8-4e84-b668-43a267e00d9c\n",
       "33 c85ff4e3-1e2d-4b4e-8c4f-958d9db4aff2\n",
       "34 da6b3cb4-78a7-e998-fcf4-cb26a7950754\n",
       "35 2d0071b4-8ea9-40b1-a642-c970ca260cb2\n",
       "36 ab638461-9317-bbaa-9ccf-e7f0360e3b1b\n",
       "37 cf29b65d-e3e9-4da9-8201-d76de38736ea\n",
       "38 15ac0ed0-dbd4-8a95-5eec-4cf3e04fc771\n",
       "39 190c1bf6-4fcc-4b32-8278-f5b26db8eec1\n",
       "40 242dedc0-431a-4e4e-990c-58fe3c8ef740\n",
       "   title                                     \n",
       "1  Poptropica                                \n",
       "2  Jacksmith                                 \n",
       "3  Papa's Cheeseria                          \n",
       "4  Strike Force Heroes 3                     \n",
       "5  Super Mario Bros. Crossover               \n",
       "6  Strike Force Heroes                       \n",
       "7  Papa's Scooperia                          \n",
       "8  Bloons TD 5                               \n",
       "9  Papa's Sushiria                           \n",
       "10 Papa's Bakeria                            \n",
       "11 Papa's Freezeria                          \n",
       "12 Papa's Burgeria                           \n",
       "13 Super Mario 63                            \n",
       "14 Epic Battle Fantasy 5                     \n",
       "15 Super Smash Flash 2                       \n",
       "16 Flappy Bird For Dinner                    \n",
       "17 Madness: Project Nexus                    \n",
       "18 Papa's Hot Doggeria                       \n",
       "19 Swords and Souls                          \n",
       "20 Papa's Donuteria                          \n",
       "21 Papa's Pizzeria                           \n",
       "22 Strike Force Heroes 2                     \n",
       "23 The Impossible Quiz                       \n",
       "24 Ben 10: Battle Ready                      \n",
       "25 Papa's Cupcakeria                         \n",
       "26 Papa Louie 2: When Burgers Attack!        \n",
       "27 Papa's Wingeria                           \n",
       "28 Portal: The Flash Version                 \n",
       "29 The Last Stand: Union City                \n",
       "30 Papa's Pastaria                           \n",
       "31 Cactus McCoy                              \n",
       "32 Papa's Pancakeria                         \n",
       "33 Age of War                                \n",
       "34 Plants vs Zombies (Web Version)           \n",
       "35 Bowman                                    \n",
       "36 Papa Louie 3: When Sundaes Attack!        \n",
       "37 Electricman 2 - The Tournament of Voltagen\n",
       "38 Swords and Sandals 2                      \n",
       "39 Road of the Dead                          \n",
       "40 Commando 2                                \n",
       "   developer                                publisher       platform \n",
       "1  Sandbox Networks Inc.; Pearson Education                 Flash    \n",
       "2  Flipline Studios                         PapaLouie.com   Flash    \n",
       "3  Flipline Studios                         PapaLouie.com   Flash    \n",
       "4  Sky9 Games                               Armor Games     Flash    \n",
       "5  Exploding Rabbit                                         Flash    \n",
       "6  Sky9 Games                               Armor Games     Flash    \n",
       "7  Flipline Studios                         PapaLouie.com   Flash    \n",
       "8  Ninja Kiwi                               Ninja Kiwi      Flash    \n",
       "9  Flipline Studios                         PapaLouie.com   Flash    \n",
       "10 Flipline Studios                         PapaLouie.com   Flash    \n",
       "11 Flipline Studios                         Armor Games     Flash    \n",
       "12 Flipline Studios                                         Flash    \n",
       "13 Runouw                                   Newgrounds      Flash    \n",
       "14 Kupo Games                                               Flash    \n",
       "15 McLeodGaming                             McLeodGaming    Flash    \n",
       "16                                          Cooking Games   Flash    \n",
       "17 Michael Swain & Matt Krinkels Jolly      Newgrounds      Flash    \n",
       "18 Flipline Studios                         PapaLouie.com   Flash    \n",
       "19 SoulGame                                 Armor Games     Flash    \n",
       "20 Flipline Studios                         PapaLouie.com   Flash    \n",
       "21 Flipline Studios                                         Flash    \n",
       "22 Sky9 Games                               Armor Games     Flash    \n",
       "23 Splapp-Me-Do                             Newgrounds      Flash    \n",
       "24                                          Cartoon Network Shockwave\n",
       "25 Flipline Studios                         PapaLouie.com   Flash    \n",
       "26 Flipline Studios                         PapaLouie.com   Flash    \n",
       "27 Flipline Studios                         PapaLouie.com   Flash    \n",
       "28 We Create Stuff                          Armor Games     Flash    \n",
       "29 ConArtists                               Armor Games     Flash    \n",
       "30 Flipline Studios                         PapaLouie.com   Flash    \n",
       "31 Flipline Studios                                         Flash    \n",
       "32 Flipline Studios                         PapaLouie.com   Flash    \n",
       "33 Louissi                                  Max Games       Flash    \n",
       "34 PopCap                                                   Flash    \n",
       "35 f1ash                                                    Flash    \n",
       "36 Flipline Studios                         PapaLouie.com   Flash    \n",
       "37 Damien Clarke                            Armor Games     Flash    \n",
       "38 3rdsense.com                                             Flash    \n",
       "39 Evil Dog                                 Newgrounds      Flash    \n",
       "40 Miniclip.com                             Miniclip.com    Flash    \n",
       "   releaseDate language library\n",
       "1  2007-09     en       arcade \n",
       "2  2012-09-27  en       arcade \n",
       "3  2015-06-10  en       arcade \n",
       "4              en       arcade \n",
       "5  2010-04-27  en       arcade \n",
       "6  2012-05-31  en       arcade \n",
       "7  2018-07-24  en       arcade \n",
       "8  2011-12-13  en       arcade \n",
       "9  2016-12-13  en       arcade \n",
       "10 2016-03-14  en       arcade \n",
       "11 2011-08-05  en       arcade \n",
       "12 2010-12-06  en       arcade \n",
       "13 2009-06-10  en       arcade \n",
       "14 2020-01-21           arcade \n",
       "15 2007-12-25  en       arcade \n",
       "16             en       arcade \n",
       "17 2012-03-25  en       arcade \n",
       "18 2012-11-19  en       arcade \n",
       "19 2015-10-18  en       arcade \n",
       "20 2014-06-16  en       arcade \n",
       "21 2007-08-07  en       arcade \n",
       "22             en       arcade \n",
       "23 2007-02-20  en       arcade \n",
       "24             en; ja   arcade \n",
       "25 2013-08-07  en       arcade \n",
       "26 2013-06-05  en       arcade \n",
       "27 2012-06-13  en       arcade \n",
       "28 2007-11-19  en       arcade \n",
       "29 2011-07-29           arcade \n",
       "30 2013-12-09  en       arcade \n",
       "31 2011-03-10  en       arcade \n",
       "32 2012-03-05  en       arcade \n",
       "33 2008-01-14  en       arcade \n",
       "34             en       arcade \n",
       "35 2004-12-05  en       arcade \n",
       "36 2015-03-04  en       arcade \n",
       "37 2008-01-08  en       arcade \n",
       "38 2007-01-07  en       arcade \n",
       "39 2010-10-13  en       arcade \n",
       "40 2008-10-03           arcade \n",
       "   tagsStr                                                                                                                                                                                                                                                                                                                                                             \n",
       "1  Educational; Platformer; Puzzle; Variety; Side-Scrolling                                                                                                                                                                                                                                                                                                            \n",
       "2  Simulation; Time Management                                                                                                                                                                                                                                                                                                                                         \n",
       "3  Cooking; Simulation; Time Management; Achievements                                                                                                                                                                                                                                                                                                                  \n",
       "4  Action; Shooter                                                                                                                                                                                                                                                                                                                                                     \n",
       "5  Arcade; Platformer; Score-Attack; Pixel; Side-Scrolling; Castlevania; Contra; Final Fantasy; Kid Icarus; Kunio-kun; Mega Man; Metroid; Super Mario; The Legend of Zelda                                                                                                                                                                                             \n",
       "6  Shooter; Action                                                                                                                                                                                                                                                                                                                                                     \n",
       "7  Cooking; Simulation; Time Management; Achievements                                                                                                                                                                                                                                                                                                                  \n",
       "8  Tower Defense; Strategy                                                                                                                                                                                                                                                                                                                                             \n",
       "9  Cooking; Simulation; Time Management; Achievements                                                                                                                                                                                                                                                                                                                  \n",
       "10 Cooking; Simulation; Time Management; Achievements                                                                                                                                                                                                                                                                                                                  \n",
       "11 Cooking; Simulation; Time Management; Achievements; Tropical                                                                                                                                                                                                                                                                                                        \n",
       "12 Cooking; Simulation; Time Management                                                                                                                                                                                                                                                                                                                                \n",
       "13 Level Editor; Platformer; Super Mario                                                                                                                                                                                                                                                                                                                               \n",
       "14 RPG                                                                                                                                                                                                                                                                                                                                                                 \n",
       "15 Bleach; Bomberman; Chibi-Robo!; F-Zero; Fire Emblem; Game & Watch; Golden Sun; Kid Icarus; Rayman; Tales of Series; Fighting; Pixel; Castlevania; Donkey Kong; Dragon Ball; EarthBound; Final Fantasy; Kingdom Hearts; Kirby; Mega Man; Metroid; Naruto; One Piece; Pac-Man; Pokémon; Sonic the Hedgehog; Star Fox; Street Fighter; Super Mario; The Legend of Zelda\n",
       "16 Cooking; Simulation                                                                                                                                                                                                                                                                                                                                                 \n",
       "17 Action; Beat 'Em Up; Shooter; 3/4 View; Madness Combat; Blood; Moderate Violence                                                                                                                                                                                                                                                                                    \n",
       "18 Cooking; Simulation; Time Management; Achievements                                                                                                                                                                                                                                                                                                                  \n",
       "19 Role-Playing                                                                                                                                                                                                                                                                                                                                                        \n",
       "20 Cooking; Simulation; Time Management; Achievements                                                                                                                                                                                                                                                                                                                  \n",
       "21 Cooking; Simulation; Time Management                                                                                                                                                                                                                                                                                                                                \n",
       "22 Shooter; Action                                                                                                                                                                                                                                                                                                                                                     \n",
       "23 Quiz                                                                                                                                                                                                                                                                                                                                                                \n",
       "24 Action; Ben 10                                                                                                                                                                                                                                                                                                                                                      \n",
       "25 Cooking; Simulation; Time Management; Achievements                                                                                                                                                                                                                                                                                                                  \n",
       "26 Platformer; Side-Scrolling                                                                                                                                                                                                                                                                                                                                          \n",
       "27 Cooking; Simulation; Time Management; Achievements                                                                                                                                                                                                                                                                                                                  \n",
       "28 Platformer; Puzzle; Portal                                                                                                                                                                                                                                                                                                                                          \n",
       "29 Shooter                                                                                                                                                                                                                                                                                                                                                             \n",
       "30 Cooking; Simulation; Time Management; Achievements                                                                                                                                                                                                                                                                                                                  \n",
       "31 Platformer                                                                                                                                                                                                                                                                                                                                                          \n",
       "32 Cooking; Simulation; Time Management; Achievements                                                                                                                                                                                                                                                                                                                  \n",
       "33 Strategy; Mouse-only                                                                                                                                                                                                                                                                                                                                                \n",
       "34 Strategy; Tower Defense; 3/4 View; Plants vs. Zombies                                                                                                                                                                                                                                                                                                               \n",
       "35 Action; Archery; Artillery; Blood                                                                                                                                                                                                                                                                                                                                   \n",
       "36 Platformer; Side-Scrolling                                                                                                                                                                                                                                                                                                                                          \n",
       "37 Action; Beat 'Em Up; Stick                                                                                                                                                                                                                                                                                                                                          \n",
       "38 Role-Playing                                                                                                                                                                                                                                                                                                                                                        \n",
       "39 Action; Driving; Zombie; First-Person; Upgrade                                                                                                                                                                                                                                                                                                                      \n",
       "40 Shooter                                                                                                                                                                                                                                                                                                                                                             \n",
       "   Play.Count\n",
       "1  48493     \n",
       "2  10228     \n",
       "3   7454     \n",
       "4   7253     \n",
       "5   6922     \n",
       "6   6919     \n",
       "7   6678     \n",
       "8   6423     \n",
       "9   6341     \n",
       "10  5745     \n",
       "11  5613     \n",
       "12  5605     \n",
       "13  5579     \n",
       "14  5203     \n",
       "15  5197     \n",
       "16  4842     \n",
       "17  4760     \n",
       "18  4628     \n",
       "19  4521     \n",
       "20  4427     \n",
       "21  4407     \n",
       "22  4332     \n",
       "23  4176     \n",
       "24  3958     \n",
       "25  3883     \n",
       "26  3874     \n",
       "27  3684     \n",
       "28  3625     \n",
       "29  3477     \n",
       "30  3410     \n",
       "31  3247     \n",
       "32  3238     \n",
       "33  3237     \n",
       "34  3227     \n",
       "35  3157     \n",
       "36  3136     \n",
       "37  3036     \n",
       "38  3017     \n",
       "39  2850     \n",
       "40  2822     "
      ]
     },
     "metadata": {},
     "output_type": "display_data"
    }
   ],
   "source": [
    "rank <- inner_join(games, most_played, by = join_by(id)) %>% arrange(desc(Play.Count))\n",
    "rank"
   ]
  },
  {
   "cell_type": "code",
   "execution_count": 30,
   "id": "3a2b3578",
   "metadata": {},
   "outputs": [
    {
     "data": {
      "image/png": "[encoded data removed]",
      "text/plain": [
       "plot without title"
      ]
     },
     "metadata": {
      "image/png": {
       "height": 420,
       "width": 420
      }
     },
     "output_type": "display_data"
    }
   ],
   "source": [
    "rank %>% ggplot(aes(x = reorder(title, Play.Count), y = Play.Count, fill = title)) +\n",
    "  geom_bar(stat = \"identity\") + coord_flip() +\n",
    "  scale_y_continuous(breaks = seq(0, 50000, by = 10000)) +\n",
    "  ggtitle(\"Top forty Flashpoint games by play count\") +\n",
    "  theme(legend.position = \"none\", axis.title.x = element_blank(),\n",
    "        axis.title.y = element_blank(),\n",
    "        axis.text.x = element_text(angle = 90, vjust = 0.5, hjust = 1),\n",
    "        axis.text.y = element_text(face = \"bold\"))"
   ]
  },
  {
   "cell_type": "markdown",
   "id": "2187a5fc",
   "metadata": {},
   "source": [
    "There we go! *Poptropica* is the indisputable winner, with almost fifty thousand play counts. There is a massive presence of *Papa's Gameria* franchise, as well as all-time classics like *Strike Force Heroes*, *Super Mario 63* and *Age of War*. Finally, a special remark about *Ben 10: Battle Ready*, which was thought to be lost forever, before it was restored and made playable again on *Flashpoint*."
   ]
  },
  {
   "cell_type": "markdown",
   "id": "678eb98d",
   "metadata": {},
   "source": [
    "## Conclusion"
   ]
  },
  {
   "cell_type": "markdown",
   "id": "ea2e3287",
   "metadata": {},
   "source": [
    "This was a thorough analysis of the *Flashpoint* catalogue, which hopefully gives some insights about the world of web-based games and their significant relevance in the history of the Internet.\n",
    "\n",
    "The effort to preserve this kind of content has generated amazing results, saving an astounding quantity of material which would have disappeared otherwise. Despite the concrete risk of a digital dark age, we should insist on preserving the stuff that we care about and keep it alive, not only for historical reasons, but also for the nostalgic value we associate with it."
   ]
  }
 ],
 "metadata": {
  "kernelspec": {
   "display_name": "R",
   "language": "R",
   "name": "ir"
  },
  "language_info": {
   "codemirror_mode": "r",
   "file_extension": ".r",
   "mimetype": "text/x-r-source",
   "name": "R",
   "pygments_lexer": "r",
   "version": "4.2.2"
  }
 },
 "nbformat": 4,
 "nbformat_minor": 5
}
