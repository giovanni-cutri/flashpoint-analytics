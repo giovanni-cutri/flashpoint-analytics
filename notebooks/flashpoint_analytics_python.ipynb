{
 "cells": [
  {
   "cell_type": "markdown",
   "id": "efd77c91",
   "metadata": {},
   "source": [
    "# Flashpoint Analytics\n",
    "\n",
    "[Flashpoint](https://bluemaxima.org/flashpoint/) is a web-game preservation project, made in 2018 in an effort to save as many games as possible from the then upcoming Flash End-Of-Life, while also making them playable for everyone. Today, it hosts more than 170 000 games and thousands of active users all around the world.\n",
    "\n",
    "This notebook contains a descriptive statistical analysis about the games available in Flashpoint, with an emphasis on categorical data, such as the technology that was used to make them or the publisher who used to host them in the past.\n",
    "\n",
    "The Flashpoint database, which keeps all the data that will be used in the analysis, can be found [here](http://infinity.unstable.life/Flashpoint/Data/flashpoint.sqlite)."
   ]
  },
  {
   "cell_type": "markdown",
   "id": "b17ba56c",
   "metadata": {},
   "source": [
    "## Import modules"
   ]
  },
  {
   "cell_type": "code",
   "execution_count": 2,
   "id": "fadfc7b6",
   "metadata": {},
   "outputs": [],
   "source": [
    "import os\n",
    "import urllib.request\n",
    "import sqlite3\n",
    "import pandas as pd\n",
    "import seaborn as sns\n",
    "import matplotlib.pyplot as plt\n",
    "import warnings"
   ]
  },
  {
   "cell_type": "markdown",
   "id": "5d0cde3d",
   "metadata": {},
   "source": [
    "These are the modules that we are going to use for our analysis. Notably:\n",
    "* *sqlite3* allows us to communicate with a SQLite database;\n",
    "* *pandas* offers very useful tools for working with data;\n",
    "* *seaborn* and *matplotlib* come with some handful functions to display and visualize data."
   ]
  },
  {
   "cell_type": "markdown",
   "id": "60340bd0",
   "metadata": {},
   "source": [
    "## Retrieve data"
   ]
  },
  {
   "cell_type": "code",
   "execution_count": 3,
   "id": "85606847",
   "metadata": {},
   "outputs": [],
   "source": [
    "#os.mkdir(\"data\")\n",
    "\n",
    "# download data from the source\n",
    "\n",
    "url = \"http://infinity.unstable.life/Flashpoint/Data/flashpoint.sqlite\"\n",
    "filename = \"data/flashpoint.sqlite\"\n",
    "#urllib.request.urlretrieve(url, filename)\n",
    "\n",
    "# connect to the database and store the \"game\" table in a dataframe\n",
    "\n",
    "con = sqlite3.connect(\"data/flashpoint.sqlite\")\n",
    "df = pd.read_sql_query(\"SELECT * FROM game\", con)\n",
    "con.close()"
   ]
  },
  {
   "cell_type": "markdown",
   "id": "82484550",
   "metadata": {},
   "source": [
    "## Explore data "
   ]
  },
  {
   "cell_type": "markdown",
   "id": "95f78036",
   "metadata": {},
   "source": [
    "Let's have a first look at our data."
   ]
  },
  {
   "cell_type": "code",
   "execution_count": 154,
   "id": "be57b776",
   "metadata": {},
   "outputs": [
    {
     "name": "stdout",
     "output_type": "stream",
     "text": [
      "<class 'pandas.core.frame.DataFrame'>\n",
      "RangeIndex: 177469 entries, 0 to 177468\n",
      "Data columns (total 27 columns):\n",
      " #   Column               Non-Null Count   Dtype  \n",
      "---  ------               --------------   -----  \n",
      " 0   id                   177469 non-null  object \n",
      " 1   parentGameId         57600 non-null   object \n",
      " 2   title                177469 non-null  object \n",
      " 3   alternateTitles      177469 non-null  object \n",
      " 4   series               177469 non-null  object \n",
      " 5   developer            177469 non-null  object \n",
      " 6   publisher            177469 non-null  object \n",
      " 7   dateAdded            177469 non-null  object \n",
      " 8   dateModified         177469 non-null  object \n",
      " 9   platform             177469 non-null  object \n",
      " 10  broken               177469 non-null  int64  \n",
      " 11  extreme              177469 non-null  int64  \n",
      " 12  playMode             177469 non-null  object \n",
      " 13  status               177469 non-null  object \n",
      " 14  notes                177469 non-null  object \n",
      " 15  source               177469 non-null  object \n",
      " 16  applicationPath      177469 non-null  object \n",
      " 17  launchCommand        177469 non-null  object \n",
      " 18  releaseDate          177469 non-null  object \n",
      " 19  version              177469 non-null  object \n",
      " 20  originalDescription  177469 non-null  object \n",
      " 21  language             177469 non-null  object \n",
      " 22  library              177469 non-null  object \n",
      " 23  orderTitle           177469 non-null  object \n",
      " 24  activeDataId         153952 non-null  float64\n",
      " 25  activeDataOnDisk     177469 non-null  int64  \n",
      " 26  tagsStr              177469 non-null  object \n",
      "dtypes: float64(1), int64(3), object(23)\n",
      "memory usage: 36.6+ MB\n"
     ]
    }
   ],
   "source": [
    "df.info()"
   ]
  },
  {
   "cell_type": "markdown",
   "id": "56d61d91",
   "metadata": {},
   "source": [
    "There is a total of 27 variables and almost all of them belong to the *object* data type. We are going to need only some of them, so let's keep only the relevant ones."
   ]
  },
  {
   "cell_type": "code",
   "execution_count": 4,
   "id": "fce51272",
   "metadata": {},
   "outputs": [
    {
     "name": "stdout",
     "output_type": "stream",
     "text": [
      "<class 'pandas.core.frame.DataFrame'>\n",
      "RangeIndex: 177469 entries, 0 to 177468\n",
      "Data columns (total 9 columns):\n",
      " #   Column       Non-Null Count   Dtype \n",
      "---  ------       --------------   ----- \n",
      " 0   id           177469 non-null  object\n",
      " 1   title        177469 non-null  object\n",
      " 2   developer    177469 non-null  object\n",
      " 3   publisher    177469 non-null  object\n",
      " 4   platform     177469 non-null  object\n",
      " 5   releaseDate  177469 non-null  object\n",
      " 6   language     177469 non-null  object\n",
      " 7   library      177469 non-null  object\n",
      " 8   tagsStr      177469 non-null  object\n",
      "dtypes: object(9)\n",
      "memory usage: 12.2+ MB\n"
     ]
    }
   ],
   "source": [
    "vars_to_keep = [\"id\", \"title\", \"developer\", \"publisher\", \"platform\", \"releaseDate\", \"language\", \"library\", \"tagsStr\"]\n",
    "df = df[vars_to_keep]\n",
    "df.info()"
   ]
  },
  {
   "cell_type": "markdown",
   "id": "2dcc507b",
   "metadata": {},
   "source": [
    "Among the remaining variables there are no missing values."
   ]
  },
  {
   "cell_type": "markdown",
   "id": "558c2136",
   "metadata": {},
   "source": [
    "To complete our preliminary analysis, let's print the first rows of our dataframe."
   ]
  },
  {
   "cell_type": "code",
   "execution_count": 157,
   "id": "0e82f557",
   "metadata": {},
   "outputs": [
    {
     "data": {
      "text/html": [
       "<div>\n",
       "<style scoped>\n",
       "    .dataframe tbody tr th:only-of-type {\n",
       "        vertical-align: middle;\n",
       "    }\n",
       "\n",
       "    .dataframe tbody tr th {\n",
       "        vertical-align: top;\n",
       "    }\n",
       "\n",
       "    .dataframe thead th {\n",
       "        text-align: right;\n",
       "    }\n",
       "</style>\n",
       "<table border=\"1\" class=\"dataframe\">\n",
       "  <thead>\n",
       "    <tr style=\"text-align: right;\">\n",
       "      <th></th>\n",
       "      <th>id</th>\n",
       "      <th>title</th>\n",
       "      <th>developer</th>\n",
       "      <th>publisher</th>\n",
       "      <th>platform</th>\n",
       "      <th>releaseDate</th>\n",
       "      <th>language</th>\n",
       "      <th>library</th>\n",
       "      <th>tagsStr</th>\n",
       "    </tr>\n",
       "  </thead>\n",
       "  <tbody>\n",
       "    <tr>\n",
       "      <th>0</th>\n",
       "      <td>6db72888-6aa5-34c9-0ff3-ffe4cfe0fc61</td>\n",
       "      <td>All Grown Up: Krazy Karts</td>\n",
       "      <td>Ezone</td>\n",
       "      <td>Nickelodeon</td>\n",
       "      <td>3D Groove GX</td>\n",
       "      <td></td>\n",
       "      <td></td>\n",
       "      <td>arcade</td>\n",
       "      <td>Racing</td>\n",
       "    </tr>\n",
       "    <tr>\n",
       "      <th>1</th>\n",
       "      <td>3bba3af6-8e76-b2c8-b423-2d2d8bdfdd50</td>\n",
       "      <td>Showdown: The Gunfighting Game</td>\n",
       "      <td>3D Groove</td>\n",
       "      <td>3D Groove</td>\n",
       "      <td>3D Groove GX</td>\n",
       "      <td></td>\n",
       "      <td></td>\n",
       "      <td>arcade</td>\n",
       "      <td>Shooter</td>\n",
       "    </tr>\n",
       "    <tr>\n",
       "      <th>2</th>\n",
       "      <td>fb479276-2325-4dbb-bafd-64fcc8aeb684</td>\n",
       "      <td>Hamsterball Bowling</td>\n",
       "      <td>Ezone</td>\n",
       "      <td>atv.Disney.go.com</td>\n",
       "      <td>3D Groove GX</td>\n",
       "      <td></td>\n",
       "      <td></td>\n",
       "      <td>arcade</td>\n",
       "      <td>Arcade</td>\n",
       "    </tr>\n",
       "    <tr>\n",
       "      <th>3</th>\n",
       "      <td>7cdff5f4-11cb-b1de-51bc-bca13ef78adb</td>\n",
       "      <td>Dunk Tank</td>\n",
       "      <td>Ezone</td>\n",
       "      <td>atv.Disney.go.com</td>\n",
       "      <td>3D Groove GX</td>\n",
       "      <td></td>\n",
       "      <td></td>\n",
       "      <td>arcade</td>\n",
       "      <td>Arcade</td>\n",
       "    </tr>\n",
       "    <tr>\n",
       "      <th>4</th>\n",
       "      <td>1d9ff021-2404-9785-bb7d-0fceda67a55d</td>\n",
       "      <td>Baby Knight</td>\n",
       "      <td>Pepworks</td>\n",
       "      <td>Pepworks</td>\n",
       "      <td>3D Groove GX</td>\n",
       "      <td></td>\n",
       "      <td></td>\n",
       "      <td>arcade</td>\n",
       "      <td>Platformer</td>\n",
       "    </tr>\n",
       "  </tbody>\n",
       "</table>\n",
       "</div>"
      ],
      "text/plain": [
       "                                     id                           title  \\\n",
       "0  6db72888-6aa5-34c9-0ff3-ffe4cfe0fc61       All Grown Up: Krazy Karts   \n",
       "1  3bba3af6-8e76-b2c8-b423-2d2d8bdfdd50  Showdown: The Gunfighting Game   \n",
       "2  fb479276-2325-4dbb-bafd-64fcc8aeb684             Hamsterball Bowling   \n",
       "3  7cdff5f4-11cb-b1de-51bc-bca13ef78adb                       Dunk Tank   \n",
       "4  1d9ff021-2404-9785-bb7d-0fceda67a55d                     Baby Knight   \n",
       "\n",
       "   developer          publisher      platform releaseDate language library  \\\n",
       "0      Ezone        Nickelodeon  3D Groove GX                       arcade   \n",
       "1  3D Groove          3D Groove  3D Groove GX                       arcade   \n",
       "2      Ezone  atv.Disney.go.com  3D Groove GX                       arcade   \n",
       "3      Ezone  atv.Disney.go.com  3D Groove GX                       arcade   \n",
       "4   Pepworks           Pepworks  3D Groove GX                       arcade   \n",
       "\n",
       "      tagsStr  \n",
       "0      Racing  \n",
       "1     Shooter  \n",
       "2      Arcade  \n",
       "3      Arcade  \n",
       "4  Platformer  "
      ]
     },
     "execution_count": 157,
     "metadata": {},
     "output_type": "execute_result"
    }
   ],
   "source": [
    "df.head()"
   ]
  },
  {
   "cell_type": "markdown",
   "id": "f1ed3d57",
   "metadata": {},
   "source": [
    "## Analyze data "
   ]
  },
  {
   "cell_type": "markdown",
   "id": "0ba01f5c",
   "metadata": {},
   "source": [
    "It would be interesting to know which are the most prolific developers and publishers. Let's find out by creating a frequency table for each variable and looking at the first ten entries."
   ]
  },
  {
   "cell_type": "code",
   "execution_count": 49,
   "id": "bda7f56d",
   "metadata": {},
   "outputs": [
    {
     "data": {
      "text/plain": [
       "                   46151\n",
       "123Bee              2730\n",
       "Games2Rule          2441\n",
       "Games2Jolly.com     1915\n",
       "Selfdefiant         1603\n",
       "WowEscape.com       1436\n",
       "Top10NewGames       1144\n",
       "PalmarianFire       1059\n",
       "Ena Game Studio     1031\n",
       "Neopets              957\n",
       "Name: developer, dtype: int64"
      ]
     },
     "execution_count": 49,
     "metadata": {},
     "output_type": "execute_result"
    }
   ],
   "source": [
    "top_developers = df[\"developer\"].value_counts()[:10]\n",
    "top_developers"
   ]
  },
  {
   "cell_type": "markdown",
   "id": "9d4cdd49",
   "metadata": {},
   "source": [
    "The first row is blank because some games (actually, most of them) do not have a developer value associated in the database. Let's filter out those entries."
   ]
  },
  {
   "cell_type": "code",
   "execution_count": 50,
   "id": "0f1aaf6c",
   "metadata": {},
   "outputs": [
    {
     "data": {
      "text/plain": [
       "123Bee             2730\n",
       "Games2Rule         2441\n",
       "Games2Jolly.com    1915\n",
       "Selfdefiant        1603\n",
       "WowEscape.com      1436\n",
       "Top10NewGames      1144\n",
       "PalmarianFire      1059\n",
       "Ena Game Studio    1031\n",
       "Neopets             957\n",
       "Mirchi Games        812\n",
       "Name: developer, dtype: int64"
      ]
     },
     "execution_count": 50,
     "metadata": {},
     "output_type": "execute_result"
    }
   ],
   "source": [
    "top_developers = df.loc[df.developer != '', \"developer\"].value_counts()[:10]\n",
    "top_developers"
   ]
  },
  {
   "cell_type": "markdown",
   "id": "5dba6d26",
   "metadata": {},
   "source": [
    "These are the most represented developers in the database. It is impressive to notice that almost all of them are known to be specialised in escape games, which we can suppose to be a very popular genre; we will dig into this later. Lastly, a special mention for Neopets, which managed to build a passionate community still active after over 20 years."
   ]
  },
  {
   "cell_type": "code",
   "execution_count": 52,
   "id": "7801a48a",
   "metadata": {},
   "outputs": [
    {
     "data": {
      "text/plain": [
       "DeviantArt         7655\n",
       "Newgrounds         6550\n",
       "Disney             2428\n",
       "Nickelodeon        1659\n",
       "Armor Games        1437\n",
       "GameMonetize       1374\n",
       "Eka's Portal       1261\n",
       "Cartoon Network    1243\n",
       "Kongregate         1219\n",
       "Melting-Mindz      1214\n",
       "Name: publisher, dtype: int64"
      ]
     },
     "execution_count": 52,
     "metadata": {},
     "output_type": "execute_result"
    }
   ],
   "source": [
    "top_publishers = df.loc[df.publisher != '', \"publisher\"].value_counts()[:10]\n",
    "top_publishers"
   ]
  },
  {
   "cell_type": "markdown",
   "id": "afff4c5c",
   "metadata": {},
   "source": [
    "Among the publishers, we can see some very renowned names, at least in the gaming community, like *Newgrounds*, *Armor Games* and *Kongregate*. There is also a considerable amount of games published by TV broadcasters, such as *Disney*, *Nickelodeon* and *Cartoon Network*, supposedly to promote their shows."
   ]
  },
  {
   "cell_type": "markdown",
   "id": "cb024184",
   "metadata": {},
   "source": [
    "Now let's look at a visualization of the same data, by making use of bar plots and pie charts."
   ]
  },
  {
   "cell_type": "code",
   "execution_count": 53,
   "id": "f35e6e31",
   "metadata": {},
   "outputs": [
    {
     "data": {
      "image/png": "[encoded data removed]",
      "text/plain": [
       "<Figure size 640x480 with 1 Axes>"
      ]
     },
     "metadata": {},
     "output_type": "display_data"
    }
   ],
   "source": [
    "sns.barplot(x = top_developers.values, y = top_developers.index, orient = \"h\").set(title = \"Top ten developers distribution\");"
   ]
  },
  {
   "cell_type": "code",
   "execution_count": 54,
   "id": "59d86f52",
   "metadata": {},
   "outputs": [
    {
     "data": {
      "image/png": "[encoded data removed]",
      "text/plain": [
       "<Figure size 640x480 with 1 Axes>"
      ]
     },
     "metadata": {},
     "output_type": "display_data"
    }
   ],
   "source": [
    "labels = top_developers.index\n",
    "sizes = top_developers.values / top_developers.values.sum() * 100\n",
    "plt.pie(sizes, labels = labels)\n",
    "plt.title(\"Top ten developers distribution\")\n",
    "plt.show()"
   ]
  },
  {
   "cell_type": "code",
   "execution_count": 55,
   "id": "0e2781fa",
   "metadata": {
    "scrolled": false
   },
   "outputs": [
    {
     "data": {
      "image/png": "[encoded data removed]",
      "text/plain": [
       "<Figure size 640x480 with 1 Axes>"
      ]
     },
     "metadata": {},
     "output_type": "display_data"
    }
   ],
   "source": [
    "sns.barplot(x = top_publishers.values, y = top_publishers.index, orient = \"h\").set(title = \"Top ten publishers distribution\");"
   ]
  },
  {
   "cell_type": "code",
   "execution_count": 56,
   "id": "2439d4e9",
   "metadata": {},
   "outputs": [
    {
     "data": {
      "image/png": "[encoded data removed]",
      "text/plain": [
       "<Figure size 640x480 with 1 Axes>"
      ]
     },
     "metadata": {},
     "output_type": "display_data"
    }
   ],
   "source": [
    "labels = top_publishers.index\n",
    "sizes = top_publishers.values / top_publishers.values.sum() * 100\n",
    "plt.pie(sizes, labels = labels)\n",
    "plt.title(\"Top ten publishers distribution\")\n",
    "plt.show()"
   ]
  },
  {
   "cell_type": "markdown",
   "id": "a34e90a3",
   "metadata": {},
   "source": [
    "Flash games started to appear towards the end of the twentieth century and became popular in the next decade. Let's observe the release dates we have got here, being aware that they are not specified for all games."
   ]
  },
  {
   "cell_type": "code",
   "execution_count": 5,
   "id": "6e6c87c9",
   "metadata": {
    "scrolled": true
   },
   "outputs": [
    {
     "data": {
      "text/html": [
       "<div>\n",
       "<style scoped>\n",
       "    .dataframe tbody tr th:only-of-type {\n",
       "        vertical-align: middle;\n",
       "    }\n",
       "\n",
       "    .dataframe tbody tr th {\n",
       "        vertical-align: top;\n",
       "    }\n",
       "\n",
       "    .dataframe thead th {\n",
       "        text-align: right;\n",
       "    }\n",
       "</style>\n",
       "<table border=\"1\" class=\"dataframe\">\n",
       "  <thead>\n",
       "    <tr style=\"text-align: right;\">\n",
       "      <th></th>\n",
       "      <th>title</th>\n",
       "      <th>releaseDate</th>\n",
       "      <th>platform</th>\n",
       "      <th>library</th>\n",
       "    </tr>\n",
       "  </thead>\n",
       "  <tbody>\n",
       "    <tr>\n",
       "      <th>26897</th>\n",
       "      <td>TankTrouble</td>\n",
       "      <td>16-12-2007</td>\n",
       "      <td>Flash</td>\n",
       "      <td>arcade</td>\n",
       "    </tr>\n",
       "    <tr>\n",
       "      <th>47769</th>\n",
       "      <td>Blastar</td>\n",
       "      <td>1984</td>\n",
       "      <td>HTML5</td>\n",
       "      <td>arcade</td>\n",
       "    </tr>\n",
       "    <tr>\n",
       "      <th>141921</th>\n",
       "      <td>Idle Johnny</td>\n",
       "      <td>1993</td>\n",
       "      <td>Shockwave</td>\n",
       "      <td>theatre</td>\n",
       "    </tr>\n",
       "    <tr>\n",
       "      <th>155542</th>\n",
       "      <td>ZZZ...I want to sleep</td>\n",
       "      <td>1994</td>\n",
       "      <td>Shockwave</td>\n",
       "      <td>theatre</td>\n",
       "    </tr>\n",
       "    <tr>\n",
       "      <th>155541</th>\n",
       "      <td>The Health Checkup</td>\n",
       "      <td>1994</td>\n",
       "      <td>Shockwave</td>\n",
       "      <td>theatre</td>\n",
       "    </tr>\n",
       "    <tr>\n",
       "      <th>...</th>\n",
       "      <td>...</td>\n",
       "      <td>...</td>\n",
       "      <td>...</td>\n",
       "      <td>...</td>\n",
       "    </tr>\n",
       "    <tr>\n",
       "      <th>37388</th>\n",
       "      <td>GWL Hayley Footjob (Commission)</td>\n",
       "      <td>2080-10-05</td>\n",
       "      <td>Flash</td>\n",
       "      <td>arcade</td>\n",
       "    </tr>\n",
       "    <tr>\n",
       "      <th>50821</th>\n",
       "      <td>Havok Xtra Marble Demo</td>\n",
       "      <td>21/08/2001</td>\n",
       "      <td>Shockwave</td>\n",
       "      <td>arcade</td>\n",
       "    </tr>\n",
       "    <tr>\n",
       "      <th>50893</th>\n",
       "      <td>Ray Cast Car</td>\n",
       "      <td>27/06/2001</td>\n",
       "      <td>Shockwave</td>\n",
       "      <td>arcade</td>\n",
       "    </tr>\n",
       "    <tr>\n",
       "      <th>105547</th>\n",
       "      <td>(Gift) Luna's Christmas gift</td>\n",
       "      <td>2917-12-26</td>\n",
       "      <td>Flash</td>\n",
       "      <td>theatre</td>\n",
       "    </tr>\n",
       "    <tr>\n",
       "      <th>50070</th>\n",
       "      <td>Havok Xtra RC Car Demo</td>\n",
       "      <td>7/1/2002</td>\n",
       "      <td>Shockwave</td>\n",
       "      <td>arcade</td>\n",
       "    </tr>\n",
       "  </tbody>\n",
       "</table>\n",
       "<p>75997 rows × 4 columns</p>\n",
       "</div>"
      ],
      "text/plain": [
       "                                  title releaseDate   platform  library\n",
       "26897                       TankTrouble  16-12-2007      Flash   arcade\n",
       "47769                           Blastar        1984      HTML5   arcade\n",
       "141921                      Idle Johnny        1993  Shockwave  theatre\n",
       "155542            ZZZ...I want to sleep        1994  Shockwave  theatre\n",
       "155541               The Health Checkup        1994  Shockwave  theatre\n",
       "...                                 ...         ...        ...      ...\n",
       "37388   GWL Hayley Footjob (Commission)  2080-10-05      Flash   arcade\n",
       "50821            Havok Xtra Marble Demo  21/08/2001  Shockwave   arcade\n",
       "50893                      Ray Cast Car  27/06/2001  Shockwave   arcade\n",
       "105547     (Gift) Luna's Christmas gift  2917-12-26      Flash  theatre\n",
       "50070            Havok Xtra RC Car Demo    7/1/2002  Shockwave   arcade\n",
       "\n",
       "[75997 rows x 4 columns]"
      ]
     },
     "execution_count": 5,
     "metadata": {},
     "output_type": "execute_result"
    }
   ],
   "source": [
    "df_dates = df.loc[(df.releaseDate != \"\"), [\"title\", \"releaseDate\", \"platform\", \"library\"]].sort_values(by=[\"releaseDate\"])\n",
    "df_dates"
   ]
  },
  {
   "cell_type": "markdown",
   "id": "88edf8e1",
   "metadata": {},
   "source": [
    "There seems to be a problem with the data. Entries should follow the \"YY-MM-DD\" date format as per Flashpoint guidelines, but some games come in a different one. In addition, if the exact day or month of release is unknown, it is allowed to specify the year only. Let's clean up our data for consistency."
   ]
  },
  {
   "cell_type": "code",
   "execution_count": 24,
   "id": "a9a2b05b",
   "metadata": {},
   "outputs": [
    {
     "data": {
      "text/html": [
       "<div>\n",
       "<style scoped>\n",
       "    .dataframe tbody tr th:only-of-type {\n",
       "        vertical-align: middle;\n",
       "    }\n",
       "\n",
       "    .dataframe tbody tr th {\n",
       "        vertical-align: top;\n",
       "    }\n",
       "\n",
       "    .dataframe thead th {\n",
       "        text-align: right;\n",
       "    }\n",
       "</style>\n",
       "<table border=\"1\" class=\"dataframe\">\n",
       "  <thead>\n",
       "    <tr style=\"text-align: right;\">\n",
       "      <th></th>\n",
       "      <th>title</th>\n",
       "      <th>releaseDate</th>\n",
       "      <th>platform</th>\n",
       "      <th>library</th>\n",
       "    </tr>\n",
       "  </thead>\n",
       "  <tbody>\n",
       "    <tr>\n",
       "      <th>141921</th>\n",
       "      <td>Idle Johnny</td>\n",
       "      <td>1993-01-01</td>\n",
       "      <td>Shockwave</td>\n",
       "      <td>theatre</td>\n",
       "    </tr>\n",
       "    <tr>\n",
       "      <th>155542</th>\n",
       "      <td>ZZZ...I want to sleep</td>\n",
       "      <td>1994-01-01</td>\n",
       "      <td>Shockwave</td>\n",
       "      <td>theatre</td>\n",
       "    </tr>\n",
       "    <tr>\n",
       "      <th>155541</th>\n",
       "      <td>The Health Checkup</td>\n",
       "      <td>1994-01-01</td>\n",
       "      <td>Shockwave</td>\n",
       "      <td>theatre</td>\n",
       "    </tr>\n",
       "    <tr>\n",
       "      <th>141942</th>\n",
       "      <td>QP-Shot 1000</td>\n",
       "      <td>1994-01-01</td>\n",
       "      <td>Shockwave</td>\n",
       "      <td>arcade</td>\n",
       "    </tr>\n",
       "    <tr>\n",
       "      <th>155545</th>\n",
       "      <td>Dangerous Two</td>\n",
       "      <td>1994-01-01</td>\n",
       "      <td>Shockwave</td>\n",
       "      <td>theatre</td>\n",
       "    </tr>\n",
       "    <tr>\n",
       "      <th>...</th>\n",
       "      <td>...</td>\n",
       "      <td>...</td>\n",
       "      <td>...</td>\n",
       "      <td>...</td>\n",
       "    </tr>\n",
       "    <tr>\n",
       "      <th>176747</th>\n",
       "      <td>Defender of Ukraine</td>\n",
       "      <td>2022-12-20</td>\n",
       "      <td>HTML5</td>\n",
       "      <td>arcade</td>\n",
       "    </tr>\n",
       "    <tr>\n",
       "      <th>175933</th>\n",
       "      <td>Christmas in Vienna</td>\n",
       "      <td>2022-12-23</td>\n",
       "      <td>HTML5</td>\n",
       "      <td>arcade</td>\n",
       "    </tr>\n",
       "    <tr>\n",
       "      <th>175934</th>\n",
       "      <td>Chrysler Building</td>\n",
       "      <td>2022-12-23</td>\n",
       "      <td>HTML5</td>\n",
       "      <td>arcade</td>\n",
       "    </tr>\n",
       "    <tr>\n",
       "      <th>175851</th>\n",
       "      <td>Awesome Game</td>\n",
       "      <td>2022-12-23</td>\n",
       "      <td>HTML5</td>\n",
       "      <td>arcade</td>\n",
       "    </tr>\n",
       "    <tr>\n",
       "      <th>177404</th>\n",
       "      <td>T-Mobile Tuesdays: Win $2,300 for 2023!</td>\n",
       "      <td>2022-12-27</td>\n",
       "      <td>HTML5</td>\n",
       "      <td>arcade</td>\n",
       "    </tr>\n",
       "  </tbody>\n",
       "</table>\n",
       "<p>75987 rows × 4 columns</p>\n",
       "</div>"
      ],
      "text/plain": [
       "                                          title releaseDate   platform  \\\n",
       "141921                              Idle Johnny  1993-01-01  Shockwave   \n",
       "155542                    ZZZ...I want to sleep  1994-01-01  Shockwave   \n",
       "155541                       The Health Checkup  1994-01-01  Shockwave   \n",
       "141942                             QP-Shot 1000  1994-01-01  Shockwave   \n",
       "155545                            Dangerous Two  1994-01-01  Shockwave   \n",
       "...                                         ...         ...        ...   \n",
       "176747                      Defender of Ukraine  2022-12-20      HTML5   \n",
       "175933                      Christmas in Vienna  2022-12-23      HTML5   \n",
       "175934                        Chrysler Building  2022-12-23      HTML5   \n",
       "175851                             Awesome Game  2022-12-23      HTML5   \n",
       "177404  T-Mobile Tuesdays: Win $2,300 for 2023!  2022-12-27      HTML5   \n",
       "\n",
       "        library  \n",
       "141921  theatre  \n",
       "155542  theatre  \n",
       "155541  theatre  \n",
       "141942   arcade  \n",
       "155545  theatre  \n",
       "...         ...  \n",
       "176747   arcade  \n",
       "175933   arcade  \n",
       "175934   arcade  \n",
       "175851   arcade  \n",
       "177404   arcade  \n",
       "\n",
       "[75987 rows x 4 columns]"
      ]
     },
     "execution_count": 24,
     "metadata": {},
     "output_type": "execute_result"
    }
   ],
   "source": [
    "warnings.filterwarnings(\"ignore\", category = UserWarning)\n",
    "df_dates[\"releaseDate\"] = pd.to_datetime(df_dates[\"releaseDate\"], errors = \"coerce\")\n",
    "df_dates = df_dates.dropna().sort_values(\"releaseDate\")\n",
    "df_dates"
   ]
  },
  {
   "cell_type": "markdown",
   "id": "aa701704",
   "metadata": {},
   "source": [
    "*Pandas* automatically assigned January 1 as month and day for those games whose only date information was the year.\n",
    "There is still one odd observation, the last one, which is most likely a typo."
   ]
  },
  {
   "cell_type": "code",
   "execution_count": 7,
   "id": "e649146b",
   "metadata": {
    "scrolled": true
   },
   "outputs": [
    {
     "data": {
      "text/html": [
       "<div>\n",
       "<style scoped>\n",
       "    .dataframe tbody tr th:only-of-type {\n",
       "        vertical-align: middle;\n",
       "    }\n",
       "\n",
       "    .dataframe tbody tr th {\n",
       "        vertical-align: top;\n",
       "    }\n",
       "\n",
       "    .dataframe thead th {\n",
       "        text-align: right;\n",
       "    }\n",
       "</style>\n",
       "<table border=\"1\" class=\"dataframe\">\n",
       "  <thead>\n",
       "    <tr style=\"text-align: right;\">\n",
       "      <th></th>\n",
       "      <th>title</th>\n",
       "      <th>releaseDate</th>\n",
       "      <th>platform</th>\n",
       "      <th>library</th>\n",
       "    </tr>\n",
       "  </thead>\n",
       "  <tbody>\n",
       "    <tr>\n",
       "      <th>47769</th>\n",
       "      <td>Blastar</td>\n",
       "      <td>1984-01-01</td>\n",
       "      <td>HTML5</td>\n",
       "      <td>arcade</td>\n",
       "    </tr>\n",
       "    <tr>\n",
       "      <th>141921</th>\n",
       "      <td>Idle Johnny</td>\n",
       "      <td>1993-01-01</td>\n",
       "      <td>Shockwave</td>\n",
       "      <td>theatre</td>\n",
       "    </tr>\n",
       "    <tr>\n",
       "      <th>155542</th>\n",
       "      <td>ZZZ...I want to sleep</td>\n",
       "      <td>1994-01-01</td>\n",
       "      <td>Shockwave</td>\n",
       "      <td>theatre</td>\n",
       "    </tr>\n",
       "    <tr>\n",
       "      <th>155541</th>\n",
       "      <td>The Health Checkup</td>\n",
       "      <td>1994-01-01</td>\n",
       "      <td>Shockwave</td>\n",
       "      <td>theatre</td>\n",
       "    </tr>\n",
       "    <tr>\n",
       "      <th>141942</th>\n",
       "      <td>QP-Shot 1000</td>\n",
       "      <td>1994-01-01</td>\n",
       "      <td>Shockwave</td>\n",
       "      <td>arcade</td>\n",
       "    </tr>\n",
       "    <tr>\n",
       "      <th>155545</th>\n",
       "      <td>Dangerous Two</td>\n",
       "      <td>1994-01-01</td>\n",
       "      <td>Shockwave</td>\n",
       "      <td>theatre</td>\n",
       "    </tr>\n",
       "    <tr>\n",
       "      <th>73010</th>\n",
       "      <td>Virtual Banana Original</td>\n",
       "      <td>1994-02-01</td>\n",
       "      <td>VRML</td>\n",
       "      <td>arcade</td>\n",
       "    </tr>\n",
       "    <tr>\n",
       "      <th>134268</th>\n",
       "      <td>Virtual University of Auckland</td>\n",
       "      <td>1994-02-01</td>\n",
       "      <td>Hyper-G</td>\n",
       "      <td>arcade</td>\n",
       "    </tr>\n",
       "    <tr>\n",
       "      <th>102651</th>\n",
       "      <td>Clock Tower</td>\n",
       "      <td>1994-11-17</td>\n",
       "      <td>VRML</td>\n",
       "      <td>arcade</td>\n",
       "    </tr>\n",
       "    <tr>\n",
       "      <th>134765</th>\n",
       "      <td>The Austrian National Library</td>\n",
       "      <td>1994-11-17</td>\n",
       "      <td>VRML</td>\n",
       "      <td>arcade</td>\n",
       "    </tr>\n",
       "    <tr>\n",
       "      <th>102083</th>\n",
       "      <td>Model of the IICM institute</td>\n",
       "      <td>1994-11-17</td>\n",
       "      <td>VRML</td>\n",
       "      <td>arcade</td>\n",
       "    </tr>\n",
       "    <tr>\n",
       "      <th>102104</th>\n",
       "      <td>Office</td>\n",
       "      <td>1994-11-17</td>\n",
       "      <td>VRML</td>\n",
       "      <td>arcade</td>\n",
       "    </tr>\n",
       "    <tr>\n",
       "      <th>100915</th>\n",
       "      <td>Office</td>\n",
       "      <td>1994-11-17</td>\n",
       "      <td>Hyper-G</td>\n",
       "      <td>arcade</td>\n",
       "    </tr>\n",
       "    <tr>\n",
       "      <th>134763</th>\n",
       "      <td>Graz 3D Model</td>\n",
       "      <td>1994-11-17</td>\n",
       "      <td>VRML</td>\n",
       "      <td>arcade</td>\n",
       "    </tr>\n",
       "    <tr>\n",
       "      <th>102674</th>\n",
       "      <td>Engine</td>\n",
       "      <td>1994-11-17</td>\n",
       "      <td>VRML</td>\n",
       "      <td>arcade</td>\n",
       "    </tr>\n",
       "    <tr>\n",
       "      <th>102663</th>\n",
       "      <td>Cubes</td>\n",
       "      <td>1994-11-17</td>\n",
       "      <td>VRML</td>\n",
       "      <td>arcade</td>\n",
       "    </tr>\n",
       "    <tr>\n",
       "      <th>86424</th>\n",
       "      <td>Clock</td>\n",
       "      <td>1994-11-17</td>\n",
       "      <td>Hyper-G</td>\n",
       "      <td>arcade</td>\n",
       "    </tr>\n",
       "    <tr>\n",
       "      <th>134764</th>\n",
       "      <td>Fancy Cubes</td>\n",
       "      <td>1994-11-17</td>\n",
       "      <td>Hyper-G</td>\n",
       "      <td>arcade</td>\n",
       "    </tr>\n",
       "    <tr>\n",
       "      <th>102657</th>\n",
       "      <td>Corvette</td>\n",
       "      <td>1994-11-17</td>\n",
       "      <td>VRML</td>\n",
       "      <td>arcade</td>\n",
       "    </tr>\n",
       "    <tr>\n",
       "      <th>75234</th>\n",
       "      <td>Missile Commando</td>\n",
       "      <td>1995-01-01</td>\n",
       "      <td>Java</td>\n",
       "      <td>arcade</td>\n",
       "    </tr>\n",
       "  </tbody>\n",
       "</table>\n",
       "</div>"
      ],
      "text/plain": [
       "                                 title releaseDate   platform  library\n",
       "47769                          Blastar  1984-01-01      HTML5   arcade\n",
       "141921                     Idle Johnny  1993-01-01  Shockwave  theatre\n",
       "155542           ZZZ...I want to sleep  1994-01-01  Shockwave  theatre\n",
       "155541              The Health Checkup  1994-01-01  Shockwave  theatre\n",
       "141942                    QP-Shot 1000  1994-01-01  Shockwave   arcade\n",
       "155545                   Dangerous Two  1994-01-01  Shockwave  theatre\n",
       "73010          Virtual Banana Original  1994-02-01       VRML   arcade\n",
       "134268  Virtual University of Auckland  1994-02-01    Hyper-G   arcade\n",
       "102651                     Clock Tower  1994-11-17       VRML   arcade\n",
       "134765   The Austrian National Library  1994-11-17       VRML   arcade\n",
       "102083     Model of the IICM institute  1994-11-17       VRML   arcade\n",
       "102104                          Office  1994-11-17       VRML   arcade\n",
       "100915                          Office  1994-11-17    Hyper-G   arcade\n",
       "134763                   Graz 3D Model  1994-11-17       VRML   arcade\n",
       "102674                          Engine  1994-11-17       VRML   arcade\n",
       "102663                           Cubes  1994-11-17       VRML   arcade\n",
       "86424                            Clock  1994-11-17    Hyper-G   arcade\n",
       "134764                     Fancy Cubes  1994-11-17    Hyper-G   arcade\n",
       "102657                        Corvette  1994-11-17       VRML   arcade\n",
       "75234                 Missile Commando  1995-01-01       Java   arcade"
      ]
     },
     "execution_count": 7,
     "metadata": {},
     "output_type": "execute_result"
    }
   ],
   "source": [
    "df_dates = df_dates[:-1]\n",
    "df_dates[:20]"
   ]
  },
  {
   "cell_type": "markdown",
   "id": "7069b84f",
   "metadata": {},
   "source": [
    "Finally, we have got our correct release dates. We see that the oldest game in the list is *Blastar*, which was released in 1984. Actually, the game present in Flashpoint is a HTML5 version, which was developed and released much more recently. Moving on, starting from 1993 we recognize some old technologies, such as *Shochwave*, *VRML* and *Hyper-G*.\n",
    "\n",
    "We can actually distinguish between proper games and animations by looking at the *library* column: the former are labeled with *arcade*, the latter with *theatre* values. Thus, the oldest animation featured is *Idle Johnny* from 1993, while the first \"true\" game (not counting *Blastar*) could be either *QP-Shot 1000* (which came out at some time in 1994), or *Virtual Banana Original* and *Virtual University of Auckland*, both from February 1st, 1994."
   ]
  },
  {
   "cell_type": "code",
   "execution_count": 12,
   "id": "cb181740",
   "metadata": {},
   "outputs": [
    {
     "data": {
      "text/html": [
       "<div>\n",
       "<style scoped>\n",
       "    .dataframe tbody tr th:only-of-type {\n",
       "        vertical-align: middle;\n",
       "    }\n",
       "\n",
       "    .dataframe tbody tr th {\n",
       "        vertical-align: top;\n",
       "    }\n",
       "\n",
       "    .dataframe thead th {\n",
       "        text-align: right;\n",
       "    }\n",
       "</style>\n",
       "<table border=\"1\" class=\"dataframe\">\n",
       "  <thead>\n",
       "    <tr style=\"text-align: right;\">\n",
       "      <th></th>\n",
       "      <th>title</th>\n",
       "      <th>releaseDate</th>\n",
       "      <th>platform</th>\n",
       "      <th>library</th>\n",
       "    </tr>\n",
       "  </thead>\n",
       "  <tbody>\n",
       "    <tr>\n",
       "      <th>175058</th>\n",
       "      <td>Um Conto da Cloe</td>\n",
       "      <td>2022-12-08</td>\n",
       "      <td>HTML5</td>\n",
       "      <td>arcade</td>\n",
       "    </tr>\n",
       "    <tr>\n",
       "      <th>176260</th>\n",
       "      <td>Pad of Time</td>\n",
       "      <td>2022-12-08</td>\n",
       "      <td>HTML5</td>\n",
       "      <td>arcade</td>\n",
       "    </tr>\n",
       "    <tr>\n",
       "      <th>175153</th>\n",
       "      <td>/f/ 101</td>\n",
       "      <td>2022-12-09</td>\n",
       "      <td>Flash</td>\n",
       "      <td>arcade</td>\n",
       "    </tr>\n",
       "    <tr>\n",
       "      <th>176537</th>\n",
       "      <td>Vault of the Pineapples</td>\n",
       "      <td>2022-12-09</td>\n",
       "      <td>HTML5</td>\n",
       "      <td>arcade</td>\n",
       "    </tr>\n",
       "    <tr>\n",
       "      <th>172001</th>\n",
       "      <td>Snowsgiving Choose Your Own Adventure</td>\n",
       "      <td>2022-12-10</td>\n",
       "      <td>HTML5</td>\n",
       "      <td>arcade</td>\n",
       "    </tr>\n",
       "    <tr>\n",
       "      <th>177431</th>\n",
       "      <td>look_into_my_eyes_its_open_wide.swf</td>\n",
       "      <td>2022-12-10</td>\n",
       "      <td>Flash</td>\n",
       "      <td>theatre</td>\n",
       "    </tr>\n",
       "    <tr>\n",
       "      <th>176112</th>\n",
       "      <td>In the Name of Freedom: Black Apocalypse</td>\n",
       "      <td>2022-12-13</td>\n",
       "      <td>HTML5</td>\n",
       "      <td>arcade</td>\n",
       "    </tr>\n",
       "    <tr>\n",
       "      <th>175448</th>\n",
       "      <td>Mcdonalds Final</td>\n",
       "      <td>2022-12-13</td>\n",
       "      <td>HTML5</td>\n",
       "      <td>arcade</td>\n",
       "    </tr>\n",
       "    <tr>\n",
       "      <th>172414</th>\n",
       "      <td>The Smurfs Cooking</td>\n",
       "      <td>2022-12-13</td>\n",
       "      <td>HTML5</td>\n",
       "      <td>arcade</td>\n",
       "    </tr>\n",
       "    <tr>\n",
       "      <th>172155</th>\n",
       "      <td>Cartoon Network Winter Games</td>\n",
       "      <td>2022-12-14</td>\n",
       "      <td>HTML5</td>\n",
       "      <td>arcade</td>\n",
       "    </tr>\n",
       "    <tr>\n",
       "      <th>176208</th>\n",
       "      <td>Monkey Mart</td>\n",
       "      <td>2022-12-14</td>\n",
       "      <td>HTML5</td>\n",
       "      <td>arcade</td>\n",
       "    </tr>\n",
       "    <tr>\n",
       "      <th>176171</th>\n",
       "      <td>Maptroid: Worlds</td>\n",
       "      <td>2022-12-16</td>\n",
       "      <td>HTML5</td>\n",
       "      <td>arcade</td>\n",
       "    </tr>\n",
       "    <tr>\n",
       "      <th>176557</th>\n",
       "      <td>Why is This a Curation?</td>\n",
       "      <td>2022-12-17</td>\n",
       "      <td>Lightning Strike</td>\n",
       "      <td>arcade</td>\n",
       "    </tr>\n",
       "    <tr>\n",
       "      <th>176901</th>\n",
       "      <td>Monster Bar Simulator</td>\n",
       "      <td>2022-12-18</td>\n",
       "      <td>HTML5</td>\n",
       "      <td>arcade</td>\n",
       "    </tr>\n",
       "    <tr>\n",
       "      <th>177091</th>\n",
       "      <td>Wubbzy explains facts about Mars.</td>\n",
       "      <td>2022-12-19</td>\n",
       "      <td>HTML5</td>\n",
       "      <td>theatre</td>\n",
       "    </tr>\n",
       "    <tr>\n",
       "      <th>176747</th>\n",
       "      <td>Defender of Ukraine</td>\n",
       "      <td>2022-12-20</td>\n",
       "      <td>HTML5</td>\n",
       "      <td>arcade</td>\n",
       "    </tr>\n",
       "    <tr>\n",
       "      <th>175851</th>\n",
       "      <td>Awesome Game</td>\n",
       "      <td>2022-12-23</td>\n",
       "      <td>HTML5</td>\n",
       "      <td>arcade</td>\n",
       "    </tr>\n",
       "    <tr>\n",
       "      <th>175933</th>\n",
       "      <td>Christmas in Vienna</td>\n",
       "      <td>2022-12-23</td>\n",
       "      <td>HTML5</td>\n",
       "      <td>arcade</td>\n",
       "    </tr>\n",
       "    <tr>\n",
       "      <th>175934</th>\n",
       "      <td>Chrysler Building</td>\n",
       "      <td>2022-12-23</td>\n",
       "      <td>HTML5</td>\n",
       "      <td>arcade</td>\n",
       "    </tr>\n",
       "    <tr>\n",
       "      <th>177404</th>\n",
       "      <td>T-Mobile Tuesdays: Win $2,300 for 2023!</td>\n",
       "      <td>2022-12-27</td>\n",
       "      <td>HTML5</td>\n",
       "      <td>arcade</td>\n",
       "    </tr>\n",
       "  </tbody>\n",
       "</table>\n",
       "</div>"
      ],
      "text/plain": [
       "                                           title releaseDate  \\\n",
       "175058                          Um Conto da Cloe  2022-12-08   \n",
       "176260                               Pad of Time  2022-12-08   \n",
       "175153                                   /f/ 101  2022-12-09   \n",
       "176537                   Vault of the Pineapples  2022-12-09   \n",
       "172001     Snowsgiving Choose Your Own Adventure  2022-12-10   \n",
       "177431       look_into_my_eyes_its_open_wide.swf  2022-12-10   \n",
       "176112  In the Name of Freedom: Black Apocalypse  2022-12-13   \n",
       "175448                           Mcdonalds Final  2022-12-13   \n",
       "172414                        The Smurfs Cooking  2022-12-13   \n",
       "172155              Cartoon Network Winter Games  2022-12-14   \n",
       "176208                               Monkey Mart  2022-12-14   \n",
       "176171                          Maptroid: Worlds  2022-12-16   \n",
       "176557                   Why is This a Curation?  2022-12-17   \n",
       "176901                     Monster Bar Simulator  2022-12-18   \n",
       "177091         Wubbzy explains facts about Mars.  2022-12-19   \n",
       "176747                       Defender of Ukraine  2022-12-20   \n",
       "175851                              Awesome Game  2022-12-23   \n",
       "175933                       Christmas in Vienna  2022-12-23   \n",
       "175934                         Chrysler Building  2022-12-23   \n",
       "177404   T-Mobile Tuesdays: Win $2,300 for 2023!  2022-12-27   \n",
       "\n",
       "                platform  library  \n",
       "175058             HTML5   arcade  \n",
       "176260             HTML5   arcade  \n",
       "175153             Flash   arcade  \n",
       "176537             HTML5   arcade  \n",
       "172001             HTML5   arcade  \n",
       "177431             Flash  theatre  \n",
       "176112             HTML5   arcade  \n",
       "175448             HTML5   arcade  \n",
       "172414             HTML5   arcade  \n",
       "172155             HTML5   arcade  \n",
       "176208             HTML5   arcade  \n",
       "176171             HTML5   arcade  \n",
       "176557  Lightning Strike   arcade  \n",
       "176901             HTML5   arcade  \n",
       "177091             HTML5  theatre  \n",
       "176747             HTML5   arcade  \n",
       "175851             HTML5   arcade  \n",
       "175933             HTML5   arcade  \n",
       "175934             HTML5   arcade  \n",
       "177404             HTML5   arcade  "
      ]
     },
     "execution_count": 12,
     "metadata": {},
     "output_type": "execute_result"
    }
   ],
   "source": [
    "df_dates = df_dates[1:]\n",
    "df_dates[-20:]"
   ]
  },
  {
   "cell_type": "markdown",
   "id": "2b9bc87e",
   "metadata": {},
   "source": [
    "On the other side, here are the 20 most recent games. As expected, we find out that nowadays *HTML5* is the standard technology to make flash games, though some exceptions arise and there is even a *Flash* entry!"
   ]
  },
  {
   "cell_type": "markdown",
   "id": "b9746b06",
   "metadata": {},
   "source": [
    "For the sake of completeness, let's restrict our search to *Flash*-only games."
   ]
  },
  {
   "cell_type": "code",
   "execution_count": 25,
   "id": "cf2cb6e8",
   "metadata": {},
   "outputs": [
    {
     "data": {
      "text/html": [
       "<div>\n",
       "<style scoped>\n",
       "    .dataframe tbody tr th:only-of-type {\n",
       "        vertical-align: middle;\n",
       "    }\n",
       "\n",
       "    .dataframe tbody tr th {\n",
       "        vertical-align: top;\n",
       "    }\n",
       "\n",
       "    .dataframe thead th {\n",
       "        text-align: right;\n",
       "    }\n",
       "</style>\n",
       "<table border=\"1\" class=\"dataframe\">\n",
       "  <thead>\n",
       "    <tr style=\"text-align: right;\">\n",
       "      <th></th>\n",
       "      <th>title</th>\n",
       "      <th>releaseDate</th>\n",
       "      <th>platform</th>\n",
       "      <th>library</th>\n",
       "    </tr>\n",
       "  </thead>\n",
       "  <tbody>\n",
       "    <tr>\n",
       "      <th>175939</th>\n",
       "      <td>Claus.com</td>\n",
       "      <td>1995-01-01</td>\n",
       "      <td>Flash</td>\n",
       "      <td>arcade</td>\n",
       "    </tr>\n",
       "    <tr>\n",
       "      <th>97943</th>\n",
       "      <td>FutureWave Software, Inc. Website</td>\n",
       "      <td>1996-01-01</td>\n",
       "      <td>Flash</td>\n",
       "      <td>arcade</td>\n",
       "    </tr>\n",
       "    <tr>\n",
       "      <th>104809</th>\n",
       "      <td>HK Media Association website banner</td>\n",
       "      <td>1996-01-01</td>\n",
       "      <td>Flash</td>\n",
       "      <td>theatre</td>\n",
       "    </tr>\n",
       "    <tr>\n",
       "      <th>97921</th>\n",
       "      <td>CHAOS Website</td>\n",
       "      <td>1996-01-01</td>\n",
       "      <td>Flash</td>\n",
       "      <td>arcade</td>\n",
       "    </tr>\n",
       "    <tr>\n",
       "      <th>100122</th>\n",
       "      <td>Discrete Keyboard</td>\n",
       "      <td>1996-01-01</td>\n",
       "      <td>Flash</td>\n",
       "      <td>arcade</td>\n",
       "    </tr>\n",
       "    <tr>\n",
       "      <th>97904</th>\n",
       "      <td>2 Design's Navigational Demo</td>\n",
       "      <td>1996-01-01</td>\n",
       "      <td>Flash</td>\n",
       "      <td>arcade</td>\n",
       "    </tr>\n",
       "    <tr>\n",
       "      <th>98020</th>\n",
       "      <td>The Silicon Slip</td>\n",
       "      <td>1996-01-01</td>\n",
       "      <td>Flash</td>\n",
       "      <td>arcade</td>\n",
       "    </tr>\n",
       "    <tr>\n",
       "      <th>97944</th>\n",
       "      <td>Good Music Company Website</td>\n",
       "      <td>1996-01-01</td>\n",
       "      <td>Flash</td>\n",
       "      <td>arcade</td>\n",
       "    </tr>\n",
       "    <tr>\n",
       "      <th>99690</th>\n",
       "      <td>Simple, Tasty Buttons</td>\n",
       "      <td>1996-01-01</td>\n",
       "      <td>Flash</td>\n",
       "      <td>arcade</td>\n",
       "    </tr>\n",
       "    <tr>\n",
       "      <th>98037</th>\n",
       "      <td>Zygomedia Website</td>\n",
       "      <td>1996-01-01</td>\n",
       "      <td>Flash</td>\n",
       "      <td>arcade</td>\n",
       "    </tr>\n",
       "    <tr>\n",
       "      <th>104897</th>\n",
       "      <td>Volleynerd home page</td>\n",
       "      <td>1996-01-01</td>\n",
       "      <td>Flash</td>\n",
       "      <td>theatre</td>\n",
       "    </tr>\n",
       "    <tr>\n",
       "      <th>99628</th>\n",
       "      <td>First MouseOver Button</td>\n",
       "      <td>1996-01-01</td>\n",
       "      <td>Flash</td>\n",
       "      <td>arcade</td>\n",
       "    </tr>\n",
       "    <tr>\n",
       "      <th>106873</th>\n",
       "      <td>The Simpsons 1996 website</td>\n",
       "      <td>1996-01-01</td>\n",
       "      <td>Flash</td>\n",
       "      <td>theatre</td>\n",
       "    </tr>\n",
       "    <tr>\n",
       "      <th>105332</th>\n",
       "      <td>Past*Present*Future</td>\n",
       "      <td>1996-01-01</td>\n",
       "      <td>Flash</td>\n",
       "      <td>theatre</td>\n",
       "    </tr>\n",
       "    <tr>\n",
       "      <th>165097</th>\n",
       "      <td>Artcore</td>\n",
       "      <td>1996-01-01</td>\n",
       "      <td>Flash</td>\n",
       "      <td>arcade</td>\n",
       "    </tr>\n",
       "    <tr>\n",
       "      <th>123757</th>\n",
       "      <td>The Simpsons 1996 website normal version</td>\n",
       "      <td>1996-01-01</td>\n",
       "      <td>Flash</td>\n",
       "      <td>arcade</td>\n",
       "    </tr>\n",
       "    <tr>\n",
       "      <th>104785</th>\n",
       "      <td>Animated Screen Beans</td>\n",
       "      <td>1996-01-01</td>\n",
       "      <td>Flash</td>\n",
       "      <td>theatre</td>\n",
       "    </tr>\n",
       "    <tr>\n",
       "      <th>104886</th>\n",
       "      <td>The Hole in the Wall website intro</td>\n",
       "      <td>1996-01-01</td>\n",
       "      <td>Flash</td>\n",
       "      <td>theatre</td>\n",
       "    </tr>\n",
       "    <tr>\n",
       "      <th>142436</th>\n",
       "      <td>Rodney's CHIP and PEG PARK</td>\n",
       "      <td>1997-01-01</td>\n",
       "      <td>Flash</td>\n",
       "      <td>theatre</td>\n",
       "    </tr>\n",
       "    <tr>\n",
       "      <th>119974</th>\n",
       "      <td>The Secret Garden of Mutabor</td>\n",
       "      <td>1997-01-01</td>\n",
       "      <td>Flash</td>\n",
       "      <td>arcade</td>\n",
       "    </tr>\n",
       "  </tbody>\n",
       "</table>\n",
       "</div>"
      ],
      "text/plain": [
       "                                           title releaseDate platform  library\n",
       "175939                                 Claus.com  1995-01-01    Flash   arcade\n",
       "97943          FutureWave Software, Inc. Website  1996-01-01    Flash   arcade\n",
       "104809       HK Media Association website banner  1996-01-01    Flash  theatre\n",
       "97921                              CHAOS Website  1996-01-01    Flash   arcade\n",
       "100122                         Discrete Keyboard  1996-01-01    Flash   arcade\n",
       "97904               2 Design's Navigational Demo  1996-01-01    Flash   arcade\n",
       "98020                           The Silicon Slip  1996-01-01    Flash   arcade\n",
       "97944                 Good Music Company Website  1996-01-01    Flash   arcade\n",
       "99690                      Simple, Tasty Buttons  1996-01-01    Flash   arcade\n",
       "98037                          Zygomedia Website  1996-01-01    Flash   arcade\n",
       "104897                      Volleynerd home page  1996-01-01    Flash  theatre\n",
       "99628                     First MouseOver Button  1996-01-01    Flash   arcade\n",
       "106873                 The Simpsons 1996 website  1996-01-01    Flash  theatre\n",
       "105332                       Past*Present*Future  1996-01-01    Flash  theatre\n",
       "165097                                   Artcore  1996-01-01    Flash   arcade\n",
       "123757  The Simpsons 1996 website normal version  1996-01-01    Flash   arcade\n",
       "104785                     Animated Screen Beans  1996-01-01    Flash  theatre\n",
       "104886        The Hole in the Wall website intro  1996-01-01    Flash  theatre\n",
       "142436                Rodney's CHIP and PEG PARK  1997-01-01    Flash  theatre\n",
       "119974              The Secret Garden of Mutabor  1997-01-01    Flash   arcade"
      ]
     },
     "execution_count": 25,
     "metadata": {},
     "output_type": "execute_result"
    }
   ],
   "source": [
    "df_dates.loc[(df_dates.platform == \"Flash\")][:20]"
   ]
  },
  {
   "cell_type": "markdown",
   "id": "d30cb52e",
   "metadata": {},
   "source": [
    "The first *Flash* game is *Claus.com* from 1995. We notice that most of these are actually websites built in *Flash* and not exactly games or animations."
   ]
  },
  {
   "cell_type": "markdown",
   "id": "54fba3a0",
   "metadata": {},
   "source": [
    "To take an overall view, let's compare the various platforms by games count, considering the top five."
   ]
  },
  {
   "cell_type": "code",
   "execution_count": 26,
   "id": "a591d704",
   "metadata": {},
   "outputs": [
    {
     "data": {
      "text/plain": [
       "Flash        59047\n",
       "HTML5        10904\n",
       "Shockwave     1999\n",
       "Unity          875\n",
       "Java           751\n",
       "Name: platform, dtype: int64"
      ]
     },
     "execution_count": 26,
     "metadata": {},
     "output_type": "execute_result"
    }
   ],
   "source": [
    "top_platforms = df_dates[\"platform\"].value_counts()[:5]\n",
    "top_platforms"
   ]
  },
  {
   "cell_type": "code",
   "execution_count": 81,
   "id": "29edee71",
   "metadata": {},
   "outputs": [
    {
     "data": {
      "image/png": "[encoded data removed]",
      "text/plain": [
       "<Figure size 640x480 with 1 Axes>"
      ]
     },
     "metadata": {},
     "output_type": "display_data"
    }
   ],
   "source": [
    "colors = [\"red\", \"orange\", \"green\", \"black\", \"blue\"]\n",
    "sns.barplot(x = top_platforms.values, y = top_platforms.index, orient = \"h\", palette = colors).set(title = \"Top five platforms distribution\");"
   ]
  },
  {
   "cell_type": "code",
   "execution_count": 82,
   "id": "17079019",
   "metadata": {},
   "outputs": [
    {
     "data": {
      "image/png": "[encoded data removed]",
      "text/plain": [
       "<Figure size 640x480 with 1 Axes>"
      ]
     },
     "metadata": {},
     "output_type": "display_data"
    }
   ],
   "source": [
    "labels = top_platforms.index\n",
    "sizes = top_platforms.values / top_platforms.values.sum() * 100\n",
    "plt.pie(sizes, labels = labels, colors = colors)\n",
    "plt.title(\"Top ten platforms distribution\")\n",
    "plt.show()"
   ]
  },
  {
   "cell_type": "markdown",
   "id": "2ed945c3",
   "metadata": {},
   "source": [
    "*Flash* is clearly the winner, followed by a rising *HTML5* and its old companion *Shockwave*, with *Unity* and *Java* as outsiders."
   ]
  },
  {
   "cell_type": "markdown",
   "id": "1c2163e9",
   "metadata": {},
   "source": [
    "Web games were at their peak in the 2000s and many gamers are nostalgic about that decade, which could be considered a golden age. Thus, we expect to see that most of the games in our database have been released between 2000 and 2009. Let's check it out, while also comparing technologies against years."
   ]
  },
  {
   "cell_type": "code",
   "execution_count": 84,
   "id": "382f5097",
   "metadata": {},
   "outputs": [
    {
     "data": {
      "image/png": "[encoded data removed]",
      "text/plain": [
       "<Figure size 640x480 with 1 Axes>"
      ]
     },
     "metadata": {},
     "output_type": "display_data"
    }
   ],
   "source": [
    "df_year_platform = df_dates.loc[(df_dates[\"platform\"].isin(top_platforms.index)), :].copy()\n",
    "years = df_year_platform[\"releaseDate\"].astype(str).str[:4]\n",
    "df_year_platform[df_year_platform.columns[1]] = years.values\n",
    "df_year_platform.groupby([\"releaseDate\", \"platform\"]).size().unstack().plot(kind = 'bar', stacked = True, color = [\"red\", \"orange\", \"blue\", \"green\", \"black\"]);"
   ]
  },
  {
   "cell_type": "markdown",
   "id": "ba1f0582",
   "metadata": {},
   "source": [
    "Et voila! As we were expecting, web games have steadily risen in popularity in the first decade of the third millennium, reached a peak in 2011 and today their number is slowly decreasing, apart from some fluctuations. This does not mean that fewer games are being made: it could simply be that there is less incentive to curate and preserve a recent game written in a technology which will probably stay on for a long time compared to an old game with a nostalgic value that runs the risk to disappear at any time.\n",
    "\n",
    "*Flash* dominated the scene between 2000 and 2017 (it's impressive to see that it lasted so long), while *HTML5* started to be relevant around 2013. *Shockwave* was most popular between 1996 and 2000, but continued to be used until 2007. *Unity* had six years of relative notoriety (2010-2016) and lastly, Java, despite being one of the first technologies eligible for making web games, has never known much use and moved off the radar around 2010."
   ]
  }
 ],
 "metadata": {
  "kernelspec": {
   "display_name": "Python 3 (ipykernel)",
   "language": "python",
   "name": "python3"
  },
  "language_info": {
   "codemirror_mode": {
    "name": "ipython",
    "version": 3
   },
   "file_extension": ".py",
   "mimetype": "text/x-python",
   "name": "python",
   "nbconvert_exporter": "python",
   "pygments_lexer": "ipython3",
   "version": "3.10.4"
  }
 },
 "nbformat": 4,
 "nbformat_minor": 5
}
